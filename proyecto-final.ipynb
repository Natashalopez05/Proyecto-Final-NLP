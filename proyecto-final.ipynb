{
 "cells": [
  {
   "cell_type": "markdown",
   "metadata": {},
   "source": [
    "<div style=\"background:#FFFFE0;padding:20px;color:#000000;margin-top:10px;\">\n",
    "Steam games dataset 2024\n",
    "</div>"
   ]
  },
  {
   "cell_type": "markdown",
   "metadata": {},
   "source": [
    "<div style=\"background:#FFFFE0;padding:20px;color:#000000;margin-top:10px;\">\n",
    "<strong>Extraccion de informacion</strong>\n",
    "\n",
    "<p>\n",
    "Recuperdor de información, para saber  que tipo de contenido se desea como resumenes, detallesm reseñas, edades\n",
    "</p>\n",
    "</div>"
   ]
  },
  {
   "cell_type": "markdown",
   "metadata": {},
   "source": []
  },
  {
   "cell_type": "code",
   "execution_count": 9,
   "metadata": {},
   "outputs": [],
   "source": [
    "import spacy_transformers\n",
    "import pandas as pd\n",
    "import re\n",
    "import spacy\n",
    "import textacy\n",
    "import visualise_spacy_tree\n",
    "import glob\n",
    "from spacy.matcher import Matcher \n",
    "import os\n",
    "import sys\n",
    "import nltk\n",
    "import en_core_web_trf\n",
    "import re\n",
    "from pathlib import Path\n",
    "from pprint import pprint\n",
    "from sklearn_crfsuite import CRF\n",
    "from nltk.corpus import opinion_lexicon\n",
    "from spacy.matcher import Matcher\n",
    "from nltk import pos_tag\n",
    "from nltk.tokenize import word_tokenize\n",
    "from sklearn_crfsuite import metrics\n",
    "import matplotlib.pyplot as plt\n",
    "from sklearn.metrics import confusion_matrix\n",
    "import seaborn as sns\n",
    "\n",
    "import numpy as np\n",
    "from collections import defaultdict\n",
    "from collections import Counter"
   ]
  },
  {
   "cell_type": "code",
   "execution_count": 10,
   "metadata": {},
   "outputs": [],
   "source": [
    "pd.set_option('display.max_colwidth', 2000)\n",
    "pd.options.display.max_rows=100"
   ]
  },
  {
   "cell_type": "markdown",
   "metadata": {},
   "source": [
    "<div style=\"background:#FFFFE0;padding:20px;color:#000000;margin-top:10px;\">\n",
    "Realizamos esta linea ya que teniamos que definir cada columna con su tipo de dato para no tener problemas luego\n",
    "</div>"
   ]
  },
  {
   "cell_type": "code",
   "execution_count": 11,
   "metadata": {},
   "outputs": [],
   "source": [
    "dtype_dict = {\n",
    "    'AppID': 'int64',\n",
    "    'name': 'object',\n",
    "    'release_date': 'object',\n",
    "    'required_age': 'object',\n",
    "    'price': 'float64',\n",
    "    'dlc_count': 'float64',\n",
    "    'detailed_description': 'object',\n",
    "    'about_the_game': 'object',\n",
    "    'short_description': 'object',\n",
    "    'reviews': 'object',\n",
    "    'header_image': 'object',\n",
    "    'website': 'object',\n",
    "    'support_url': 'object',\n",
    "    'support_email': 'object',\n",
    "    'windows': 'object',\n",
    "    'mac': 'object',\n",
    "    'linux': 'object',\n",
    "    'metacritic_score': 'object',\n",
    "    'metacritic_url': 'object',\n",
    "    'achievements': 'object',\n",
    "    'recommendations': 'object',\n",
    "    'notes': 'object',\n",
    "    'supported_languages': 'object',\n",
    "    'full_audio_languages': 'object',\n",
    "    'packages': 'object',\n",
    "    \n",
    "    'Unnamed: 87': 'float64',\n",
    "    'Unnamed: 88': 'float64',\n",
    "    'Unnamed: 89': 'float64'\n",
    "}\n"
   ]
  },
  {
   "cell_type": "markdown",
   "metadata": {},
   "source": [
    "<div style=\"background:#FFFFE0;padding:20px;color:#000000;margin-top:10px;\">\n",
    "Leemos el dataset \n",
    "</div>"
   ]
  },
  {
   "cell_type": "code",
   "execution_count": 12,
   "metadata": {},
   "outputs": [],
   "source": [
    "df = pd.read_csv('games_may2024_cleaned.csv',  dtype=dtype_dict, low_memory=False)"
   ]
  },
  {
   "cell_type": "markdown",
   "metadata": {},
   "source": [
    "<div style=\"background:#FFFFE0;padding:20px;color:#000000;margin-top:10px;\">\n",
    "Elegimos las columnas que queremos extraer su informacion\n",
    "</div>"
   ]
  },
  {
   "cell_type": "code",
   "execution_count": 13,
   "metadata": {},
   "outputs": [],
   "source": [
    "df = df[[ \"about_the_game\", \"short_description\",\"genres\", \"supported_languages\"]]"
   ]
  },
  {
   "cell_type": "markdown",
   "metadata": {},
   "source": [
    "<div style=\"background:#FFFFE0;padding:20px;color:#000000;margin-top:10px;\">\n",
    "Realizamos estas 2 celdas ya que no queremos los NAN en cada fila de cada columna\n",
    "</div>"
   ]
  },
  {
   "cell_type": "code",
   "execution_count": 14,
   "metadata": {},
   "outputs": [],
   "source": [
    "df_cleaned = df.dropna()"
   ]
  },
  {
   "cell_type": "markdown",
   "metadata": {},
   "source": [
    "<div style=\"background:#FFFFE0;padding:20px;color:#000000;margin-top:10px;\">\n",
    "Podemos ver el df sin los NAN en cada fila de cada columna \n",
    "</div>"
   ]
  },
  {
   "cell_type": "code",
   "execution_count": 15,
   "metadata": {},
   "outputs": [
    {
     "data": {
      "text/html": [
       "<div>\n",
       "<style scoped>\n",
       "    .dataframe tbody tr th:only-of-type {\n",
       "        vertical-align: middle;\n",
       "    }\n",
       "\n",
       "    .dataframe tbody tr th {\n",
       "        vertical-align: top;\n",
       "    }\n",
       "\n",
       "    .dataframe thead th {\n",
       "        text-align: right;\n",
       "    }\n",
       "</style>\n",
       "<table border=\"1\" class=\"dataframe\">\n",
       "  <thead>\n",
       "    <tr style=\"text-align: right;\">\n",
       "      <th></th>\n",
       "      <th>about_the_game</th>\n",
       "      <th>short_description</th>\n",
       "      <th>genres</th>\n",
       "      <th>supported_languages</th>\n",
       "    </tr>\n",
       "  </thead>\n",
       "  <tbody>\n",
       "    <tr>\n",
       "      <th>0</th>\n",
       "      <td>for over two decades counterstrike has offered an elite competitive experience one shaped by millions of players from across the globe and now the next chapter in the cs story is about to begin this is counterstrike 2 a free upgrade to csgo counterstrike 2 marks the largest technical leap in counterstrike’s history built on the source 2 engine counterstrike 2 is modernized with realistic physicallybased rendering state of the art networking and upgraded community workshop tools in addition to the classic objectivefocused gameplay that counterstrike pioneered in 1999 counterstrike 2 features allnew cs ratings with the updated premier mode global and regional leaderboards upgraded and overhauled maps gamechanging dynamic smoke grenades tickrateindependent gameplay redesigned visual effects and audio all items from csgo moving forward to cs2</td>\n",
       "      <td>for over two decades counterstrike has offered an elite competitive experience one shaped by millions of players from across the globe and now the next chapter in the cs story is about to begin this is counterstrike 2</td>\n",
       "      <td>action free to play</td>\n",
       "      <td>czech danish dutch english finnish french german hungarian italian japanese korean norwegian polish portuguese  portugal portuguese  brazil romanian russian simplified chinese spanish  spain swedish thai traditional chinese turkish bulgarian ukrainian greek spanish  latin america vietnamese</td>\n",
       "    </tr>\n",
       "    <tr>\n",
       "      <th>1</th>\n",
       "      <td>land loot survive play pubg battlegrounds for free land on strategic locations loot weapons and supplies and survive to become the last team standing across various diverse battlegrounds squad up and join the battlegrounds for the original battle royale experience that only pubg battlegrounds can offer this content download will also provide access to the battlegrounds test server which requires a separate download to play  optional ingame purchases available</td>\n",
       "      <td>play pubg battlegrounds for free land on strategic locations loot weapons and supplies and survive to become the last team standing across various diverse battlegrounds squad up and join the battlegrounds for the original battle royale experience that only pubg battlegrounds can offer</td>\n",
       "      <td>action adventure massively multiplayer free to play</td>\n",
       "      <td>english korean simplified chinese french german spanish  spain arabic japanese polish portuguese  portugal russian turkish thai italian portuguese  brazil traditional chinese ukrainian</td>\n",
       "    </tr>\n",
       "    <tr>\n",
       "      <th>2</th>\n",
       "      <td>the mostplayed game on steam every day millions of players worldwide enter battle as one of over a hundred dota heroes and no matter if its their 10th hour of play or 1000th theres always something new to discover with regular updates that ensure a constant evolution of gameplay features and heroes dota 2 has truly taken on a life of its own one battlefield infinite possibilities when it comes to diversity of heroes abilities and powerful items dota boasts an endless arrayno two games are the same any hero can fill multiple roles and theres an abundance of items to help meet the needs of each game dota doesnt provide limitations on how to play it empowers you to express your own style all heroes are free competitive balance is dotas crown jewel and to ensure everyone is playing on an even field the core content of the gamelike the vast pool of heroesis available to all players fans can collect cosmetics for heroes and fun addons for the world they inhabit but everything you need to play is already included before you join your first match bring your friends and party up dota is deep and constantly evolving but its never too late to join learn the ropes playing coop vs bots sharpen your skills in the hero demo mode jump into the behavior and skillbased matchmaking system that ensures youll be matched with the right players each game</td>\n",
       "      <td>every day millions of players worldwide enter battle as one of over a hundred dota heroes and no matter if its their 10th hour of play or 1000th theres always something new to discover with regular updates that ensure a constant evolution of gameplay features and heroes dota 2 has taken on a life of its own</td>\n",
       "      <td>action strategy free to play</td>\n",
       "      <td>bulgarian czech danish dutch english finnish french german greek hungarian italian japanese korean norwegian polish portuguese  portugal portuguese  brazil romanian russian simplified chinese spanish  spain swedish thai traditional chinese turkish ukrainian spanish  latin america vietnamese</td>\n",
       "    </tr>\n",
       "    <tr>\n",
       "      <th>3</th>\n",
       "      <td>when a young street hustler a retired bank robber and a terrifying psychopath find themselves entangled with some of the most frightening and deranged elements of the criminal underworld the us government and the entertainment industry they must pull off a series of dangerous heists to survive in a ruthless city in which they can trust nobody least of all each other grand theft auto v for pc offers players the option to explore the awardwinning world of los santos and blaine county in resolutions of up to 4k and beyond as well as the chance to experience the game running at 60 frames per second the game offers players a huge range of pcspecific customization options including over 25 separate configurable settings for texture quality shaders tessellation antialiasing and more as well as support and extensive customization for mouse and keyboard controls additional options include a population density slider to control car and pedestrian traffic as well as dual and triple monitor support 3d compatibility and plugandplay controller support grand theft auto v for pc also includes grand theft auto online with support for 30 players and two spectators grand theft auto online for pc will include all existing gameplay upgrades and rockstarcreated content released since the launch of grand theft auto online including heists and adversary modes the pc version of grand theft auto v and grand theft auto online features first person mode giving players the chance to explore the incredibly detailed world of los santos and blaine county in an entirely new way grand theft auto v for pc also brings the debut of the rockstar editor a powerful suite of creative tools to quickly and easily capture edit and share game footage from within grand theft auto v and grand theft auto online the rockstar editor’s director mode allows players the ability to stage their own scenes using prominent story characters pedestrians and even animals to bring their vision to life along with advanced ...</td>\n",
       "      <td>grand theft auto v for pc offers players the option to explore the awardwinning world of los santos and blaine county in resolutions of up to 4k and beyond as well as the chance to experience the game running at 60 frames per second</td>\n",
       "      <td>action adventure</td>\n",
       "      <td>english french italian german spanish  spain korean polish portuguese  brazil russian traditional chinese japanese simplified chinese spanish  latin america</td>\n",
       "    </tr>\n",
       "    <tr>\n",
       "      <th>4</th>\n",
       "      <td>one of the best firstperson shooters ever made 1010  gamespot tom clancys rainbow six siege is an elite realistic tactical teambased shooter where superior planning and execution triumph it features 5v5 attack vs defense gameplay and intense closequarters combat in destructible environments engage in a brandnew style of assault using an unrivaled level of destruction and gadgetry on defense coordinate with your team to transform your environments into strongholds trap fortify and create defensive systems to prevent being breached by the enemy on attack lead your team through narrow corridors barricaded doorways and reinforced walls combine tactical maps observation drones rappelling and more to plan attack and defuse every situation choose from dozens of highly trained special forces operators from around the world deploy the latest technology to track enemy movement shatter walls to open new lines of fire breach ceilings and floors to create new access points employ every weapon and gadget from your deadly arsenal to locate manipulate and destroy your enemies and the environment around them experience new strategies and tactics as rainbow six siege evolves over time change the rules of siege with every update that includes new operators weapons gadgets and maps evolve alongside the everchanging landscape with your friends and become the most experienced and dangerous operators out there compete against others from around the world in ranked match play grab your best squad and join the competitive community in weekly tournaments or watch the best professional teams battle it out in the rainbow six siege pro league</td>\n",
       "      <td>tom clancys rainbow six siege is an elite tactical teambased shooter where superior planning and execution triumph</td>\n",
       "      <td>action</td>\n",
       "      <td>english french italian german spanish  spain czech dutch japanese korean polish portuguese  brazil russian traditional chinese simplified chinese turkish thai</td>\n",
       "    </tr>\n",
       "    <tr>\n",
       "      <th>...</th>\n",
       "      <td>...</td>\n",
       "      <td>...</td>\n",
       "      <td>...</td>\n",
       "      <td>...</td>\n",
       "    </tr>\n",
       "    <tr>\n",
       "      <th>82804</th>\n",
       "      <td>circuit breaker is a turnbased strategy game which forces the player to call upon the aid of a variety of audiences and their unique abilities to turn the tides of battle in your favor take control of the rookie as you step into each circuit and fight against many different types of opposing robots mastering both positioning yourself correctly on the field and knowing when to invoke the power of each audience will be key to achieving victory in the circuit breaker pro league as you battle your way through the circuits youll gain powerful upgrades that will help you overcome the more powerful foes that you will meet on your journey through the different levels of the league unlock new ways to move around the map augmentations for your existing abilities and new upgrades for the audience abilities to help you battle the overwhelming strength of the bots</td>\n",
       "      <td>in the cyberfuture of 2009 the most popular sport has become arena fighting challengers from all over gather to attempt to conquer gauntlets of robotic opponents for fortune and fame</td>\n",
       "      <td>casual indie strategy</td>\n",
       "      <td>english</td>\n",
       "    </tr>\n",
       "    <tr>\n",
       "      <th>82805</th>\n",
       "      <td>chess vs chat allows streamers to host chess matches where your chatters actively participate and engage with the match via your twitch stream simply by typing the moves they would like to play right in the chat  you can play against your chat or let chat brawl among themselfs while there are more apps that do just that chess vs chat tries to step up the game by having more features that expand and smooth the experience the streamer sets the timers presses play on the game mode they like and the match is going chatters get sorted in teams with their names emotes and votes wil be shown in the game window bits and subs wil be highlighted further the names scale nice and dynamically this game is standalone and does not require any additional accounts or authentication besides twitch you authenticate to twitch using oauth for a safe and simple login experience after logging in for the first time your credentials are encrypted and automatically remembered there are also no applications or websites beside your stream your chatters need to use they just type moves they like to see right in twitch chat at the end of the turn the votes get tallied and the move with the most votes gets played of course the timer can be paused to give your slow chatters a bit more time you can also choose to play without a timer and force turns to end whenever you please during the games your chatters accumulate points by participating after the game a highscore displaying the points will show the top participants a highscore of the game itself and a historical highscore is available the user database created for this information is stored as a text file right on your computer so no external sources   you can play a regular game from the start or you can choose to play from a set position by loading fen code’s from your clipboard right into the game this way you play from a fixed starting position or even try to load chess puzzles to play with chat not only can the application read chat bu...</td>\n",
       "      <td>allow your chatters to actively participate and engage with your chess stream simply by typing the moves they would like to see in the chat  all without the use of 3th party applications includes a highscore match history twitch emotes twitch bot auto moderating and tons of customization</td>\n",
       "      <td>indie strategy</td>\n",
       "      <td>english</td>\n",
       "    </tr>\n",
       "    <tr>\n",
       "      <th>82806</th>\n",
       "      <td>orbtangle is a simplistic puzzle game which requires you to swap the positions of orbs in order to untangle the lines with which they are connected only once none of the lines are crossing each other the level is completed the game provides an endless mode in three difficulties and three additional campaigns with over 100 additional levels to unlock the colors of the game elements are fully customizable and can be set to your liking</td>\n",
       "      <td>orbtangle is a simplistic puzzle game which requires you to swap the positions of orbs in order to untangle the lines with which they are connected</td>\n",
       "      <td>indie</td>\n",
       "      <td>english</td>\n",
       "    </tr>\n",
       "    <tr>\n",
       "      <th>82807</th>\n",
       "      <td>play with friends play with or against your friends in flashlight choose to battle through the roguelite story experience solo or cooperatively with your friends challenge others in capture the flag and team deathmatch pvp modes randomized levels and a variety of enemies fight against waves of different zombies and bosses through procedurally generated levels and randomized events never have the same exact experience twice equipment mods search for and gather equipment mods for your player character and weapons many combinations exist and can be used for fun team comps crafting build your own turrets and barriers that will halt the progress of the horde enemy mercenaries encounter and defeat enemy mercenary groups as clear out different zones potentially trapped with enemy turrets enemy mercenaries are dangerous foes as they are fully equipped with the same capabilities as the players rank up and choose from various skills and tech drops choose between four different mercenary groups to join each group has a different set of perks to choose from as you move up the ranks and prove yourself by earning merc cred as you go the more things you kill the more cred you earn to rank up call in air drops that contain supplies and technical upgrades for your weaponry that will turn the tide of battle</td>\n",
       "      <td>salvage scrap build defenses and rankup to survive against the hordes of zombies and enemy mercenaries in an action packed looter shooter roguelite survival or fight head to head with other players in capture the flag and team death match</td>\n",
       "      <td>action adventure indie</td>\n",
       "      <td>english</td>\n",
       "    </tr>\n",
       "    <tr>\n",
       "      <th>82808</th>\n",
       "      <td>wonfourn challenges you to fulfill your destiny by embarking on a grand adventure seeking fame fortune and glory the firstborn chosen child from each of the games 6 nations have come of age and must prove their worth in an epic quest of survival set sail and explore 36 islands each with its own challenges and surprises protect your kingdom with your life master the trades of archery spear throwing and jousting in glorious vr trade goods between islands discover and exploit trading routes and watch out for bands of pirates seeking your loot control the battle from the deck of your ship and feel the canons roar as you sink your opponent cross the ocean seeking rumored riches and spend your fortune on weaponry needed for battle defeat is not an option key features 36 islands to explore 6 nations to play exciting quests merchant trading pirates and sea battles jousting spear throwing and archery blacksmiths forge</td>\n",
       "      <td>wonfourn challenges you to fulfill your destiny by embarking on a grand adventure seeking fame fortune and glory the firstborn chosen child from each of the games 6 nations have come of age and must prove their worth in an epic quest of survival</td>\n",
       "      <td>violent action adventure indie strategy</td>\n",
       "      <td>english french italian german spanish  spain portuguese  portugal portuguese  brazil</td>\n",
       "    </tr>\n",
       "  </tbody>\n",
       "</table>\n",
       "<p>82809 rows × 4 columns</p>\n",
       "</div>"
      ],
      "text/plain": [
       "                                                                                                                                                                                                                                                                                                                                                                                                                                                                                                                                                                                                                                                                                                                                                                                                                                                                                                                                                                                                                                                                                                                                                                                                                                                                                                                                                                                                                                                                                                                                                                                                                                                                                                                                                                                                                                                                                                                                                                                                                                                                        about_the_game  \\\n",
       "0                                                                                                                                                                                                                                                                                                                                                                                                                                                                                                                                                                                                                                                                                                                                                                                                                                                                                                                                                                                                                                                                                                                                                                                                  for over two decades counterstrike has offered an elite competitive experience one shaped by millions of players from across the globe and now the next chapter in the cs story is about to begin this is counterstrike 2 a free upgrade to csgo counterstrike 2 marks the largest technical leap in counterstrike’s history built on the source 2 engine counterstrike 2 is modernized with realistic physicallybased rendering state of the art networking and upgraded community workshop tools in addition to the classic objectivefocused gameplay that counterstrike pioneered in 1999 counterstrike 2 features allnew cs ratings with the updated premier mode global and regional leaderboards upgraded and overhauled maps gamechanging dynamic smoke grenades tickrateindependent gameplay redesigned visual effects and audio all items from csgo moving forward to cs2    \n",
       "1                                                                                                                                                                                                                                                                                                                                                                                                                                                                                                                                                                                                                                                                                                                                                                                                                                                                                                                                                                                                                                                                                                                                                                                                                                                                                                                                                                                                                                                                                                                                                                                                      land loot survive play pubg battlegrounds for free land on strategic locations loot weapons and supplies and survive to become the last team standing across various diverse battlegrounds squad up and join the battlegrounds for the original battle royale experience that only pubg battlegrounds can offer this content download will also provide access to the battlegrounds test server which requires a separate download to play  optional ingame purchases available   \n",
       "2                                                                                                                                                                                                                                                                                                                                                                                                                                                                                                                                                                                                                                                                            the mostplayed game on steam every day millions of players worldwide enter battle as one of over a hundred dota heroes and no matter if its their 10th hour of play or 1000th theres always something new to discover with regular updates that ensure a constant evolution of gameplay features and heroes dota 2 has truly taken on a life of its own one battlefield infinite possibilities when it comes to diversity of heroes abilities and powerful items dota boasts an endless arrayno two games are the same any hero can fill multiple roles and theres an abundance of items to help meet the needs of each game dota doesnt provide limitations on how to play it empowers you to express your own style all heroes are free competitive balance is dotas crown jewel and to ensure everyone is playing on an even field the core content of the gamelike the vast pool of heroesis available to all players fans can collect cosmetics for heroes and fun addons for the world they inhabit but everything you need to play is already included before you join your first match bring your friends and party up dota is deep and constantly evolving but its never too late to join learn the ropes playing coop vs bots sharpen your skills in the hero demo mode jump into the behavior and skillbased matchmaking system that ensures youll be matched with the right players each game   \n",
       "3      when a young street hustler a retired bank robber and a terrifying psychopath find themselves entangled with some of the most frightening and deranged elements of the criminal underworld the us government and the entertainment industry they must pull off a series of dangerous heists to survive in a ruthless city in which they can trust nobody least of all each other grand theft auto v for pc offers players the option to explore the awardwinning world of los santos and blaine county in resolutions of up to 4k and beyond as well as the chance to experience the game running at 60 frames per second the game offers players a huge range of pcspecific customization options including over 25 separate configurable settings for texture quality shaders tessellation antialiasing and more as well as support and extensive customization for mouse and keyboard controls additional options include a population density slider to control car and pedestrian traffic as well as dual and triple monitor support 3d compatibility and plugandplay controller support grand theft auto v for pc also includes grand theft auto online with support for 30 players and two spectators grand theft auto online for pc will include all existing gameplay upgrades and rockstarcreated content released since the launch of grand theft auto online including heists and adversary modes the pc version of grand theft auto v and grand theft auto online features first person mode giving players the chance to explore the incredibly detailed world of los santos and blaine county in an entirely new way grand theft auto v for pc also brings the debut of the rockstar editor a powerful suite of creative tools to quickly and easily capture edit and share game footage from within grand theft auto v and grand theft auto online the rockstar editor’s director mode allows players the ability to stage their own scenes using prominent story characters pedestrians and even animals to bring their vision to life along with advanced ...   \n",
       "4                                                                                                                                                                                                                                                                                                                                                                            one of the best firstperson shooters ever made 1010  gamespot tom clancys rainbow six siege is an elite realistic tactical teambased shooter where superior planning and execution triumph it features 5v5 attack vs defense gameplay and intense closequarters combat in destructible environments engage in a brandnew style of assault using an unrivaled level of destruction and gadgetry on defense coordinate with your team to transform your environments into strongholds trap fortify and create defensive systems to prevent being breached by the enemy on attack lead your team through narrow corridors barricaded doorways and reinforced walls combine tactical maps observation drones rappelling and more to plan attack and defuse every situation choose from dozens of highly trained special forces operators from around the world deploy the latest technology to track enemy movement shatter walls to open new lines of fire breach ceilings and floors to create new access points employ every weapon and gadget from your deadly arsenal to locate manipulate and destroy your enemies and the environment around them experience new strategies and tactics as rainbow six siege evolves over time change the rules of siege with every update that includes new operators weapons gadgets and maps evolve alongside the everchanging landscape with your friends and become the most experienced and dangerous operators out there compete against others from around the world in ranked match play grab your best squad and join the competitive community in weekly tournaments or watch the best professional teams battle it out in the rainbow six siege pro league   \n",
       "...                                                                                                                                                                                                                                                                                                                                                                                                                                                                                                                                                                                                                                                                                                                                                                                                                                                                                                                                                                                                                                                                                                                                                                                                                                                                                                                                                                                                                                                                                                                                                                                                                                                                                                                                                                                                                                                                                                                                                                                                                                                                                ...   \n",
       "82804                                                                                                                                                                                                                                                                                                                                                                                                                                                                                                                                                                                                                                                                                                                                                                                                                                                                                                                                                                                                                                                                                                                                                                                  circuit breaker is a turnbased strategy game which forces the player to call upon the aid of a variety of audiences and their unique abilities to turn the tides of battle in your favor take control of the rookie as you step into each circuit and fight against many different types of opposing robots mastering both positioning yourself correctly on the field and knowing when to invoke the power of each audience will be key to achieving victory in the circuit breaker pro league as you battle your way through the circuits youll gain powerful upgrades that will help you overcome the more powerful foes that you will meet on your journey through the different levels of the league unlock new ways to move around the map augmentations for your existing abilities and new upgrades for the audience abilities to help you battle the overwhelming strength of the bots   \n",
       "82805  chess vs chat allows streamers to host chess matches where your chatters actively participate and engage with the match via your twitch stream simply by typing the moves they would like to play right in the chat  you can play against your chat or let chat brawl among themselfs while there are more apps that do just that chess vs chat tries to step up the game by having more features that expand and smooth the experience the streamer sets the timers presses play on the game mode they like and the match is going chatters get sorted in teams with their names emotes and votes wil be shown in the game window bits and subs wil be highlighted further the names scale nice and dynamically this game is standalone and does not require any additional accounts or authentication besides twitch you authenticate to twitch using oauth for a safe and simple login experience after logging in for the first time your credentials are encrypted and automatically remembered there are also no applications or websites beside your stream your chatters need to use they just type moves they like to see right in twitch chat at the end of the turn the votes get tallied and the move with the most votes gets played of course the timer can be paused to give your slow chatters a bit more time you can also choose to play without a timer and force turns to end whenever you please during the games your chatters accumulate points by participating after the game a highscore displaying the points will show the top participants a highscore of the game itself and a historical highscore is available the user database created for this information is stored as a text file right on your computer so no external sources   you can play a regular game from the start or you can choose to play from a set position by loading fen code’s from your clipboard right into the game this way you play from a fixed starting position or even try to load chess puzzles to play with chat not only can the application read chat bu...   \n",
       "82806                                                                                                                                                                                                                                                                                                                                                                                                                                                                                                                                                                                                                                                                                                                                                                                                                                                                                                                                                                                                                                                                                                                                                                                                                                                                                                                                                                                                                                                                                                                                                                                                                             orbtangle is a simplistic puzzle game which requires you to swap the positions of orbs in order to untangle the lines with which they are connected only once none of the lines are crossing each other the level is completed the game provides an endless mode in three difficulties and three additional campaigns with over 100 additional levels to unlock the colors of the game elements are fully customizable and can be set to your liking   \n",
       "82807                                                                                                                                                                                                                                                                                                                                                                                                                                                                                                                                                                                                                                                                                                                   play with friends play with or against your friends in flashlight choose to battle through the roguelite story experience solo or cooperatively with your friends challenge others in capture the flag and team deathmatch pvp modes randomized levels and a variety of enemies fight against waves of different zombies and bosses through procedurally generated levels and randomized events never have the same exact experience twice equipment mods search for and gather equipment mods for your player character and weapons many combinations exist and can be used for fun team comps crafting build your own turrets and barriers that will halt the progress of the horde enemy mercenaries encounter and defeat enemy mercenary groups as clear out different zones potentially trapped with enemy turrets enemy mercenaries are dangerous foes as they are fully equipped with the same capabilities as the players rank up and choose from various skills and tech drops choose between four different mercenary groups to join each group has a different set of perks to choose from as you move up the ranks and prove yourself by earning merc cred as you go the more things you kill the more cred you earn to rank up call in air drops that contain supplies and technical upgrades for your weaponry that will turn the tide of battle   \n",
       "82808                                                                                                                                                                                                                                                                                                                                                                                                                                                                                                                                                                                                                                                                                                                                                                                                                                                                                                                                                                                                                                                                                                                      wonfourn challenges you to fulfill your destiny by embarking on a grand adventure seeking fame fortune and glory the firstborn chosen child from each of the games 6 nations have come of age and must prove their worth in an epic quest of survival set sail and explore 36 islands each with its own challenges and surprises protect your kingdom with your life master the trades of archery spear throwing and jousting in glorious vr trade goods between islands discover and exploit trading routes and watch out for bands of pirates seeking your loot control the battle from the deck of your ship and feel the canons roar as you sink your opponent cross the ocean seeking rumored riches and spend your fortune on weaponry needed for battle defeat is not an option key features 36 islands to explore 6 nations to play exciting quests merchant trading pirates and sea battles jousting spear throwing and archery blacksmiths forge    \n",
       "\n",
       "                                                                                                                                                                                                                                                                                                          short_description  \\\n",
       "0                                                                                                 for over two decades counterstrike has offered an elite competitive experience one shaped by millions of players from across the globe and now the next chapter in the cs story is about to begin this is counterstrike 2   \n",
       "1                             play pubg battlegrounds for free land on strategic locations loot weapons and supplies and survive to become the last team standing across various diverse battlegrounds squad up and join the battlegrounds for the original battle royale experience that only pubg battlegrounds can offer   \n",
       "2      every day millions of players worldwide enter battle as one of over a hundred dota heroes and no matter if its their 10th hour of play or 1000th theres always something new to discover with regular updates that ensure a constant evolution of gameplay features and heroes dota 2 has taken on a life of its own   \n",
       "3                                                                                  grand theft auto v for pc offers players the option to explore the awardwinning world of los santos and blaine county in resolutions of up to 4k and beyond as well as the chance to experience the game running at 60 frames per second   \n",
       "4                                                                                                                                                                                                        tom clancys rainbow six siege is an elite tactical teambased shooter where superior planning and execution triumph   \n",
       "...                                                                                                                                                                                                                                                                                                                     ...   \n",
       "82804                                                                                                                                in the cyberfuture of 2009 the most popular sport has become arena fighting challengers from all over gather to attempt to conquer gauntlets of robotic opponents for fortune and fame   \n",
       "82805                      allow your chatters to actively participate and engage with your chess stream simply by typing the moves they would like to see in the chat  all without the use of 3th party applications includes a highscore match history twitch emotes twitch bot auto moderating and tons of customization   \n",
       "82806                                                                                                                                                                   orbtangle is a simplistic puzzle game which requires you to swap the positions of orbs in order to untangle the lines with which they are connected   \n",
       "82807                                                                        salvage scrap build defenses and rankup to survive against the hordes of zombies and enemy mercenaries in an action packed looter shooter roguelite survival or fight head to head with other players in capture the flag and team death match   \n",
       "82808                                                                 wonfourn challenges you to fulfill your destiny by embarking on a grand adventure seeking fame fortune and glory the firstborn chosen child from each of the games 6 nations have come of age and must prove their worth in an epic quest of survival   \n",
       "\n",
       "                                                    genres  \\\n",
       "0                                      action free to play   \n",
       "1      action adventure massively multiplayer free to play   \n",
       "2                             action strategy free to play   \n",
       "3                                         action adventure   \n",
       "4                                                   action   \n",
       "...                                                    ...   \n",
       "82804                                casual indie strategy   \n",
       "82805                                       indie strategy   \n",
       "82806                                                indie   \n",
       "82807                               action adventure indie   \n",
       "82808              violent action adventure indie strategy   \n",
       "\n",
       "                                                                                                                                                                                                                                                                                       supported_languages  \n",
       "0      czech danish dutch english finnish french german hungarian italian japanese korean norwegian polish portuguese  portugal portuguese  brazil romanian russian simplified chinese spanish  spain swedish thai traditional chinese turkish bulgarian ukrainian greek spanish  latin america vietnamese  \n",
       "1                                                                                                                 english korean simplified chinese french german spanish  spain arabic japanese polish portuguese  portugal russian turkish thai italian portuguese  brazil traditional chinese ukrainian  \n",
       "2      bulgarian czech danish dutch english finnish french german greek hungarian italian japanese korean norwegian polish portuguese  portugal portuguese  brazil romanian russian simplified chinese spanish  spain swedish thai traditional chinese turkish ukrainian spanish  latin america vietnamese  \n",
       "3                                                                                                                                             english french italian german spanish  spain korean polish portuguese  brazil russian traditional chinese japanese simplified chinese spanish  latin america  \n",
       "4                                                                                                                                           english french italian german spanish  spain czech dutch japanese korean polish portuguese  brazil russian traditional chinese simplified chinese turkish thai  \n",
       "...                                                                                                                                                                                                                                                                                                    ...  \n",
       "82804                                                                                                                                                                                                                                                                                              english  \n",
       "82805                                                                                                                                                                                                                                                                                              english  \n",
       "82806                                                                                                                                                                                                                                                                                              english  \n",
       "82807                                                                                                                                                                                                                                                                                              english  \n",
       "82808                                                                                                                                                                                                                 english french italian german spanish  spain portuguese  portugal portuguese  brazil  \n",
       "\n",
       "[82809 rows x 4 columns]"
      ]
     },
     "execution_count": 15,
     "metadata": {},
     "output_type": "execute_result"
    }
   ],
   "source": [
    "df_cleaned"
   ]
  },
  {
   "cell_type": "markdown",
   "metadata": {},
   "source": [
    "<div style=\"background:#FFFFE0;padding:20px;color:#000000;margin-top:10px;\">\n",
    "Realizamos la limpieza profunda\n",
    "</div>"
   ]
  },
  {
   "cell_type": "markdown",
   "metadata": {},
   "source": [
    "<div style=\"background:#FFFFE0;padding:20px;color:#000000;margin-top:10px;\">\n",
    "Instalamos la libreria de emoji para poder eliminar cada emoji que aparezca en el dataset\n",
    "</div>"
   ]
  },
  {
   "cell_type": "code",
   "execution_count": 16,
   "metadata": {},
   "outputs": [],
   "source": [
    "#%pip install emoji"
   ]
  },
  {
   "cell_type": "code",
   "execution_count": 17,
   "metadata": {},
   "outputs": [],
   "source": [
    "import re\n",
    "\n",
    "def clean_df(df):\n",
    "    if df is None:\n",
    "        return None\n",
    "    df_copy = df.copy()\n",
    "    \n",
    "    emoji_pattern = re.compile(\"[\"\n",
    "                               u\"\\U0001F600-\\U0001F64F\"  # emoticons\n",
    "                               u\"\\U0001F300-\\U0001F5FF\"  # symbols & pictographs\n",
    "                               u\"\\U0001F680-\\U0001F6FF\"  # transport & map symbols\n",
    "                               u\"\\U0001F1E0-\\U0001F1FF\"  # flags (iOS)\n",
    "                               u\"\\U00002702-\\U000027B0\"\n",
    "                               u\"\\U000024C2-\\U0001F251\"\n",
    "                               u\"\\U0001F900-\\U0001F9FF\"  # Supplemental Symbols and Pictographs\n",
    "                               u\"\\U0001FA00-\\U0001FA6F\"  # Chess Symbols\n",
    "                               u\"\\U0001FA70-\\U0001FAFF\"  # Symbols and Pictographs Extended-A\n",
    "                               u\"\\U00002600-\\U000026FF\"  # Miscellaneous Symbols\n",
    "                               u\"\\U00002700-\\U000027BF\"  # Dingbats\n",
    "                               \"]+\", flags=re.UNICODE)\n",
    "    \n",
    "    # Define the replacement patterns\n",
    "    replace_patterns = [\n",
    "        ('•', False),\n",
    "        ('◆', False),\n",
    "        ('™', False),\n",
    "        ('®', False),\n",
    "        ('©', False),\n",
    "        ('█', False),\n",
    "        ('▒', False),\n",
    "        ('__', False),\n",
    "        ('……', False),\n",
    "        ('†', False),\n",
    "        ('※', False),\n",
    "        ('', False),\n",
    "        ('£', False),\n",
    "        ('⊰⊱', False),\n",
    "        ('๑̀́و', False),\n",
    "        (\"'\", False),\n",
    "        ('...', False),\n",
    "        ('-', False),\n",
    "        ('—', False),\n",
    "        ('_', False),\n",
    "        ('___________', False),\n",
    "        (r'[,.:;=()*+&^%$#@!{}~\\[\\]<>?/|\\\\\\-\\'\"«»–“”]', True)\n",
    "    ]\n",
    "    \n",
    "    for columna in df_copy.columns:\n",
    "        # Apply emoji pattern removal\n",
    "        df_copy[columna] = df_copy[columna].astype(str).apply(lambda x: emoji_pattern.sub(r'', x))\n",
    "        \n",
    "        # Apply all replacement patterns\n",
    "        for pattern, is_regex in replace_patterns:\n",
    "            df_copy[columna] = df_copy[columna].str.replace(pattern, '', regex=is_regex)\n",
    "        \n",
    "        # Convert text to lowercase\n",
    "        df_copy[columna] = df_copy[columna].str.lower()\n",
    "    \n",
    "    return df_copy\n"
   ]
  },
  {
   "cell_type": "code",
   "execution_count": 18,
   "metadata": {},
   "outputs": [],
   "source": [
    "df_cleaned = clean_df(df_cleaned)"
   ]
  },
  {
   "cell_type": "code",
   "execution_count": 19,
   "metadata": {},
   "outputs": [
    {
     "name": "stdout",
     "output_type": "stream",
     "text": [
      "La columna no contiene el carácter '®'.\n"
     ]
    }
   ],
   "source": [
    "# Esto nos ayuda a saber si el signo o caracter esta todavia en la columna del dataset\n",
    "contiene_caracter = df_cleaned['about_the_game'].astype(str).str.contains('•')\n",
    "\n",
    "# Verifica si algún elemento contiene el carácter \"®\"\n",
    "if contiene_caracter.any():\n",
    "    print(\"La columna contiene al menos un '®'.\")\n",
    "else:\n",
    "    print(\"La columna no contiene el carácter '®'.\")"
   ]
  },
  {
   "cell_type": "code",
   "execution_count": 20,
   "metadata": {},
   "outputs": [
    {
     "data": {
      "text/html": [
       "<div>\n",
       "<style scoped>\n",
       "    .dataframe tbody tr th:only-of-type {\n",
       "        vertical-align: middle;\n",
       "    }\n",
       "\n",
       "    .dataframe tbody tr th {\n",
       "        vertical-align: top;\n",
       "    }\n",
       "\n",
       "    .dataframe thead th {\n",
       "        text-align: right;\n",
       "    }\n",
       "</style>\n",
       "<table border=\"1\" class=\"dataframe\">\n",
       "  <thead>\n",
       "    <tr style=\"text-align: right;\">\n",
       "      <th></th>\n",
       "      <th>about_the_game</th>\n",
       "      <th>short_description</th>\n",
       "      <th>genres</th>\n",
       "      <th>supported_languages</th>\n",
       "    </tr>\n",
       "  </thead>\n",
       "  <tbody>\n",
       "    <tr>\n",
       "      <th>0</th>\n",
       "      <td>for over two decades counterstrike has offered an elite competitive experience one shaped by millions of players from across the globe and now the next chapter in the cs story is about to begin this is counterstrike 2 a free upgrade to csgo counterstrike 2 marks the largest technical leap in counterstrike’s history built on the source 2 engine counterstrike 2 is modernized with realistic physicallybased rendering state of the art networking and upgraded community workshop tools in addition to the classic objectivefocused gameplay that counterstrike pioneered in 1999 counterstrike 2 features allnew cs ratings with the updated premier mode global and regional leaderboards upgraded and overhauled maps gamechanging dynamic smoke grenades tickrateindependent gameplay redesigned visual effects and audio all items from csgo moving forward to cs2</td>\n",
       "      <td>for over two decades counterstrike has offered an elite competitive experience one shaped by millions of players from across the globe and now the next chapter in the cs story is about to begin this is counterstrike 2</td>\n",
       "      <td>action free to play</td>\n",
       "      <td>czech danish dutch english finnish french german hungarian italian japanese korean norwegian polish portuguese  portugal portuguese  brazil romanian russian simplified chinese spanish  spain swedish thai traditional chinese turkish bulgarian ukrainian greek spanish  latin america vietnamese</td>\n",
       "    </tr>\n",
       "    <tr>\n",
       "      <th>1</th>\n",
       "      <td>land loot survive play pubg battlegrounds for free land on strategic locations loot weapons and supplies and survive to become the last team standing across various diverse battlegrounds squad up and join the battlegrounds for the original battle royale experience that only pubg battlegrounds can offer this content download will also provide access to the battlegrounds test server which requires a separate download to play  optional ingame purchases available</td>\n",
       "      <td>play pubg battlegrounds for free land on strategic locations loot weapons and supplies and survive to become the last team standing across various diverse battlegrounds squad up and join the battlegrounds for the original battle royale experience that only pubg battlegrounds can offer</td>\n",
       "      <td>action adventure massively multiplayer free to play</td>\n",
       "      <td>english korean simplified chinese french german spanish  spain arabic japanese polish portuguese  portugal russian turkish thai italian portuguese  brazil traditional chinese ukrainian</td>\n",
       "    </tr>\n",
       "    <tr>\n",
       "      <th>2</th>\n",
       "      <td>the mostplayed game on steam every day millions of players worldwide enter battle as one of over a hundred dota heroes and no matter if its their 10th hour of play or 1000th theres always something new to discover with regular updates that ensure a constant evolution of gameplay features and heroes dota 2 has truly taken on a life of its own one battlefield infinite possibilities when it comes to diversity of heroes abilities and powerful items dota boasts an endless arrayno two games are the same any hero can fill multiple roles and theres an abundance of items to help meet the needs of each game dota doesnt provide limitations on how to play it empowers you to express your own style all heroes are free competitive balance is dotas crown jewel and to ensure everyone is playing on an even field the core content of the gamelike the vast pool of heroesis available to all players fans can collect cosmetics for heroes and fun addons for the world they inhabit but everything you need to play is already included before you join your first match bring your friends and party up dota is deep and constantly evolving but its never too late to join learn the ropes playing coop vs bots sharpen your skills in the hero demo mode jump into the behavior and skillbased matchmaking system that ensures youll be matched with the right players each game</td>\n",
       "      <td>every day millions of players worldwide enter battle as one of over a hundred dota heroes and no matter if its their 10th hour of play or 1000th theres always something new to discover with regular updates that ensure a constant evolution of gameplay features and heroes dota 2 has taken on a life of its own</td>\n",
       "      <td>action strategy free to play</td>\n",
       "      <td>bulgarian czech danish dutch english finnish french german greek hungarian italian japanese korean norwegian polish portuguese  portugal portuguese  brazil romanian russian simplified chinese spanish  spain swedish thai traditional chinese turkish ukrainian spanish  latin america vietnamese</td>\n",
       "    </tr>\n",
       "    <tr>\n",
       "      <th>3</th>\n",
       "      <td>when a young street hustler a retired bank robber and a terrifying psychopath find themselves entangled with some of the most frightening and deranged elements of the criminal underworld the us government and the entertainment industry they must pull off a series of dangerous heists to survive in a ruthless city in which they can trust nobody least of all each other grand theft auto v for pc offers players the option to explore the awardwinning world of los santos and blaine county in resolutions of up to 4k and beyond as well as the chance to experience the game running at 60 frames per second the game offers players a huge range of pcspecific customization options including over 25 separate configurable settings for texture quality shaders tessellation antialiasing and more as well as support and extensive customization for mouse and keyboard controls additional options include a population density slider to control car and pedestrian traffic as well as dual and triple monitor support 3d compatibility and plugandplay controller support grand theft auto v for pc also includes grand theft auto online with support for 30 players and two spectators grand theft auto online for pc will include all existing gameplay upgrades and rockstarcreated content released since the launch of grand theft auto online including heists and adversary modes the pc version of grand theft auto v and grand theft auto online features first person mode giving players the chance to explore the incredibly detailed world of los santos and blaine county in an entirely new way grand theft auto v for pc also brings the debut of the rockstar editor a powerful suite of creative tools to quickly and easily capture edit and share game footage from within grand theft auto v and grand theft auto online the rockstar editor’s director mode allows players the ability to stage their own scenes using prominent story characters pedestrians and even animals to bring their vision to life along with advanced ...</td>\n",
       "      <td>grand theft auto v for pc offers players the option to explore the awardwinning world of los santos and blaine county in resolutions of up to 4k and beyond as well as the chance to experience the game running at 60 frames per second</td>\n",
       "      <td>action adventure</td>\n",
       "      <td>english french italian german spanish  spain korean polish portuguese  brazil russian traditional chinese japanese simplified chinese spanish  latin america</td>\n",
       "    </tr>\n",
       "    <tr>\n",
       "      <th>4</th>\n",
       "      <td>one of the best firstperson shooters ever made 1010  gamespot tom clancys rainbow six siege is an elite realistic tactical teambased shooter where superior planning and execution triumph it features 5v5 attack vs defense gameplay and intense closequarters combat in destructible environments engage in a brandnew style of assault using an unrivaled level of destruction and gadgetry on defense coordinate with your team to transform your environments into strongholds trap fortify and create defensive systems to prevent being breached by the enemy on attack lead your team through narrow corridors barricaded doorways and reinforced walls combine tactical maps observation drones rappelling and more to plan attack and defuse every situation choose from dozens of highly trained special forces operators from around the world deploy the latest technology to track enemy movement shatter walls to open new lines of fire breach ceilings and floors to create new access points employ every weapon and gadget from your deadly arsenal to locate manipulate and destroy your enemies and the environment around them experience new strategies and tactics as rainbow six siege evolves over time change the rules of siege with every update that includes new operators weapons gadgets and maps evolve alongside the everchanging landscape with your friends and become the most experienced and dangerous operators out there compete against others from around the world in ranked match play grab your best squad and join the competitive community in weekly tournaments or watch the best professional teams battle it out in the rainbow six siege pro league</td>\n",
       "      <td>tom clancys rainbow six siege is an elite tactical teambased shooter where superior planning and execution triumph</td>\n",
       "      <td>action</td>\n",
       "      <td>english french italian german spanish  spain czech dutch japanese korean polish portuguese  brazil russian traditional chinese simplified chinese turkish thai</td>\n",
       "    </tr>\n",
       "    <tr>\n",
       "      <th>...</th>\n",
       "      <td>...</td>\n",
       "      <td>...</td>\n",
       "      <td>...</td>\n",
       "      <td>...</td>\n",
       "    </tr>\n",
       "    <tr>\n",
       "      <th>82804</th>\n",
       "      <td>circuit breaker is a turnbased strategy game which forces the player to call upon the aid of a variety of audiences and their unique abilities to turn the tides of battle in your favor take control of the rookie as you step into each circuit and fight against many different types of opposing robots mastering both positioning yourself correctly on the field and knowing when to invoke the power of each audience will be key to achieving victory in the circuit breaker pro league as you battle your way through the circuits youll gain powerful upgrades that will help you overcome the more powerful foes that you will meet on your journey through the different levels of the league unlock new ways to move around the map augmentations for your existing abilities and new upgrades for the audience abilities to help you battle the overwhelming strength of the bots</td>\n",
       "      <td>in the cyberfuture of 2009 the most popular sport has become arena fighting challengers from all over gather to attempt to conquer gauntlets of robotic opponents for fortune and fame</td>\n",
       "      <td>casual indie strategy</td>\n",
       "      <td>english</td>\n",
       "    </tr>\n",
       "    <tr>\n",
       "      <th>82805</th>\n",
       "      <td>chess vs chat allows streamers to host chess matches where your chatters actively participate and engage with the match via your twitch stream simply by typing the moves they would like to play right in the chat  you can play against your chat or let chat brawl among themselfs while there are more apps that do just that chess vs chat tries to step up the game by having more features that expand and smooth the experience the streamer sets the timers presses play on the game mode they like and the match is going chatters get sorted in teams with their names emotes and votes wil be shown in the game window bits and subs wil be highlighted further the names scale nice and dynamically this game is standalone and does not require any additional accounts or authentication besides twitch you authenticate to twitch using oauth for a safe and simple login experience after logging in for the first time your credentials are encrypted and automatically remembered there are also no applications or websites beside your stream your chatters need to use they just type moves they like to see right in twitch chat at the end of the turn the votes get tallied and the move with the most votes gets played of course the timer can be paused to give your slow chatters a bit more time you can also choose to play without a timer and force turns to end whenever you please during the games your chatters accumulate points by participating after the game a highscore displaying the points will show the top participants a highscore of the game itself and a historical highscore is available the user database created for this information is stored as a text file right on your computer so no external sources   you can play a regular game from the start or you can choose to play from a set position by loading fen code’s from your clipboard right into the game this way you play from a fixed starting position or even try to load chess puzzles to play with chat not only can the application read chat bu...</td>\n",
       "      <td>allow your chatters to actively participate and engage with your chess stream simply by typing the moves they would like to see in the chat  all without the use of 3th party applications includes a highscore match history twitch emotes twitch bot auto moderating and tons of customization</td>\n",
       "      <td>indie strategy</td>\n",
       "      <td>english</td>\n",
       "    </tr>\n",
       "    <tr>\n",
       "      <th>82806</th>\n",
       "      <td>orbtangle is a simplistic puzzle game which requires you to swap the positions of orbs in order to untangle the lines with which they are connected only once none of the lines are crossing each other the level is completed the game provides an endless mode in three difficulties and three additional campaigns with over 100 additional levels to unlock the colors of the game elements are fully customizable and can be set to your liking</td>\n",
       "      <td>orbtangle is a simplistic puzzle game which requires you to swap the positions of orbs in order to untangle the lines with which they are connected</td>\n",
       "      <td>indie</td>\n",
       "      <td>english</td>\n",
       "    </tr>\n",
       "    <tr>\n",
       "      <th>82807</th>\n",
       "      <td>play with friends play with or against your friends in flashlight choose to battle through the roguelite story experience solo or cooperatively with your friends challenge others in capture the flag and team deathmatch pvp modes randomized levels and a variety of enemies fight against waves of different zombies and bosses through procedurally generated levels and randomized events never have the same exact experience twice equipment mods search for and gather equipment mods for your player character and weapons many combinations exist and can be used for fun team comps crafting build your own turrets and barriers that will halt the progress of the horde enemy mercenaries encounter and defeat enemy mercenary groups as clear out different zones potentially trapped with enemy turrets enemy mercenaries are dangerous foes as they are fully equipped with the same capabilities as the players rank up and choose from various skills and tech drops choose between four different mercenary groups to join each group has a different set of perks to choose from as you move up the ranks and prove yourself by earning merc cred as you go the more things you kill the more cred you earn to rank up call in air drops that contain supplies and technical upgrades for your weaponry that will turn the tide of battle</td>\n",
       "      <td>salvage scrap build defenses and rankup to survive against the hordes of zombies and enemy mercenaries in an action packed looter shooter roguelite survival or fight head to head with other players in capture the flag and team death match</td>\n",
       "      <td>action adventure indie</td>\n",
       "      <td>english</td>\n",
       "    </tr>\n",
       "    <tr>\n",
       "      <th>82808</th>\n",
       "      <td>wonfourn challenges you to fulfill your destiny by embarking on a grand adventure seeking fame fortune and glory the firstborn chosen child from each of the games 6 nations have come of age and must prove their worth in an epic quest of survival set sail and explore 36 islands each with its own challenges and surprises protect your kingdom with your life master the trades of archery spear throwing and jousting in glorious vr trade goods between islands discover and exploit trading routes and watch out for bands of pirates seeking your loot control the battle from the deck of your ship and feel the canons roar as you sink your opponent cross the ocean seeking rumored riches and spend your fortune on weaponry needed for battle defeat is not an option key features 36 islands to explore 6 nations to play exciting quests merchant trading pirates and sea battles jousting spear throwing and archery blacksmiths forge</td>\n",
       "      <td>wonfourn challenges you to fulfill your destiny by embarking on a grand adventure seeking fame fortune and glory the firstborn chosen child from each of the games 6 nations have come of age and must prove their worth in an epic quest of survival</td>\n",
       "      <td>violent action adventure indie strategy</td>\n",
       "      <td>english french italian german spanish  spain portuguese  portugal portuguese  brazil</td>\n",
       "    </tr>\n",
       "  </tbody>\n",
       "</table>\n",
       "<p>82809 rows × 4 columns</p>\n",
       "</div>"
      ],
      "text/plain": [
       "                                                                                                                                                                                                                                                                                                                                                                                                                                                                                                                                                                                                                                                                                                                                                                                                                                                                                                                                                                                                                                                                                                                                                                                                                                                                                                                                                                                                                                                                                                                                                                                                                                                                                                                                                                                                                                                                                                                                                                                                                                                                        about_the_game  \\\n",
       "0                                                                                                                                                                                                                                                                                                                                                                                                                                                                                                                                                                                                                                                                                                                                                                                                                                                                                                                                                                                                                                                                                                                                                                                                  for over two decades counterstrike has offered an elite competitive experience one shaped by millions of players from across the globe and now the next chapter in the cs story is about to begin this is counterstrike 2 a free upgrade to csgo counterstrike 2 marks the largest technical leap in counterstrike’s history built on the source 2 engine counterstrike 2 is modernized with realistic physicallybased rendering state of the art networking and upgraded community workshop tools in addition to the classic objectivefocused gameplay that counterstrike pioneered in 1999 counterstrike 2 features allnew cs ratings with the updated premier mode global and regional leaderboards upgraded and overhauled maps gamechanging dynamic smoke grenades tickrateindependent gameplay redesigned visual effects and audio all items from csgo moving forward to cs2    \n",
       "1                                                                                                                                                                                                                                                                                                                                                                                                                                                                                                                                                                                                                                                                                                                                                                                                                                                                                                                                                                                                                                                                                                                                                                                                                                                                                                                                                                                                                                                                                                                                                                                                      land loot survive play pubg battlegrounds for free land on strategic locations loot weapons and supplies and survive to become the last team standing across various diverse battlegrounds squad up and join the battlegrounds for the original battle royale experience that only pubg battlegrounds can offer this content download will also provide access to the battlegrounds test server which requires a separate download to play  optional ingame purchases available   \n",
       "2                                                                                                                                                                                                                                                                                                                                                                                                                                                                                                                                                                                                                                                                            the mostplayed game on steam every day millions of players worldwide enter battle as one of over a hundred dota heroes and no matter if its their 10th hour of play or 1000th theres always something new to discover with regular updates that ensure a constant evolution of gameplay features and heroes dota 2 has truly taken on a life of its own one battlefield infinite possibilities when it comes to diversity of heroes abilities and powerful items dota boasts an endless arrayno two games are the same any hero can fill multiple roles and theres an abundance of items to help meet the needs of each game dota doesnt provide limitations on how to play it empowers you to express your own style all heroes are free competitive balance is dotas crown jewel and to ensure everyone is playing on an even field the core content of the gamelike the vast pool of heroesis available to all players fans can collect cosmetics for heroes and fun addons for the world they inhabit but everything you need to play is already included before you join your first match bring your friends and party up dota is deep and constantly evolving but its never too late to join learn the ropes playing coop vs bots sharpen your skills in the hero demo mode jump into the behavior and skillbased matchmaking system that ensures youll be matched with the right players each game   \n",
       "3      when a young street hustler a retired bank robber and a terrifying psychopath find themselves entangled with some of the most frightening and deranged elements of the criminal underworld the us government and the entertainment industry they must pull off a series of dangerous heists to survive in a ruthless city in which they can trust nobody least of all each other grand theft auto v for pc offers players the option to explore the awardwinning world of los santos and blaine county in resolutions of up to 4k and beyond as well as the chance to experience the game running at 60 frames per second the game offers players a huge range of pcspecific customization options including over 25 separate configurable settings for texture quality shaders tessellation antialiasing and more as well as support and extensive customization for mouse and keyboard controls additional options include a population density slider to control car and pedestrian traffic as well as dual and triple monitor support 3d compatibility and plugandplay controller support grand theft auto v for pc also includes grand theft auto online with support for 30 players and two spectators grand theft auto online for pc will include all existing gameplay upgrades and rockstarcreated content released since the launch of grand theft auto online including heists and adversary modes the pc version of grand theft auto v and grand theft auto online features first person mode giving players the chance to explore the incredibly detailed world of los santos and blaine county in an entirely new way grand theft auto v for pc also brings the debut of the rockstar editor a powerful suite of creative tools to quickly and easily capture edit and share game footage from within grand theft auto v and grand theft auto online the rockstar editor’s director mode allows players the ability to stage their own scenes using prominent story characters pedestrians and even animals to bring their vision to life along with advanced ...   \n",
       "4                                                                                                                                                                                                                                                                                                                                                                            one of the best firstperson shooters ever made 1010  gamespot tom clancys rainbow six siege is an elite realistic tactical teambased shooter where superior planning and execution triumph it features 5v5 attack vs defense gameplay and intense closequarters combat in destructible environments engage in a brandnew style of assault using an unrivaled level of destruction and gadgetry on defense coordinate with your team to transform your environments into strongholds trap fortify and create defensive systems to prevent being breached by the enemy on attack lead your team through narrow corridors barricaded doorways and reinforced walls combine tactical maps observation drones rappelling and more to plan attack and defuse every situation choose from dozens of highly trained special forces operators from around the world deploy the latest technology to track enemy movement shatter walls to open new lines of fire breach ceilings and floors to create new access points employ every weapon and gadget from your deadly arsenal to locate manipulate and destroy your enemies and the environment around them experience new strategies and tactics as rainbow six siege evolves over time change the rules of siege with every update that includes new operators weapons gadgets and maps evolve alongside the everchanging landscape with your friends and become the most experienced and dangerous operators out there compete against others from around the world in ranked match play grab your best squad and join the competitive community in weekly tournaments or watch the best professional teams battle it out in the rainbow six siege pro league   \n",
       "...                                                                                                                                                                                                                                                                                                                                                                                                                                                                                                                                                                                                                                                                                                                                                                                                                                                                                                                                                                                                                                                                                                                                                                                                                                                                                                                                                                                                                                                                                                                                                                                                                                                                                                                                                                                                                                                                                                                                                                                                                                                                                ...   \n",
       "82804                                                                                                                                                                                                                                                                                                                                                                                                                                                                                                                                                                                                                                                                                                                                                                                                                                                                                                                                                                                                                                                                                                                                                                                  circuit breaker is a turnbased strategy game which forces the player to call upon the aid of a variety of audiences and their unique abilities to turn the tides of battle in your favor take control of the rookie as you step into each circuit and fight against many different types of opposing robots mastering both positioning yourself correctly on the field and knowing when to invoke the power of each audience will be key to achieving victory in the circuit breaker pro league as you battle your way through the circuits youll gain powerful upgrades that will help you overcome the more powerful foes that you will meet on your journey through the different levels of the league unlock new ways to move around the map augmentations for your existing abilities and new upgrades for the audience abilities to help you battle the overwhelming strength of the bots   \n",
       "82805  chess vs chat allows streamers to host chess matches where your chatters actively participate and engage with the match via your twitch stream simply by typing the moves they would like to play right in the chat  you can play against your chat or let chat brawl among themselfs while there are more apps that do just that chess vs chat tries to step up the game by having more features that expand and smooth the experience the streamer sets the timers presses play on the game mode they like and the match is going chatters get sorted in teams with their names emotes and votes wil be shown in the game window bits and subs wil be highlighted further the names scale nice and dynamically this game is standalone and does not require any additional accounts or authentication besides twitch you authenticate to twitch using oauth for a safe and simple login experience after logging in for the first time your credentials are encrypted and automatically remembered there are also no applications or websites beside your stream your chatters need to use they just type moves they like to see right in twitch chat at the end of the turn the votes get tallied and the move with the most votes gets played of course the timer can be paused to give your slow chatters a bit more time you can also choose to play without a timer and force turns to end whenever you please during the games your chatters accumulate points by participating after the game a highscore displaying the points will show the top participants a highscore of the game itself and a historical highscore is available the user database created for this information is stored as a text file right on your computer so no external sources   you can play a regular game from the start or you can choose to play from a set position by loading fen code’s from your clipboard right into the game this way you play from a fixed starting position or even try to load chess puzzles to play with chat not only can the application read chat bu...   \n",
       "82806                                                                                                                                                                                                                                                                                                                                                                                                                                                                                                                                                                                                                                                                                                                                                                                                                                                                                                                                                                                                                                                                                                                                                                                                                                                                                                                                                                                                                                                                                                                                                                                                                             orbtangle is a simplistic puzzle game which requires you to swap the positions of orbs in order to untangle the lines with which they are connected only once none of the lines are crossing each other the level is completed the game provides an endless mode in three difficulties and three additional campaigns with over 100 additional levels to unlock the colors of the game elements are fully customizable and can be set to your liking   \n",
       "82807                                                                                                                                                                                                                                                                                                                                                                                                                                                                                                                                                                                                                                                                                                                   play with friends play with or against your friends in flashlight choose to battle through the roguelite story experience solo or cooperatively with your friends challenge others in capture the flag and team deathmatch pvp modes randomized levels and a variety of enemies fight against waves of different zombies and bosses through procedurally generated levels and randomized events never have the same exact experience twice equipment mods search for and gather equipment mods for your player character and weapons many combinations exist and can be used for fun team comps crafting build your own turrets and barriers that will halt the progress of the horde enemy mercenaries encounter and defeat enemy mercenary groups as clear out different zones potentially trapped with enemy turrets enemy mercenaries are dangerous foes as they are fully equipped with the same capabilities as the players rank up and choose from various skills and tech drops choose between four different mercenary groups to join each group has a different set of perks to choose from as you move up the ranks and prove yourself by earning merc cred as you go the more things you kill the more cred you earn to rank up call in air drops that contain supplies and technical upgrades for your weaponry that will turn the tide of battle   \n",
       "82808                                                                                                                                                                                                                                                                                                                                                                                                                                                                                                                                                                                                                                                                                                                                                                                                                                                                                                                                                                                                                                                                                                                      wonfourn challenges you to fulfill your destiny by embarking on a grand adventure seeking fame fortune and glory the firstborn chosen child from each of the games 6 nations have come of age and must prove their worth in an epic quest of survival set sail and explore 36 islands each with its own challenges and surprises protect your kingdom with your life master the trades of archery spear throwing and jousting in glorious vr trade goods between islands discover and exploit trading routes and watch out for bands of pirates seeking your loot control the battle from the deck of your ship and feel the canons roar as you sink your opponent cross the ocean seeking rumored riches and spend your fortune on weaponry needed for battle defeat is not an option key features 36 islands to explore 6 nations to play exciting quests merchant trading pirates and sea battles jousting spear throwing and archery blacksmiths forge    \n",
       "\n",
       "                                                                                                                                                                                                                                                                                                          short_description  \\\n",
       "0                                                                                                 for over two decades counterstrike has offered an elite competitive experience one shaped by millions of players from across the globe and now the next chapter in the cs story is about to begin this is counterstrike 2   \n",
       "1                             play pubg battlegrounds for free land on strategic locations loot weapons and supplies and survive to become the last team standing across various diverse battlegrounds squad up and join the battlegrounds for the original battle royale experience that only pubg battlegrounds can offer   \n",
       "2      every day millions of players worldwide enter battle as one of over a hundred dota heroes and no matter if its their 10th hour of play or 1000th theres always something new to discover with regular updates that ensure a constant evolution of gameplay features and heroes dota 2 has taken on a life of its own   \n",
       "3                                                                                  grand theft auto v for pc offers players the option to explore the awardwinning world of los santos and blaine county in resolutions of up to 4k and beyond as well as the chance to experience the game running at 60 frames per second   \n",
       "4                                                                                                                                                                                                        tom clancys rainbow six siege is an elite tactical teambased shooter where superior planning and execution triumph   \n",
       "...                                                                                                                                                                                                                                                                                                                     ...   \n",
       "82804                                                                                                                                in the cyberfuture of 2009 the most popular sport has become arena fighting challengers from all over gather to attempt to conquer gauntlets of robotic opponents for fortune and fame   \n",
       "82805                      allow your chatters to actively participate and engage with your chess stream simply by typing the moves they would like to see in the chat  all without the use of 3th party applications includes a highscore match history twitch emotes twitch bot auto moderating and tons of customization   \n",
       "82806                                                                                                                                                                   orbtangle is a simplistic puzzle game which requires you to swap the positions of orbs in order to untangle the lines with which they are connected   \n",
       "82807                                                                        salvage scrap build defenses and rankup to survive against the hordes of zombies and enemy mercenaries in an action packed looter shooter roguelite survival or fight head to head with other players in capture the flag and team death match   \n",
       "82808                                                                 wonfourn challenges you to fulfill your destiny by embarking on a grand adventure seeking fame fortune and glory the firstborn chosen child from each of the games 6 nations have come of age and must prove their worth in an epic quest of survival   \n",
       "\n",
       "                                                    genres  \\\n",
       "0                                      action free to play   \n",
       "1      action adventure massively multiplayer free to play   \n",
       "2                             action strategy free to play   \n",
       "3                                         action adventure   \n",
       "4                                                   action   \n",
       "...                                                    ...   \n",
       "82804                                casual indie strategy   \n",
       "82805                                       indie strategy   \n",
       "82806                                                indie   \n",
       "82807                               action adventure indie   \n",
       "82808              violent action adventure indie strategy   \n",
       "\n",
       "                                                                                                                                                                                                                                                                                       supported_languages  \n",
       "0      czech danish dutch english finnish french german hungarian italian japanese korean norwegian polish portuguese  portugal portuguese  brazil romanian russian simplified chinese spanish  spain swedish thai traditional chinese turkish bulgarian ukrainian greek spanish  latin america vietnamese  \n",
       "1                                                                                                                 english korean simplified chinese french german spanish  spain arabic japanese polish portuguese  portugal russian turkish thai italian portuguese  brazil traditional chinese ukrainian  \n",
       "2      bulgarian czech danish dutch english finnish french german greek hungarian italian japanese korean norwegian polish portuguese  portugal portuguese  brazil romanian russian simplified chinese spanish  spain swedish thai traditional chinese turkish ukrainian spanish  latin america vietnamese  \n",
       "3                                                                                                                                             english french italian german spanish  spain korean polish portuguese  brazil russian traditional chinese japanese simplified chinese spanish  latin america  \n",
       "4                                                                                                                                           english french italian german spanish  spain czech dutch japanese korean polish portuguese  brazil russian traditional chinese simplified chinese turkish thai  \n",
       "...                                                                                                                                                                                                                                                                                                    ...  \n",
       "82804                                                                                                                                                                                                                                                                                              english  \n",
       "82805                                                                                                                                                                                                                                                                                              english  \n",
       "82806                                                                                                                                                                                                                                                                                              english  \n",
       "82807                                                                                                                                                                                                                                                                                              english  \n",
       "82808                                                                                                                                                                                                                 english french italian german spanish  spain portuguese  portugal portuguese  brazil  \n",
       "\n",
       "[82809 rows x 4 columns]"
      ]
     },
     "execution_count": 20,
     "metadata": {},
     "output_type": "execute_result"
    }
   ],
   "source": [
    "df_cleaned"
   ]
  },
  {
   "cell_type": "code",
   "execution_count": 21,
   "metadata": {},
   "outputs": [],
   "source": [
    "df_cleaned.to_csv('df_cleaned_games.csv', index=False)"
   ]
  },
  {
   "cell_type": "markdown",
   "metadata": {},
   "source": [
    "<div style=\"background:#FFFFE0;padding:20px;color:#000000;margin-top:10px;\">\n",
    "Entrenamiento\n",
    "</div>"
   ]
  },
  {
   "cell_type": "code",
   "execution_count": 22,
   "metadata": {},
   "outputs": [],
   "source": [
    "nlp = spacy.load('en_core_web_sm')"
   ]
  },
  {
   "cell_type": "code",
   "execution_count": 23,
   "metadata": {},
   "outputs": [],
   "source": [
    "def extraer_terminos_clave(texto):\n",
    "    doc = nlp(texto)\n",
    "    palabras_filtradas = [token.text for token in doc if not token.is_stop and token.is_alpha]\n",
    "    return palabras_filtradas"
   ]
  },
  {
   "cell_type": "code",
   "execution_count": 24,
   "metadata": {},
   "outputs": [],
   "source": [
    "palabras = []\n",
    "\n",
    "for chunk in pd.read_csv('games_may2024_cleaned.csv', chunksize=1000):\n",
    "    for texto in chunk['about_the_game']:\n",
    "        if pd.notna(texto):\n",
    "            palabra = extraer_terminos_clave((str)(texto))\n",
    "            palabras.extend(palabra)\n"
   ]
  },
  {
   "cell_type": "code",
   "execution_count": 25,
   "metadata": {},
   "outputs": [],
   "source": [
    "palabras_unidas = ' '.join(palabras)"
   ]
  },
  {
   "cell_type": "code",
   "execution_count": 26,
   "metadata": {},
   "outputs": [],
   "source": [
    "nlp.max_length = 1500000  # Aumenta el límite de caracteres permitido\n",
    "\n",
    "# Función para dividir el texto en fragmentos manejables\n",
    "def dividir_texto(texto, n=100000):\n",
    "    \"\"\"Divide el texto en fragmentos de n caracteres.\"\"\"\n",
    "    for i in range(0, len(texto), n):\n",
    "        yield texto[i:i + n]"
   ]
  },
  {
   "cell_type": "code",
   "execution_count": 27,
   "metadata": {},
   "outputs": [
    {
     "name": "stdout",
     "output_type": "stream",
     "text": [
      "Términos clave más comunes: [('specific genre storydriven point amp click adventure game player', 205), ('game classic puzzle game level difficulty beautiful art character', 62), ('gameplay hd quality art beautiful girl pleasant atmosphere game mode easy medium advanced', 57), ('puzzle lovely girl incredible atmosphere great music lot level girls art hd quality game great', 54), ('game classic memory game level difficulty beautiful art character', 40), ('mouse game level game object character', 35), ('object puzzle adventure game', 29), ('object puzzle adventure game special collector edition release exclusive extra', 26), ('new game mode', 20), ('complete town country game huge puzzle town little piece', 17)]\n"
     ]
    }
   ],
   "source": [
    "# Divide el texto en fragmentos más pequeños\n",
    "fragmentos = list(dividir_texto(palabras_unidas, n=100000))\n",
    "\n",
    "# Inicializa un Counter para los términos clave\n",
    "contador_terminos = Counter()\n",
    "\n",
    "# Procesa cada fragmento y extrae términos clave con textacy\n",
    "for fragmento in fragmentos:\n",
    "    doc = textacy.make_spacy_doc(fragmento, lang='en_core_web_lg')\n",
    "    keyterms = textacy.extract.keyterms.textrank(doc, topn=100)\n",
    "    contador_terminos.update([term for term, _ in keyterms])\n",
    "\n",
    "# Extrae los términos clave más comunes\n",
    "terminos_clave = contador_terminos.most_common(10)\n",
    "\n",
    "# Imprime los términos clave\n",
    "print(\"Términos clave más comunes:\", terminos_clave)"
   ]
  },
  {
   "cell_type": "code",
   "execution_count": 28,
   "metadata": {},
   "outputs": [],
   "source": [
    "# Guardar los términos clave en un archivo JSON\n",
    "import json\n",
    "with open('terminos_clave.json', 'w', encoding='utf-8') as file:\n",
    "    json.dump(terminos_clave, file, ensure_ascii=False, indent=4)"
   ]
  },
  {
   "cell_type": "code",
   "execution_count": null,
   "metadata": {},
   "outputs": [],
   "source": []
  },
  {
   "cell_type": "code",
   "execution_count": 29,
   "metadata": {},
   "outputs": [],
   "source": [
    "# sentences = textacy.make_spacy_doc(palabras_unidas, lang='en_core_web_lg')\n",
    "# keyterms=textacy.extract.keyterms.textrank(sentences,topn=100)"
   ]
  },
  {
   "cell_type": "code",
   "execution_count": 38,
   "metadata": {},
   "outputs": [
    {
     "data": {
      "text/plain": [
       "Index(['about_the_game', 'short_description', 'genres', 'supported_languages'], dtype='object')"
      ]
     },
     "execution_count": 38,
     "metadata": {},
     "output_type": "execute_result"
    }
   ],
   "source": [
    "df_cleaned.columns"
   ]
  },
  {
   "cell_type": "code",
   "execution_count": 31,
   "metadata": {},
   "outputs": [],
   "source": [
    "# # Función para convertir el dataframe a un formato compatible con spaCy\n",
    "# def df_to_spacy_format(df):\n",
    "#     spacy_format = []\n",
    "#     for _, row in df.iterrows():\n",
    "#         spacy_format.append(row['about_the_game'])\n",
    "#     return spacy_format\n",
    "\n",
    "# # Convertir el dataframe a formato spaCy\n",
    "# df_cleaned_spacy_format = df_to_spacy_format(df_cleaned)\n",
    "\n",
    "# # Guardar el dataframe en formato spaCy en un archivo de texto\n",
    "# df_cleaned_file_path = 'df_cleaned_about_the_game.txt'\n",
    "# with open(df_cleaned_file_path, 'w') as file:\n",
    "#     for entry in df_cleaned_spacy_format:\n",
    "#         file.write(entry + '\\n')\n",
    "\n",
    "# Función para convertir el dataframe a un formato compatible con spaCy\n",
    "def df_to_spacy_format(df):\n",
    "    spacy_format = []\n",
    "    for _, row in df.iterrows():\n",
    "        spacy_format.append(row['about_the_game'])\n",
    "    return spacy_format\n",
    "\n",
    "# Convertir el dataframe a formato spaCy\n",
    "df_cleaned_spacy_format = df_to_spacy_format(df_cleaned)\n",
    "\n",
    "# Guardar el dataframe en formato spaCy en un archivo de texto\n",
    "df_cleaned_file_path = 'df_cleaned_about_the_game.txt'\n",
    "with open(df_cleaned_file_path, 'w', encoding='utf-8') as file:\n",
    "    for entry in df_cleaned_spacy_format:\n",
    "        file.write(entry + '\\n')"
   ]
  },
  {
   "cell_type": "code",
   "execution_count": 32,
   "metadata": {},
   "outputs": [
    {
     "name": "stdout",
     "output_type": "stream",
     "text": [
      "Datos guardados en df_cleaned_short_description.txt\n"
     ]
    }
   ],
   "source": [
    "# # Función para convertir el dataframe a un formato compatible con spaCy\n",
    "# def df_to_spacy_format(df):\n",
    "#     spacy_format = []\n",
    "#     for _, row in df.iterrows():\n",
    "#         spacy_format.append(row['short_description'])\n",
    "#     return spacy_format\n",
    "\n",
    "# # Convertir el dataframe a formato spaCy\n",
    "# df_cleaned_spacy_format = df_to_spacy_format(df_cleaned)\n",
    "\n",
    "# # Guardar el dataframe en formato spaCy en un archivo de texto\n",
    "# df_cleaned_file_path = 'df_cleaned_short_description.txt'\n",
    "# with open(df_cleaned_file_path, 'w', encoding='utf-8') as file:\n",
    "#     for entry in df_cleaned_spacy_format:\n",
    "#         file.write(entry + '\\n')\n",
    "\n",
    "# Función para convertir el dataframe a un formato compatible con spaCy\n",
    "def df_to_spacy_format(df):\n",
    "    spacy_format = []\n",
    "    for _, row in df.iterrows():\n",
    "        spacy_format.append(row['short_description'])\n",
    "    return spacy_format\n",
    "\n",
    "# Convertir el dataframe a formato spaCy\n",
    "df_cleaned_spacy_format = df_to_spacy_format(df_cleaned)\n",
    "\n",
    "# Guardar el dataframe en formato spaCy en un archivo de texto\n",
    "df_cleaned_file_path = 'df_cleaned_short_description.txt'\n",
    "with open(df_cleaned_file_path, 'w', encoding='utf-8') as file:\n",
    "    for entry in df_cleaned_spacy_format:\n",
    "        file.write(entry + '\\n')\n",
    "\n",
    "print(f\"Datos guardados en {df_cleaned_file_path}\")"
   ]
  },
  {
   "cell_type": "code",
   "execution_count": 33,
   "metadata": {},
   "outputs": [
    {
     "name": "stdout",
     "output_type": "stream",
     "text": [
      "Datos guardados en df_cleaned_genres.txt\n"
     ]
    }
   ],
   "source": [
    "# # Función para convertir el dataframe a un formato compatible con spaCy\n",
    "# def df_to_spacy_format(df):\n",
    "#     spacy_format = []\n",
    "#     for _, row in df.iterrows():\n",
    "#         spacy_format.append(row['genres'])\n",
    "#     return spacy_format\n",
    "\n",
    "# # Convertir el dataframe a formato spaCy\n",
    "# df_cleaned_spacy_format = df_to_spacy_format(df_cleaned)\n",
    "\n",
    "# # Guardar el dataframe en formato spaCy en un archivo de texto\n",
    "# df_cleaned_file_path = 'df_cleaned_genres.txt'\n",
    "# with open(df_cleaned_file_path, 'w') as file:\n",
    "#     for entry in df_cleaned_spacy_format:\n",
    "#         file.write(entry + '\\n')\n",
    "\n",
    "# Función para convertir el dataframe a un formato compatible con spaCy\n",
    "def df_to_spacy_format(df):\n",
    "    spacy_format = []\n",
    "    for _, row in df.iterrows():\n",
    "        spacy_format.append(row['genres'])\n",
    "    return spacy_format\n",
    "\n",
    "# Convertir el dataframe a formato spaCy\n",
    "df_cleaned_spacy_format = df_to_spacy_format(df_cleaned)\n",
    "\n",
    "# Guardar el dataframe en formato spaCy en un archivo de texto\n",
    "df_cleaned_file_path = 'df_cleaned_genres.txt'\n",
    "with open(df_cleaned_file_path, 'w') as file:\n",
    "    for entry in df_cleaned_spacy_format:\n",
    "        file.write(entry + '\\n')\n",
    "\n",
    "print(f\"Datos guardados en {df_cleaned_file_path}\")"
   ]
  },
  {
   "cell_type": "code",
   "execution_count": 34,
   "metadata": {},
   "outputs": [
    {
     "name": "stdout",
     "output_type": "stream",
     "text": [
      "Datos guardados en df_supported_languages.txt\n"
     ]
    }
   ],
   "source": [
    "# Función para convertir el dataframe a un formato compatible con spaCy\n",
    "# def df_to_spacy_format(df):\n",
    "#     spacy_format = []\n",
    "#     for _, row in df.iterrows():\n",
    "#         spacy_format.append(row['supported_languages'])\n",
    "#     return spacy_format\n",
    "\n",
    "# # Convertir el dataframe a formato spaCy\n",
    "# df_cleaned_spacy_format = df_to_spacy_format(df_cleaned)\n",
    "\n",
    "# # Guardar el dataframe en formato spaCy en un archivo de texto\n",
    "# df_cleaned_file_path = 'df_supported_languages.txt'\n",
    "# with open(df_cleaned_file_path, 'w') as file:\n",
    "#     for entry in df_cleaned_spacy_format:\n",
    "#         file.write(entry + '\\n')\n",
    "\n",
    "# Función para convertir el dataframe a un formato compatible con spaCy\n",
    "def df_to_spacy_format(df):\n",
    "    spacy_format = []\n",
    "    for _, row in df.iterrows():\n",
    "        spacy_format.append(row['supported_languages'])\n",
    "    return spacy_format\n",
    "\n",
    "# Convertir el dataframe a formato spaCy\n",
    "df_cleaned_spacy_format = df_to_spacy_format(df_cleaned)\n",
    "\n",
    "# Guardar el dataframe en formato spaCy en un archivo de texto\n",
    "df_cleaned_file_path = 'df_supported_languages.txt'\n",
    "with open(df_cleaned_file_path, 'w', encoding='utf-8') as file:\n",
    "    for entry in df_cleaned_spacy_format:\n",
    "        file.write(entry + '\\n')\n",
    "\n",
    "print(f\"Datos guardados en {df_cleaned_file_path}\")"
   ]
  },
  {
   "cell_type": "code",
   "execution_count": 35,
   "metadata": {},
   "outputs": [
    {
     "name": "stdout",
     "output_type": "stream",
     "text": [
      "\n",
      "\u001b[38;5;1m✘ No compatible package found for 'en_core_w' (spaCy v3.7.4)\u001b[0m\n",
      "\n"
     ]
    }
   ],
   "source": [
    "!python3 -m spacy download en_core_w"
   ]
  },
  {
   "cell_type": "code",
   "execution_count": 36,
   "metadata": {},
   "outputs": [
    {
     "name": "stdout",
     "output_type": "stream",
     "text": [
      "                                                                                                                                                                                                                                                                                                                                                                                                                                                                                                                                                                                                                                                                                                                                                                                                                                                                                                                                                                                                                                                                                                                                                                                                                                                                                                                                                                                                                                                                                                                                                                                                                                                                                                                                                                                                                                                                                                                                                                                                                                                                                 texto  \\\n",
      "0                                                                                                                                                                                                                                                                                                                                                                                                                                                                                                                                                                                                                                                                                                                                                                                                                                                                                                                                                                                                                                                                                                                                                                                                  for over two decades counterstrike has offered an elite competitive experience one shaped by millions of players from across the globe and now the next chapter in the cs story is about to begin this is counterstrike 2 a free upgrade to csgo counterstrike 2 marks the largest technical leap in counterstrike’s history built on the source 2 engine counterstrike 2 is modernized with realistic physicallybased rendering state of the art networking and upgraded community workshop tools in addition to the classic objectivefocused gameplay that counterstrike pioneered in 1999 counterstrike 2 features allnew cs ratings with the updated premier mode global and regional leaderboards upgraded and overhauled maps gamechanging dynamic smoke grenades tickrateindependent gameplay redesigned visual effects and audio all items from csgo moving forward to cs2    \n",
      "1                                                                                                                                                                                                                                                                                                                                                                                                                                                                                                                                                                                                                                                                                                                                                                                                                                                                                                                                                                                                                                                                                                                                                                                                                                                                                                                                                                                                                                                                                                                                                                                                      land loot survive play pubg battlegrounds for free land on strategic locations loot weapons and supplies and survive to become the last team standing across various diverse battlegrounds squad up and join the battlegrounds for the original battle royale experience that only pubg battlegrounds can offer this content download will also provide access to the battlegrounds test server which requires a separate download to play  optional ingame purchases available   \n",
      "2                                                                                                                                                                                                                                                                                                                                                                                                                                                                                                                                                                                                                                                                            the mostplayed game on steam every day millions of players worldwide enter battle as one of over a hundred dota heroes and no matter if its their 10th hour of play or 1000th theres always something new to discover with regular updates that ensure a constant evolution of gameplay features and heroes dota 2 has truly taken on a life of its own one battlefield infinite possibilities when it comes to diversity of heroes abilities and powerful items dota boasts an endless arrayno two games are the same any hero can fill multiple roles and theres an abundance of items to help meet the needs of each game dota doesnt provide limitations on how to play it empowers you to express your own style all heroes are free competitive balance is dotas crown jewel and to ensure everyone is playing on an even field the core content of the gamelike the vast pool of heroesis available to all players fans can collect cosmetics for heroes and fun addons for the world they inhabit but everything you need to play is already included before you join your first match bring your friends and party up dota is deep and constantly evolving but its never too late to join learn the ropes playing coop vs bots sharpen your skills in the hero demo mode jump into the behavior and skillbased matchmaking system that ensures youll be matched with the right players each game   \n",
      "3      when a young street hustler a retired bank robber and a terrifying psychopath find themselves entangled with some of the most frightening and deranged elements of the criminal underworld the us government and the entertainment industry they must pull off a series of dangerous heists to survive in a ruthless city in which they can trust nobody least of all each other grand theft auto v for pc offers players the option to explore the awardwinning world of los santos and blaine county in resolutions of up to 4k and beyond as well as the chance to experience the game running at 60 frames per second the game offers players a huge range of pcspecific customization options including over 25 separate configurable settings for texture quality shaders tessellation antialiasing and more as well as support and extensive customization for mouse and keyboard controls additional options include a population density slider to control car and pedestrian traffic as well as dual and triple monitor support 3d compatibility and plugandplay controller support grand theft auto v for pc also includes grand theft auto online with support for 30 players and two spectators grand theft auto online for pc will include all existing gameplay upgrades and rockstarcreated content released since the launch of grand theft auto online including heists and adversary modes the pc version of grand theft auto v and grand theft auto online features first person mode giving players the chance to explore the incredibly detailed world of los santos and blaine county in an entirely new way grand theft auto v for pc also brings the debut of the rockstar editor a powerful suite of creative tools to quickly and easily capture edit and share game footage from within grand theft auto v and grand theft auto online the rockstar editor’s director mode allows players the ability to stage their own scenes using prominent story characters pedestrians and even animals to bring their vision to life along with advanced ...   \n",
      "4                                                                                                                                                                                                                                                                                                                                                                            one of the best firstperson shooters ever made 1010  gamespot tom clancys rainbow six siege is an elite realistic tactical teambased shooter where superior planning and execution triumph it features 5v5 attack vs defense gameplay and intense closequarters combat in destructible environments engage in a brandnew style of assault using an unrivaled level of destruction and gadgetry on defense coordinate with your team to transform your environments into strongholds trap fortify and create defensive systems to prevent being breached by the enemy on attack lead your team through narrow corridors barricaded doorways and reinforced walls combine tactical maps observation drones rappelling and more to plan attack and defuse every situation choose from dozens of highly trained special forces operators from around the world deploy the latest technology to track enemy movement shatter walls to open new lines of fire breach ceilings and floors to create new access points employ every weapon and gadget from your deadly arsenal to locate manipulate and destroy your enemies and the environment around them experience new strategies and tactics as rainbow six siege evolves over time change the rules of siege with every update that includes new operators weapons gadgets and maps evolve alongside the everchanging landscape with your friends and become the most experienced and dangerous operators out there compete against others from around the world in ranked match play grab your best squad and join the competitive community in weekly tournaments or watch the best professional teams battle it out in the rainbow six siege pro league   \n",
      "...                                                                                                                                                                                                                                                                                                                                                                                                                                                                                                                                                                                                                                                                                                                                                                                                                                                                                                                                                                                                                                                                                                                                                                                                                                                                                                                                                                                                                                                                                                                                                                                                                                                                                                                                                                                                                                                                                                                                                                                                                                                                                ...   \n",
      "82746                                                                                                                                                                                                                                                                                                                                                                                                                                                                                                                                                                                                                                                                                                                                                                                                                                                                                                                                                                                                                                                                                                                                                                                  circuit breaker is a turnbased strategy game which forces the player to call upon the aid of a variety of audiences and their unique abilities to turn the tides of battle in your favor take control of the rookie as you step into each circuit and fight against many different types of opposing robots mastering both positioning yourself correctly on the field and knowing when to invoke the power of each audience will be key to achieving victory in the circuit breaker pro league as you battle your way through the circuits youll gain powerful upgrades that will help you overcome the more powerful foes that you will meet on your journey through the different levels of the league unlock new ways to move around the map augmentations for your existing abilities and new upgrades for the audience abilities to help you battle the overwhelming strength of the bots   \n",
      "82747  chess vs chat allows streamers to host chess matches where your chatters actively participate and engage with the match via your twitch stream simply by typing the moves they would like to play right in the chat  you can play against your chat or let chat brawl among themselfs while there are more apps that do just that chess vs chat tries to step up the game by having more features that expand and smooth the experience the streamer sets the timers presses play on the game mode they like and the match is going chatters get sorted in teams with their names emotes and votes wil be shown in the game window bits and subs wil be highlighted further the names scale nice and dynamically this game is standalone and does not require any additional accounts or authentication besides twitch you authenticate to twitch using oauth for a safe and simple login experience after logging in for the first time your credentials are encrypted and automatically remembered there are also no applications or websites beside your stream your chatters need to use they just type moves they like to see right in twitch chat at the end of the turn the votes get tallied and the move with the most votes gets played of course the timer can be paused to give your slow chatters a bit more time you can also choose to play without a timer and force turns to end whenever you please during the games your chatters accumulate points by participating after the game a highscore displaying the points will show the top participants a highscore of the game itself and a historical highscore is available the user database created for this information is stored as a text file right on your computer so no external sources   you can play a regular game from the start or you can choose to play from a set position by loading fen code’s from your clipboard right into the game this way you play from a fixed starting position or even try to load chess puzzles to play with chat not only can the application read chat bu...   \n",
      "82748                                                                                                                                                                                                                                                                                                                                                                                                                                                                                                                                                                                                                                                                                                                                                                                                                                                                                                                                                                                                                                                                                                                                                                                                                                                                                                                                                                                                                                                                                                                                                                                                                             orbtangle is a simplistic puzzle game which requires you to swap the positions of orbs in order to untangle the lines with which they are connected only once none of the lines are crossing each other the level is completed the game provides an endless mode in three difficulties and three additional campaigns with over 100 additional levels to unlock the colors of the game elements are fully customizable and can be set to your liking   \n",
      "82749                                                                                                                                                                                                                                                                                                                                                                                                                                                                                                                                                                                                                                                                                                                   play with friends play with or against your friends in flashlight choose to battle through the roguelite story experience solo or cooperatively with your friends challenge others in capture the flag and team deathmatch pvp modes randomized levels and a variety of enemies fight against waves of different zombies and bosses through procedurally generated levels and randomized events never have the same exact experience twice equipment mods search for and gather equipment mods for your player character and weapons many combinations exist and can be used for fun team comps crafting build your own turrets and barriers that will halt the progress of the horde enemy mercenaries encounter and defeat enemy mercenary groups as clear out different zones potentially trapped with enemy turrets enemy mercenaries are dangerous foes as they are fully equipped with the same capabilities as the players rank up and choose from various skills and tech drops choose between four different mercenary groups to join each group has a different set of perks to choose from as you move up the ranks and prove yourself by earning merc cred as you go the more things you kill the more cred you earn to rank up call in air drops that contain supplies and technical upgrades for your weaponry that will turn the tide of battle   \n",
      "82750                                                                                                                                                                                                                                                                                                                                                                                                                                                                                                                                                                                                                                                                                                                                                                                                                                                                                                                                                                                                                                                                                                                      wonfourn challenges you to fulfill your destiny by embarking on a grand adventure seeking fame fortune and glory the firstborn chosen child from each of the games 6 nations have come of age and must prove their worth in an epic quest of survival set sail and explore 36 islands each with its own challenges and surprises protect your kingdom with your life master the trades of archery spear throwing and jousting in glorious vr trade goods between islands discover and exploit trading routes and watch out for bands of pirates seeking your loot control the battle from the deck of your ship and feel the canons roar as you sink your opponent cross the ocean seeking rumored riches and spend your fortune on weaponry needed for battle defeat is not an option key features 36 islands to explore 6 nations to play exciting quests merchant trading pirates and sea battles jousting spear throwing and archery blacksmiths forge    \n",
      "\n",
      "                                                                                                                                                                                                                                                                                      entidades  \n",
      "0                                                                                                                                                       [(two decades, DATE), (millions, CARDINAL), (2, CARDINAL), (2 marks, MONEY), (2, CARDINAL), (2, CARDINAL), (1999, DATE), (2, CARDINAL)]  \n",
      "1                                                                                                                                                                                                                                                                                            []  \n",
      "2                                                                                                            [(every day millions, DATE), (one, CARDINAL), (over a hundred, CARDINAL), (10th hour, TIME), (1000th, ORDINAL), (2, CARDINAL), (one, CARDINAL), (two, CARDINAL), (first, ORDINAL)]  \n",
      "3      [(us, GPE), (los santos, GPE), (up to 4k, CARDINAL), (60, CARDINAL), (second, ORDINAL), (over 25, CARDINAL), (3d, CARDINAL), (30, CARDINAL), (two, CARDINAL), (first, ORDINAL), (los santos, GPE), (dragon killer, PERSON), (mike sam, PERSON), (los santos, GPE), (blaine county, GPE)]  \n",
      "4                                                                                                                                                       [(one, CARDINAL), (1010, DATE), (six, CARDINAL), (5v5, CARDINAL), (dozens, CARDINAL), (six, CARDINAL), (weekly, DATE), (six, CARDINAL)]  \n",
      "...                                                                                                                                                                                                                                                                                         ...  \n",
      "82746                                                                                                                                                                                                                                                               [(circuit breaker, PERSON)]  \n",
      "82747                                                                                                                                                                                                               [(first, ORDINAL), (the end of the, DATE), (3rd, ORDINAL), (two, CARDINAL)]  \n",
      "82748                                                                                                                                                                                                                                   [(three, CARDINAL), (three, CARDINAL), (100, CARDINAL)]  \n",
      "82749                                                                                                                                                                                                                                                   [(between four, CARDINAL), (merc, ORG)]  \n",
      "82750                                                                                                                                                                                                                            [(6, CARDINAL), (36, CARDINAL), (36, CARDINAL), (6, CARDINAL)]  \n",
      "\n",
      "[82751 rows x 2 columns]\n",
      "                                                     texto entidades\n",
      "0                                      action free to play        []\n",
      "1      action adventure massively multiplayer free to play        []\n",
      "2                             action strategy free to play        []\n",
      "3                                         action adventure        []\n",
      "4                                                   action        []\n",
      "...                                                    ...       ...\n",
      "82804                                casual indie strategy        []\n",
      "82805                                       indie strategy        []\n",
      "82806                                                indie        []\n",
      "82807                               action adventure indie        []\n",
      "82808              violent action adventure indie strategy        []\n",
      "\n",
      "[82809 rows x 2 columns]\n"
     ]
    }
   ],
   "source": [
    "import pandas as pd\n",
    "import spacy\n",
    "\n",
    "# Cargar el modelo de spaCy\n",
    "nlp = spacy.load(\"en_core_web_sm\")\n",
    "\n",
    "\n",
    "# Función para procesar texto y extraer entidades\n",
    "def extraer_entidades(texto):\n",
    "    doc = nlp(texto)\n",
    "    entidades = [(ent.text, ent.label_) for ent in doc.ents]\n",
    "    return entidades\n",
    "\n",
    "# Cargar los archivos de texto en DataFrames\n",
    "df_columna1 = pd.read_csv('df_cleaned_about_the_game.txt', header=None, names=['texto'])\n",
    "df_columna2 = pd.read_csv('df_cleaned_genres.txt', header=None, names=['texto'])\n",
    "\n",
    "# Procesar los textos y extraer entidades\n",
    "df_columna1['entidades'] = df_columna1['texto'].apply(extraer_entidades)\n",
    "df_columna2['entidades'] = df_columna2['texto'].apply(extraer_entidades)\n",
    "\n",
    "# Mostrar los resultados\n",
    "print(df_columna1)\n",
    "print(df_columna2)"
   ]
  },
  {
   "cell_type": "code",
   "execution_count": 37,
   "metadata": {},
   "outputs": [
    {
     "ename": "TypeError",
     "evalue": "object of type 'NoneType' has no len()",
     "output_type": "error",
     "traceback": [
      "\u001b[1;31m---------------------------------------------------------------------------\u001b[0m",
      "\u001b[1;31mTypeError\u001b[0m                                 Traceback (most recent call last)",
      "Cell \u001b[1;32mIn[37], line 28\u001b[0m\n\u001b[0;32m     26\u001b[0m \u001b[38;5;66;03m# Crear ejemplos de entrenamiento\u001b[39;00m\n\u001b[0;32m     27\u001b[0m \u001b[38;5;28;01mfor\u001b[39;00m texto, entidades \u001b[38;5;129;01min\u001b[39;00m ejemplos:\n\u001b[1;32m---> 28\u001b[0m     \u001b[43mcrear_ejemplo_ner\u001b[49m\u001b[43m(\u001b[49m\u001b[43mtexto\u001b[49m\u001b[43m,\u001b[49m\u001b[43m \u001b[49m\u001b[43mentidades\u001b[49m\u001b[43m)\u001b[49m\n\u001b[0;32m     30\u001b[0m \u001b[38;5;66;03m# Guardar los ejemplos en un archivo binario\u001b[39;00m\n\u001b[0;32m     31\u001b[0m doc_bin\u001b[38;5;241m.\u001b[39mto_disk(\u001b[38;5;124m\"\u001b[39m\u001b[38;5;124mentrenamiento_ner.spacy\u001b[39m\u001b[38;5;124m\"\u001b[39m)\n",
      "Cell \u001b[1;32mIn[37], line 17\u001b[0m, in \u001b[0;36mcrear_ejemplo_ner\u001b[1;34m(texto, entidades)\u001b[0m\n\u001b[0;32m     15\u001b[0m     span \u001b[38;5;241m=\u001b[39m doc\u001b[38;5;241m.\u001b[39mchar_span(start, end, label\u001b[38;5;241m=\u001b[39mlabel)\n\u001b[0;32m     16\u001b[0m     ents\u001b[38;5;241m.\u001b[39mappend(span)\n\u001b[1;32m---> 17\u001b[0m \u001b[43mdoc\u001b[49m\u001b[38;5;241;43m.\u001b[39;49m\u001b[43ments\u001b[49m \u001b[38;5;241m=\u001b[39m ents\n\u001b[0;32m     18\u001b[0m doc_bin\u001b[38;5;241m.\u001b[39madd(doc)\n",
      "File \u001b[1;32mc:\\Users\\zaloke\\Documents\\python\\Lenguaje_natural\\env\\Lib\\site-packages\\spacy\\tokens\\doc.pyx:790\u001b[0m, in \u001b[0;36mspacy.tokens.doc.Doc.ents.__set__\u001b[1;34m()\u001b[0m\n",
      "File \u001b[1;32mc:\\Users\\zaloke\\Documents\\python\\Lenguaje_natural\\env\\Lib\\site-packages\\spacy\\tokens\\doc.pyx:2000\u001b[0m, in \u001b[0;36mspacy.tokens.doc.get_entity_info\u001b[1;34m()\u001b[0m\n",
      "\u001b[1;31mTypeError\u001b[0m: object of type 'NoneType' has no len()"
     ]
    }
   ],
   "source": [
    "import spacy\n",
    "from spacy.tokens import DocBin\n",
    "\n",
    "# Cargar el modelo de spaCy\n",
    "nlp = spacy.blank('en')\n",
    "\n",
    "# Crear un DocBin para almacenar los ejemplos de entrenamiento\n",
    "doc_bin = DocBin()\n",
    "\n",
    "# Función para crear ejemplos de entrenamiento\n",
    "def crear_ejemplo_ner(texto, entidades):\n",
    "    doc = nlp.make_doc(texto)\n",
    "    ents = []\n",
    "    for start, end, label in entidades:\n",
    "        span = doc.char_span(start, end, label=label)\n",
    "        ents.append(span)\n",
    "    doc.ents = ents\n",
    "    doc_bin.add(doc)\n",
    "\n",
    "# Ejemplo de datos etiquetados (texto y entidades)\n",
    "ejemplos = [\n",
    "    (\"Grand Theft Auto V is a popular game.\", [(0, 17, \"GAME\")]),\n",
    "    (\"Play PUBG Battlegrounds for free.\", [(5, 21, \"GAME\")]),\n",
    "]\n",
    "\n",
    "# Crear ejemplos de entrenamiento\n",
    "for texto, entidades in ejemplos:\n",
    "    crear_ejemplo_ner(texto, entidades)\n",
    "\n",
    "# Guardar los ejemplos en un archivo binario\n",
    "doc_bin.to_disk(\"entrenamiento_ner.spacy\")\n"
   ]
  },
  {
   "cell_type": "code",
   "execution_count": null,
   "metadata": {},
   "outputs": [],
   "source": []
  }
 ],
 "metadata": {
  "kernelspec": {
   "display_name": "Python 3",
   "language": "python",
   "name": "python3"
  },
  "language_info": {
   "codemirror_mode": {
    "name": "ipython",
    "version": 3
   },
   "file_extension": ".py",
   "mimetype": "text/x-python",
   "name": "python",
   "nbconvert_exporter": "python",
   "pygments_lexer": "ipython3",
   "version": "3.11.9"
  }
 },
 "nbformat": 4,
 "nbformat_minor": 2
}
