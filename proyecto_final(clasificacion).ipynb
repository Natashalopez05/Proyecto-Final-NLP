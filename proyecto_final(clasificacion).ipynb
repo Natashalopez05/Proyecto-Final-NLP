{
 "cells": [
  {
   "cell_type": "code",
   "execution_count": 1,
   "metadata": {},
   "outputs": [],
   "source": [
    "# Importando algunas librerías\n",
    "\n",
    "# Librerías estándar\n",
    "import pandas as pd\n",
    "import numpy as np\n",
    "import matplotlib.pyplot as plt\n",
    "import string\n",
    "import re\n",
    "from collections import Counter\n",
    "\n",
    "# Librerías de scikit-learn\n",
    "from sklearn.naive_bayes import MultinomialNB\n",
    "from sklearn.linear_model import LogisticRegression\n",
    "from sklearn.svm import LinearSVC\n",
    "from sklearn.ensemble import RandomForestClassifier\n",
    "from sklearn.tree import DecisionTreeClassifier, export_graphviz\n",
    "# from sklearn.feature_extraction import _stop_words, CountVectorizer, TfidfVectorizer\n",
    "from sklearn.model_selection import train_test_split\n",
    "from sklearn.preprocessing import MultiLabelBinarizer, LabelEncoder\n",
    "from sklearn.pipeline import Pipeline\n",
    "from sklearn.multioutput import MultiOutputClassifier\n",
    "from sklearn.metrics import accuracy_score, confusion_matrix, ConfusionMatrixDisplay, classification_report, roc_curve, roc_auc_score\n",
    "\n",
    "# Librerías para graficar los árboles\n",
    "import graphviz\n",
    "import pydotplus\n",
    "import matplotlib.image as mpimg\n",
    "from IPython.display import Image, Markdown"
   ]
  },
  {
   "cell_type": "code",
   "execution_count": 2,
   "metadata": {},
   "outputs": [],
   "source": [
    "pd.set_option('display.max_colwidth', 2000)\n",
    "pd.options.display.max_rows=100"
   ]
  },
  {
   "cell_type": "code",
   "execution_count": 3,
   "metadata": {},
   "outputs": [],
   "source": [
    "dtype_dict = {\n",
    "    'AppID': 'int64',\n",
    "    'name': 'object',\n",
    "    'release_date': 'object',\n",
    "    'required_age': 'object',\n",
    "    'price': 'float64',\n",
    "    'dlc_count': 'float64',\n",
    "    'detailed_description': 'object',\n",
    "    'about_the_game': 'object',\n",
    "    'short_description': 'object',\n",
    "    'reviews': 'object',\n",
    "    'header_image': 'object',\n",
    "    'website': 'object',\n",
    "    'support_url': 'object',\n",
    "    'support_email': 'object',\n",
    "    'windows': 'object',\n",
    "    'mac': 'object',\n",
    "    'linux': 'object',\n",
    "    'metacritic_score': 'object',\n",
    "    'metacritic_url': 'object',\n",
    "    'achievements': 'object',\n",
    "    'recommendations': 'object',\n",
    "    'notes': 'object',\n",
    "    'supported_languages': 'object',\n",
    "    'full_audio_languages': 'object',\n",
    "    'packages': 'object',\n",
    "    \n",
    "    'Unnamed: 87': 'float64',\n",
    "    'Unnamed: 88': 'float64',\n",
    "    'Unnamed: 89': 'float64'\n",
    "}\n"
   ]
  },
  {
   "cell_type": "markdown",
   "metadata": {},
   "source": [
    "<div style=\"background:#FFFFE0;padding:20px;color:#000000;margin-top:10px;\">\n",
    "Leemos el dataset \n",
    "</div>"
   ]
  },
  {
   "cell_type": "code",
   "execution_count": 4,
   "metadata": {},
   "outputs": [
    {
     "name": "stdout",
     "output_type": "stream",
     "text": [
      "Index(['AppID', 'name', 'release_date', 'required_age', 'price', 'dlc_count',\n",
      "       'detailed_description', 'about_the_game', 'short_description',\n",
      "       'reviews', 'header_image', 'website', 'support_url', 'support_email',\n",
      "       'windows', 'mac', 'linux', 'metacritic_score', 'metacritic_url',\n",
      "       'achievements', 'recommendations', 'notes', 'supported_languages',\n",
      "       'full_audio_languages', 'packages', 'developers', 'publishers',\n",
      "       'categories', 'genres', 'screenshots', 'movies', 'user_score',\n",
      "       'score_rank', 'positive', 'negative', 'estimated_owners',\n",
      "       'average_playtime_forever', 'average_playtime_2weeks',\n",
      "       'median_playtime_forever', 'median_playtime_2weeks', 'peak_ccu', 'tags',\n",
      "       'pct_pos_total', 'num_reviews_total', 'pct_pos_recent',\n",
      "       'num_reviews_recent'],\n",
      "      dtype='object')\n"
     ]
    }
   ],
   "source": [
    "df = pd.read_csv('games_may2024_cleaned (1).csv',  dtype=dtype_dict, low_memory=False)\n",
    "print(df.columns)\n"
   ]
  },
  {
   "cell_type": "markdown",
   "metadata": {},
   "source": [
    "<div style=\"background:#FFFFE0;padding:20px;color:#000000;margin-top:10px;\">\n",
    "Elegimos las columnas que queremos extraer su informacion\n",
    "</div>"
   ]
  },
  {
   "cell_type": "code",
   "execution_count": 5,
   "metadata": {},
   "outputs": [
    {
     "name": "stdout",
     "output_type": "stream",
     "text": [
      "Index(['AppID', 'name', 'release_date', 'required_age', 'price', 'dlc_count',\n",
      "       'detailed_description', 'about_the_game', 'short_description',\n",
      "       'reviews', 'header_image', 'website', 'support_url', 'support_email',\n",
      "       'windows', 'mac', 'linux', 'metacritic_score', 'metacritic_url',\n",
      "       'achievements', 'recommendations', 'notes', 'supported_languages',\n",
      "       'full_audio_languages', 'packages', 'developers', 'publishers',\n",
      "       'categories', 'genres', 'screenshots', 'movies', 'user_score',\n",
      "       'score_rank', 'positive', 'negative', 'estimated_owners',\n",
      "       'average_playtime_forever', 'average_playtime_2weeks',\n",
      "       'median_playtime_forever', 'median_playtime_2weeks', 'peak_ccu', 'tags',\n",
      "       'pct_pos_total', 'num_reviews_total', 'pct_pos_recent',\n",
      "       'num_reviews_recent'],\n",
      "      dtype='object')\n"
     ]
    }
   ],
   "source": [
    "print(df.columns)"
   ]
  },
  {
   "cell_type": "code",
   "execution_count": 6,
   "metadata": {},
   "outputs": [
    {
     "name": "stdout",
     "output_type": "stream",
     "text": [
      "                                                                                                                                                                                                                                                                                                                                                                                                                                                                                                                                                                                                                                                                                                                                                                                                                                                                                                                                                                                                                                                                                                                                                                                                                                                                                                                                                                                                                                                                                                                                                                                                                                                                                                                                                                                                                                                                                                                                                                                                                                                                    about_the_game  \\\n",
      "0                                                                                                                                                                                                                                                                                                                                                                                                                                                                                                                                                                                                                                                                                                                                                                                                                                                                                                                                                                                                                                                                                                                                                                  For over two decades, Counter-Strike has offered an elite competitive experience, one shaped by millions of players from across the globe. And now the next chapter in the CS story is about to begin. This is Counter-Strike 2. A free upgrade to CS:GO, Counter-Strike 2 marks the largest technical leap in Counter-Strike’s history. Built on the Source 2 engine, Counter-Strike 2 is modernized with realistic physically-based rendering, state of the art networking, and upgraded Community Workshop tools. In addition to the classic objective-focused gameplay that Counter-Strike pioneered in 1999, Counter-Strike 2 features: All-new CS Ratings with the updated Premier mode Global and Regional leaderboards Upgraded and overhauled maps Game-changing dynamic smoke grenades Tick-rate-independent gameplay Redesigned visual effects and audio All items from CS:GO moving forward to CS2    \n",
      "1                                                                                                                                                                                                                                                                                                                                                                                                                                                                                                                                                                                                                                                                                                                                                                                                                                                                                                                                                                                                                                                                                                                                                                                                                                                                                                                                                                                                                                                                                                                                                                                   LAND, LOOT, SURVIVE! Play PUBG: BATTLEGROUNDS for free. Land on strategic locations, loot weapons and supplies, and survive to become the last team standing across various, diverse Battlegrounds. Squad up and join the Battlegrounds for the original Battle Royale experience that only PUBG: BATTLEGROUNDS can offer. This content download will also provide access to the BATTLEGROUNDS Test Server, which requires a separate download to play.  Optional in-game purchases available.   \n",
      "2                                                                                                                                                                                                                                                                                                                                                                                                                                                                                                                                                                                                                       The most-played game on Steam. Every day, millions of players worldwide enter battle as one of over a hundred Dota heroes. And no matter if it's their 10th hour of play or 1,000th, there's always something new to discover. With regular updates that ensure a constant evolution of gameplay, features, and heroes, Dota 2 has truly taken on a life of its own. One Battlefield. Infinite Possibilities. When it comes to diversity of heroes, abilities, and powerful items, Dota boasts an endless array—no two games are the same. Any hero can fill multiple roles, and there's an abundance of items to help meet the needs of each game. Dota doesn't provide limitations on how to play, it empowers you to express your own style. All heroes are free. Competitive balance is Dota's crown jewel, and to ensure everyone is playing on an even field, the core content of the game—like the vast pool of heroes—is available to all players. Fans can collect cosmetics for heroes and fun add-ons for the world they inhabit, but everything you need to play is already included before you join your first match. Bring your friends and party up. Dota is deep, and constantly evolving, but it's never too late to join. Learn the ropes playing co-op vs. bots. Sharpen your skills in the hero demo mode. Jump into the behavior- and skill-based matchmaking system that ensures you'll be matched with the right players each game.   \n",
      "3  When a young street hustler, a retired bank robber and a terrifying psychopath find themselves entangled with some of the most frightening and deranged elements of the criminal underworld, the U.S. government and the entertainment industry, they must pull off a series of dangerous heists to survive in a ruthless city in which they can trust nobody, least of all each other. Grand Theft Auto V for PC offers players the option to explore the award-winning world of Los Santos and Blaine County in resolutions of up to 4k and beyond, as well as the chance to experience the game running at 60 frames per second. The game offers players a huge range of PC-specific customization options, including over 25 separate configurable settings for texture quality, shaders, tessellation, anti-aliasing and more, as well as support and extensive customization for mouse and keyboard controls. Additional options include a population density slider to control car and pedestrian traffic, as well as dual and triple monitor support, 3D compatibility, and plug-and-play controller support. Grand Theft Auto V for PC also includes Grand Theft Auto Online, with support for 30 players and two spectators. Grand Theft Auto Online for PC will include all existing gameplay upgrades and Rockstar-created content released since the launch of Grand Theft Auto Online, including Heists and Adversary modes. The PC version of Grand Theft Auto V and Grand Theft Auto Online features First Person Mode, giving players the chance to explore the incredibly detailed world of Los Santos and Blaine County in an entirely new way. Grand Theft Auto V for PC also brings the debut of the Rockstar Editor, a powerful suite of creative tools to quickly and easily capture, edit and share game footage from within Grand Theft Auto V and Grand Theft Auto Online. The Rockstar Editor’s Director Mode allows players the ability to stage their own scenes using prominent story characters, pedestrians, and even animals to bring their...   \n",
      "4                                                                                                                                                                                                                                                                                                                             “One of the best first-person shooters ever made. 10\\10” – GameSpot Tom Clancy's Rainbow Six® Siege is an elite, realistic, tactical team-based shooter where superior planning and execution triumph. It features 5v5 attack vs. defense gameplay and intense close-quarters combat in destructible environments. Engage in a brand-new style of assault using an unrivaled level of destruction and gadgetry. On defense, coordinate with your team to transform your environments into strongholds. Trap, fortify and create defensive systems to prevent being breached by the enemy. On attack, lead your team through narrow corridors, barricaded doorways and reinforced walls. Combine tactical maps, observation drones, rappelling and more to plan, attack and defuse every situation. Choose from dozens of highly trained, Special Forces operators from around the world. Deploy the latest technology to track enemy movement. Shatter walls to open new lines of fire. Breach ceilings and floors to create new access points. Employ every weapon and gadget from your deadly arsenal to locate, manipulate and destroy your enemies and the environment around them. Experience new strategies and tactics as Rainbow Six Siege evolves over time. Change the rules of Siege with every update that includes new operators, weapons, gadgets and maps. Evolve alongside the ever-changing landscape with your friends and become the most experienced and dangerous operators out there. Compete against others from around the world in ranked match play. Grab your best squad and join the competitive community in weekly tournaments or watch the best professional teams battle it out in the Rainbow Six Siege Pro League.   \n",
      "5                                                                                                                                                                                                                                                                                                                                                                                                                                                                                                                                                                                                                                                                                                                                                                                                                                                                                                                                                                      \"The most fun you can have online\" - PC Gamer Is now FREE! There’s no catch! Play as much as you want, as long as you like! The most highly-rated free game of all time! One of the most popular online action games of all time, Team Fortress 2 delivers constant free updates—new game modes, maps, equipment and, most importantly, hats. Nine distinct classes provide a broad range of tactical abilities and personalities, and lend themselves to a variety of player skills. New to TF? Don’t sweat it! No matter what your style and experience, we’ve got a character for you. Detailed training and offline practice modes will help you hone your skills before jumping into one of TF2’s many game modes, including Capture the Flag, Control Point, Payload, Arena, King of the Hill and more. Make a character your own! There are hundreds of weapons, hats and more to collect, craft, buy and trade. Tweak your favorite class to suit your gameplay style and personal taste. You don’t need to pay to win—virtually all of the items in the Mann Co. Store can also be found in-game.    \n",
      "6                                                                                                                                                                                                                                                                                                                                                                                                                                                                                                                                                                                                                                                                                                                                                                                                                                                                                                                                                                                                                                                                 Dig, Fight, Explore, Build: The very world is at your fingertips as you fight for survival, fortune, and glory. Will you delve deep into cavernous expanses in search of treasure and raw materials with which to craft ever-evolving gear, machinery, and aesthetics? Perhaps you will choose instead to seek out ever-greater foes to test your mettle in combat? Maybe you will decide to construct your own city to house the host of mysterious allies you may encounter along your travels? In the World of Terraria, the choice is yours! Blending elements of classic action games with the freedom of sandbox-style creativity, Terraria is a unique gaming experience where both the journey and the destination are completely in the player’s control. The Terraria adventure is truly as unique as the players themselves! Are you up for the monumental task of exploring, creating, and defending a world of your own? Key features: Sandbox Play Randomly generated worlds Free Content Updates    \n",
      "7                                                                                                                                                                                                                                                                                                                                                                                                                                                                                                                                                        Garry's Mod is a physics sandbox. There aren't any predefined aims or goals. We give you the tools and leave you to play. You spawn objects and weld them together to create your own contraptions - whether that's a car, a rocket, a catapult or something that doesn't have a name yet - that's up to you. You can do it offline, or join the thousands of players who play online each day. If you're not too great at construction - don't worry! You can place a variety of characters in silly positions. But if you want to do more, we have the means. Beyond the Sandbox The Garry's Mod community is a tremendous source of content and has added hundreds of unique modes to the game. In Trouble In Terrorist Town, you can be a detective solving an online murder as criminals attempt to cover up their homicides. Be a ball, a plant, a chair, or anything else in Prop Hunt's elaborate, shape-shifting game of Hide &amp; Seek. Elevator: Source is gaming's first elevator thrill ride, delivering players to airlocks and kitten dance parties. We have one of the most vibrant Steam Community Workshops, with over 300'000 models, maps, and contraptions to download. It has everything from new tools to improve your builds, to guns that fire rainbow-tinged nuclear blasts from space. Take as much or as little as you need: it’s all free. Please note: Some multiplayer servers and game-modes might require you to own other games - such as Counter-Strike: Source and Team Fortress 2.    \n",
      "8  The only aim in Rust is to survive. Everything wants you to die - the island’s wildlife and other inhabitants, the environment, other survivors. Do whatever it takes to last another night. Rust is in its 10th year and has now had over 375 content updates, with a guaranteed content patch every month. From regular balance fixes and improvements to AI and graphics updates to adding content like new maps, musical instruments, trains and drones, as well as regular seasons and events, there’s always something interesting or dangerous (or both) happening on the island. Updates to the game include: Procedurally generated worlds with map editor support Host your own servers and with server-side modding support Vehicles: horses, modular cars, hot air balloons, helicopters, trains, boats and more Complex electrical and automation systems Farming New enemies, wildlife and factions New monuments and areas to explore Gestures and contact system Musical instruments Large train network Huge recent graphics overhaul ..and more EXPLORE You wake naked on a mysterious island armed only with a rock and a torch. You’ll need to brave natural dangers (from heat and cold to thirst and starvation), build a shelter, eat (or be eaten), scavenge materials. Explore the island, its abandoned settlements, mysterious monuments and the factions that occupy them. But, above all, watch out for other survivors... BUILD Design and build bases to defend your territory or control the resources of the island. Research the tech tree, grow farms, command electricity, commandeer vehicles from horses to cars to boats to helicopters. Whatever it takes to get ahead. SURVIVE There are no rules in Rust but the ones you make for yourself. Craft tools, armor and weapons to defend yourself. Cooperate with friends and allies and build a town together. Explore the island and what’s happening in it. Trade with other players. Or prey on them, raiding their bases and taking their hard-won goods. For parental controls,...   \n",
      "9                                                                                                                                                                                                                                                                                                                                                                                                                                                                                                                                                                                                                                                                                                                                                                                                                                                                                                                                                                                                                                                                                                                        Conquer with character in Apex Legends, a free-to-play* Hero shooter where legendary characters with powerful abilities team up to battle for fame &amp; fortune on the fringes of the Frontier. Master an ever-growing roster of diverse Legends, deep-tactical squad play, and bold, new innovations that go beyond the Battle Royale experience — all within a rugged world where anything goes. Welcome to the next evolution of Hero Shooter. KEY FEATURES This game includes optional in-game purchases of virtual currency that can be used to acquire virtual in-game items, including a random selection of virtual in-game items. Note that any unused Apex Coins will expire 180 days after the first date in which they are acquired or purchased. The oldest Apex Coins that are subject to expiration in your balance will always be used first when using them to make in-game purchases. Apex Packs purchase is not available in Belgium.   \n",
      "\n",
      "                                                                                                                                                                                                                                                                                                                 short_description  \\\n",
      "0                                                                                                 For over two decades, Counter-Strike has offered an elite competitive experience, one shaped by millions of players from across the globe. And now the next chapter in the CS story is about to begin. This is Counter-Strike 2.   \n",
      "1                            Play PUBG: BATTLEGROUNDS for free. Land on strategic locations, loot weapons and supplies, and survive to become the last team standing across various, diverse Battlegrounds. Squad up and join the Battlegrounds for the original Battle Royale experience that only PUBG: BATTLEGROUNDS can offer.   \n",
      "2  Every day, millions of players worldwide enter battle as one of over a hundred Dota heroes. And no matter if it's their 10th hour of play or 1,000th, there's always something new to discover. With regular updates that ensure a constant evolution of gameplay, features, and heroes, Dota 2 has taken on a life of its own.   \n",
      "3                                                                                      Grand Theft Auto V for PC offers players the option to explore the award-winning world of Los Santos and Blaine County in resolutions of up to 4k and beyond, as well as the chance to experience the game running at 60 frames per second.   \n",
      "4                                                                                                                                                                                                          Tom Clancy's Rainbow Six® Siege is an elite, tactical team-based shooter where superior planning and execution triumph.   \n",
      "5                                                                                                                                                        Nine distinct classes provide a broad range of tactical abilities and personalities. Constantly updated with new game modes, maps, equipment and, most importantly, hats!   \n",
      "6                                                                                                                                                                                                                Dig, fight, explore, build! Nothing is impossible in this action-packed adventure game. Four Pack also available!   \n",
      "7                                                                                                                                                                                                        Garry's Mod is a physics sandbox. There aren't any predefined aims or goals. We give you the tools and leave you to play.   \n",
      "8                                                                                                                                     The only aim in Rust is to survive. Everything wants you to die - the island’s wildlife and other inhabitants, the environment, other survivors. Do whatever it takes to last another night.   \n",
      "9                                     Apex Legends is the award-winning, free-to-play Hero Shooter from Respawn Entertainment. Master an ever-growing roster of legendary characters with powerful abilities, and experience strategic squad play and innovative gameplay in the next evolution of Hero Shooter and Battle Royale.   \n",
      "\n",
      "                                                             genres  \\\n",
      "0                                        ['Action', 'Free to Play']   \n",
      "1  ['Action', 'Adventure', 'Massively Multiplayer', 'Free to Play']   \n",
      "2                            ['Action', 'Strategy', 'Free to Play']   \n",
      "3                                           ['Action', 'Adventure']   \n",
      "4                                                        ['Action']   \n",
      "5                                        ['Action', 'Free to Play']   \n",
      "6                           ['Action', 'Adventure', 'Indie', 'RPG']   \n",
      "7                                 ['Casual', 'Indie', 'Simulation']   \n",
      "8  ['Action', 'Adventure', 'Indie', 'Massively Multiplayer', 'RPG']   \n",
      "9                           ['Action', 'Adventure', 'Free to Play']   \n",
      "\n",
      "                                                                                                                                                                                                                                                                                                                                                                                                                 tags  \n",
      "0                           {'FPS': 90076, 'Shooter': 64786, 'Multiplayer': 61798, 'Competitive': 52887, 'Action': 47165, 'Team-Based': 46061, 'e-sports': 43144, 'Tactical': 41033, 'First-Person': 39082, 'PvP': 34156, 'Online Co-Op': 33708, 'Co-op': 30037, 'Strategy': 29902, 'Military': 28512, 'War': 27826, 'Difficult': 25814, 'Trading': 25487, 'Realistic': 25261, 'Fast-Paced': 25188, 'Moddable': 6453}  \n",
      "1             {'Survival': 14611, 'Shooter': 12477, 'Battle Royale': 10683, 'Multiplayer': 10648, 'FPS': 8242, 'PvP': 7598, 'Third-Person Shooter': 7202, 'Action': 5921, 'Online Co-Op': 5261, 'Tactical': 4969, 'Co-op': 4240, 'First-Person': 4000, 'Strategy': 3046, 'Early Access': 2799, 'Competitive': 2351, 'Third Person': 2302, 'Team-Based': 2016, 'Difficult': 1691, 'Simulation': 1338, 'Stealth': 1251}  \n",
      "2                  {'Free to Play': 59559, 'MOBA': 19966, 'Multiplayer': 15153, 'Strategy': 14096, 'e-sports': 11631, 'Team-Based': 10822, 'Competitive': 8166, 'Action': 7839, 'Online Co-Op': 7362, 'PvP': 5940, 'Difficult': 5227, 'Co-op': 4228, 'RTS': 4038, 'RPG': 3717, 'Tower Defense': 3710, 'Fantasy': 3687, 'Character Customization': 2869, 'Replay Value': 2712, 'Action RPG': 2411, 'Simulation': 1938}  \n",
      "3  {'Open World': 31998, 'Action': 23177, 'Multiplayer': 21328, 'Crime': 19059, 'Automobile Sim': 18579, 'Third Person': 18412, 'First-Person': 18054, 'Mature': 14752, 'Shooter': 14673, 'Adventure': 13427, 'Singleplayer': 12253, 'Third-Person Shooter': 11801, 'Racing': 11400, 'Co-op': 10077, 'Sandbox': 9843, 'Atmospheric': 9813, 'Funny': 9234, 'Great Soundtrack': 8593, 'Comedy': 8455, 'Moddable': 6794}  \n",
      "4                                              {'FPS': 9689, 'PvP': 9073, 'e-sports': 9026, 'Multiplayer': 8948, 'Tactical': 8948, 'Shooter': 8944, 'Competitive': 8901, 'Online Co-Op': 8889, 'Action': 8875, 'Hero Shooter': 8836, 'Team-Based': 5575, 'Military': 4917, 'Strategy': 4859, 'First-Person': 4841, 'War': 4838, 'Realistic': 4830, 'Co-op': 4823, 'Destruction': 4820, 'Difficult': 2064, '3D': 1862}  \n",
      "5                               {'Free to Play': 62491, 'Hero Shooter': 60915, 'Multiplayer': 22574, 'FPS': 15477, 'Shooter': 12563, 'Action': 11957, 'Class-Based': 9659, 'Team-Based': 9273, 'Funny': 9206, 'First-Person': 7792, 'Online Co-Op': 7224, 'Competitive': 7011, 'Cartoony': 6994, 'Trading': 6735, 'Co-op': 5732, 'Comedy': 5259, 'Robots': 4631, 'Tactical': 3937, 'Cartoon': 3876, 'Crafting': 3639}  \n",
      "6       {'Open World Survival Craft': 15938, 'Sandbox': 15706, 'Survival': 12440, '2D': 12226, 'Multiplayer': 12152, 'Adventure': 11315, 'Pixel Graphics': 10852, 'Crafting': 10362, 'Building': 9861, 'Exploration': 8691, 'Co-op': 7631, 'Open World': 7381, 'Online Co-Op': 5945, 'Indie': 5888, 'Action': 5528, 'RPG': 5153, 'Singleplayer': 5032, 'Replay Value': 4215, 'Platformer': 3931, 'Atmospheric': 3454}  \n",
      "7                                  {'Sandbox': 18400, 'Moddable': 14269, 'Multiplayer': 14258, 'Physics': 14251, 'Building': 14233, 'Casual': 13066, 'Funny': 12772, 'Singleplayer': 12758, 'First-Person': 12752, 'Online Co-Op': 12734, 'FPS': 12724, 'Co-op': 12724, 'Simulation': 12723, 'Shooter': 12713, 'Action': 12708, 'Comedy': 12705, 'Indie': 12668, 'PvP': 8907, 'Realistic': 8885, 'Exploration': 8861}  \n",
      "8                 {'Survival': 17867, 'Crafting': 11333, 'Multiplayer': 11263, 'Open World': 10699, 'Open World Survival Craft': 8363, 'Building': 7973, 'PvP': 7266, 'Sandbox': 6994, 'Adventure': 5639, 'First-Person': 5067, 'Action': 4659, 'Nudity': 4531, 'FPS': 4514, 'Shooter': 3643, 'Co-op': 3615, 'Online Co-Op': 3571, 'Indie': 3003, 'Early Access': 2861, 'Post-apocalyptic': 2800, 'Simulation': 2461}  \n",
      "9                                           {'Free to Play': 1964, 'Battle Royale': 1354, 'Multiplayer': 1338, 'FPS': 1269, 'Shooter': 1238, 'First-Person': 1039, 'PvP': 862, 'Action': 768, 'Hero Shooter': 701, 'Team-Based': 696, 'Tactical': 528, 'Sci-fi': 480, 'Survival': 470, 'Loot': 465, 'Character Customization': 457, 'Funny': 429, 'Co-op': 421, 'Lore-Rich': 354, 'Cyberpunk': 342, 'Cinematic': 279}  \n"
     ]
    }
   ],
   "source": [
    "df = df[[ \"about_the_game\", \"short_description\",\"genres\", \"tags\"]]\n",
    "print(df.head(10))"
   ]
  },
  {
   "cell_type": "markdown",
   "metadata": {},
   "source": [
    "<div style=\"background:#FFFFE0;padding:20px;color:#000000;margin-top:10px;\">\n",
    "Realizamos estas 2 celdas ya que no queremos los NAN en cada fila de cada columna\n",
    "</div>"
   ]
  },
  {
   "cell_type": "code",
   "execution_count": 7,
   "metadata": {},
   "outputs": [],
   "source": [
    "df_cleaned = df.dropna()"
   ]
  },
  {
   "cell_type": "markdown",
   "metadata": {},
   "source": [
    "<div style=\"background:#FFFFE0;padding:20px;color:#000000;margin-top:10px;\">\n",
    "Podemos ver el df sin los NAN en cada fila de cada columna \n",
    "</div>"
   ]
  },
  {
   "cell_type": "code",
   "execution_count": 8,
   "metadata": {},
   "outputs": [],
   "source": [
    "dtype_dict = {\n",
    "    'AppID': 'int64',\n",
    "    'name': 'object',\n",
    "    'release_date': 'object',\n",
    "    'required_age': 'object',\n",
    "    'price': 'float64',\n",
    "    'dlc_count': 'float64',\n",
    "    'detailed_description': 'object',\n",
    "    'about_the_game': 'object',\n",
    "    'short_description': 'object',\n",
    "    'reviews': 'object',\n",
    "    'header_image': 'object',\n",
    "    'website': 'object',\n",
    "    'support_url': 'object',\n",
    "    'support_email': 'object',\n",
    "    'windows': 'object',\n",
    "    'mac': 'object',\n",
    "    'linux': 'object',\n",
    "    'metacritic_score': 'object',\n",
    "    'metacritic_url': 'object',\n",
    "    'achievements': 'object',\n",
    "    'recommendations': 'object',\n",
    "    'notes': 'object',\n",
    "    'supported_languages': 'object',\n",
    "    'full_audio_languages': 'object',\n",
    "    'packages': 'object',\n",
    "    \n",
    "    'Unnamed: 87': 'float64',\n",
    "    'Unnamed: 88': 'float64',\n",
    "    'Unnamed: 89': 'float64'\n",
    "}\n"
   ]
  },
  {
   "cell_type": "markdown",
   "metadata": {},
   "source": [
    "<div style=\"background:#FFFFE0;padding:20px;color:#000000;margin-top:10px;\">\n",
    "Leemos el dataset \n",
    "</div>"
   ]
  },
  {
   "cell_type": "code",
   "execution_count": 9,
   "metadata": {},
   "outputs": [
    {
     "name": "stdout",
     "output_type": "stream",
     "text": [
      "Index(['AppID', 'name', 'release_date', 'required_age', 'price', 'dlc_count',\n",
      "       'detailed_description', 'about_the_game', 'short_description',\n",
      "       'reviews', 'header_image', 'website', 'support_url', 'support_email',\n",
      "       'windows', 'mac', 'linux', 'metacritic_score', 'metacritic_url',\n",
      "       'achievements', 'recommendations', 'notes', 'supported_languages',\n",
      "       'full_audio_languages', 'packages', 'developers', 'publishers',\n",
      "       'categories', 'genres', 'screenshots', 'movies', 'user_score',\n",
      "       'score_rank', 'positive', 'negative', 'estimated_owners',\n",
      "       'average_playtime_forever', 'average_playtime_2weeks',\n",
      "       'median_playtime_forever', 'median_playtime_2weeks', 'peak_ccu', 'tags',\n",
      "       'pct_pos_total', 'num_reviews_total', 'pct_pos_recent',\n",
      "       'num_reviews_recent'],\n",
      "      dtype='object')\n"
     ]
    }
   ],
   "source": [
    "df = pd.read_csv('games_may2024_cleaned (1).csv',  dtype=dtype_dict, low_memory=False)\n",
    "print(df.columns)\n"
   ]
  },
  {
   "cell_type": "markdown",
   "metadata": {},
   "source": [
    "<div style=\"background:#FFFFE0;padding:20px;color:#000000;margin-top:10px;\">\n",
    "Elegimos las columnas que queremos extraer su informacion\n",
    "</div>"
   ]
  },
  {
   "cell_type": "code",
   "execution_count": 10,
   "metadata": {},
   "outputs": [
    {
     "name": "stdout",
     "output_type": "stream",
     "text": [
      "Index(['AppID', 'name', 'release_date', 'required_age', 'price', 'dlc_count',\n",
      "       'detailed_description', 'about_the_game', 'short_description',\n",
      "       'reviews', 'header_image', 'website', 'support_url', 'support_email',\n",
      "       'windows', 'mac', 'linux', 'metacritic_score', 'metacritic_url',\n",
      "       'achievements', 'recommendations', 'notes', 'supported_languages',\n",
      "       'full_audio_languages', 'packages', 'developers', 'publishers',\n",
      "       'categories', 'genres', 'screenshots', 'movies', 'user_score',\n",
      "       'score_rank', 'positive', 'negative', 'estimated_owners',\n",
      "       'average_playtime_forever', 'average_playtime_2weeks',\n",
      "       'median_playtime_forever', 'median_playtime_2weeks', 'peak_ccu', 'tags',\n",
      "       'pct_pos_total', 'num_reviews_total', 'pct_pos_recent',\n",
      "       'num_reviews_recent'],\n",
      "      dtype='object')\n"
     ]
    }
   ],
   "source": [
    "print(df.columns)"
   ]
  },
  {
   "cell_type": "code",
   "execution_count": 11,
   "metadata": {},
   "outputs": [
    {
     "name": "stdout",
     "output_type": "stream",
     "text": [
      "                                                                                                                                                                                                                                                                                                                                                                                                                                                                                                                                                                                                                                                                                                                                                                                                                                                                                                                                                                                                                                                                                                                                                                                                                                                                                                                                                                                                                                                                                                                                                                                                                                                                                                                                                                                                                                                                                                                                                                                                                                                                    about_the_game  \\\n",
      "0                                                                                                                                                                                                                                                                                                                                                                                                                                                                                                                                                                                                                                                                                                                                                                                                                                                                                                                                                                                                                                                                                                                                                                  For over two decades, Counter-Strike has offered an elite competitive experience, one shaped by millions of players from across the globe. And now the next chapter in the CS story is about to begin. This is Counter-Strike 2. A free upgrade to CS:GO, Counter-Strike 2 marks the largest technical leap in Counter-Strike’s history. Built on the Source 2 engine, Counter-Strike 2 is modernized with realistic physically-based rendering, state of the art networking, and upgraded Community Workshop tools. In addition to the classic objective-focused gameplay that Counter-Strike pioneered in 1999, Counter-Strike 2 features: All-new CS Ratings with the updated Premier mode Global and Regional leaderboards Upgraded and overhauled maps Game-changing dynamic smoke grenades Tick-rate-independent gameplay Redesigned visual effects and audio All items from CS:GO moving forward to CS2    \n",
      "1                                                                                                                                                                                                                                                                                                                                                                                                                                                                                                                                                                                                                                                                                                                                                                                                                                                                                                                                                                                                                                                                                                                                                                                                                                                                                                                                                                                                                                                                                                                                                                                   LAND, LOOT, SURVIVE! Play PUBG: BATTLEGROUNDS for free. Land on strategic locations, loot weapons and supplies, and survive to become the last team standing across various, diverse Battlegrounds. Squad up and join the Battlegrounds for the original Battle Royale experience that only PUBG: BATTLEGROUNDS can offer. This content download will also provide access to the BATTLEGROUNDS Test Server, which requires a separate download to play.  Optional in-game purchases available.   \n",
      "2                                                                                                                                                                                                                                                                                                                                                                                                                                                                                                                                                                                                                       The most-played game on Steam. Every day, millions of players worldwide enter battle as one of over a hundred Dota heroes. And no matter if it's their 10th hour of play or 1,000th, there's always something new to discover. With regular updates that ensure a constant evolution of gameplay, features, and heroes, Dota 2 has truly taken on a life of its own. One Battlefield. Infinite Possibilities. When it comes to diversity of heroes, abilities, and powerful items, Dota boasts an endless array—no two games are the same. Any hero can fill multiple roles, and there's an abundance of items to help meet the needs of each game. Dota doesn't provide limitations on how to play, it empowers you to express your own style. All heroes are free. Competitive balance is Dota's crown jewel, and to ensure everyone is playing on an even field, the core content of the game—like the vast pool of heroes—is available to all players. Fans can collect cosmetics for heroes and fun add-ons for the world they inhabit, but everything you need to play is already included before you join your first match. Bring your friends and party up. Dota is deep, and constantly evolving, but it's never too late to join. Learn the ropes playing co-op vs. bots. Sharpen your skills in the hero demo mode. Jump into the behavior- and skill-based matchmaking system that ensures you'll be matched with the right players each game.   \n",
      "3  When a young street hustler, a retired bank robber and a terrifying psychopath find themselves entangled with some of the most frightening and deranged elements of the criminal underworld, the U.S. government and the entertainment industry, they must pull off a series of dangerous heists to survive in a ruthless city in which they can trust nobody, least of all each other. Grand Theft Auto V for PC offers players the option to explore the award-winning world of Los Santos and Blaine County in resolutions of up to 4k and beyond, as well as the chance to experience the game running at 60 frames per second. The game offers players a huge range of PC-specific customization options, including over 25 separate configurable settings for texture quality, shaders, tessellation, anti-aliasing and more, as well as support and extensive customization for mouse and keyboard controls. Additional options include a population density slider to control car and pedestrian traffic, as well as dual and triple monitor support, 3D compatibility, and plug-and-play controller support. Grand Theft Auto V for PC also includes Grand Theft Auto Online, with support for 30 players and two spectators. Grand Theft Auto Online for PC will include all existing gameplay upgrades and Rockstar-created content released since the launch of Grand Theft Auto Online, including Heists and Adversary modes. The PC version of Grand Theft Auto V and Grand Theft Auto Online features First Person Mode, giving players the chance to explore the incredibly detailed world of Los Santos and Blaine County in an entirely new way. Grand Theft Auto V for PC also brings the debut of the Rockstar Editor, a powerful suite of creative tools to quickly and easily capture, edit and share game footage from within Grand Theft Auto V and Grand Theft Auto Online. The Rockstar Editor’s Director Mode allows players the ability to stage their own scenes using prominent story characters, pedestrians, and even animals to bring their...   \n",
      "4                                                                                                                                                                                                                                                                                                                             “One of the best first-person shooters ever made. 10\\10” – GameSpot Tom Clancy's Rainbow Six® Siege is an elite, realistic, tactical team-based shooter where superior planning and execution triumph. It features 5v5 attack vs. defense gameplay and intense close-quarters combat in destructible environments. Engage in a brand-new style of assault using an unrivaled level of destruction and gadgetry. On defense, coordinate with your team to transform your environments into strongholds. Trap, fortify and create defensive systems to prevent being breached by the enemy. On attack, lead your team through narrow corridors, barricaded doorways and reinforced walls. Combine tactical maps, observation drones, rappelling and more to plan, attack and defuse every situation. Choose from dozens of highly trained, Special Forces operators from around the world. Deploy the latest technology to track enemy movement. Shatter walls to open new lines of fire. Breach ceilings and floors to create new access points. Employ every weapon and gadget from your deadly arsenal to locate, manipulate and destroy your enemies and the environment around them. Experience new strategies and tactics as Rainbow Six Siege evolves over time. Change the rules of Siege with every update that includes new operators, weapons, gadgets and maps. Evolve alongside the ever-changing landscape with your friends and become the most experienced and dangerous operators out there. Compete against others from around the world in ranked match play. Grab your best squad and join the competitive community in weekly tournaments or watch the best professional teams battle it out in the Rainbow Six Siege Pro League.   \n",
      "5                                                                                                                                                                                                                                                                                                                                                                                                                                                                                                                                                                                                                                                                                                                                                                                                                                                                                                                                                                      \"The most fun you can have online\" - PC Gamer Is now FREE! There’s no catch! Play as much as you want, as long as you like! The most highly-rated free game of all time! One of the most popular online action games of all time, Team Fortress 2 delivers constant free updates—new game modes, maps, equipment and, most importantly, hats. Nine distinct classes provide a broad range of tactical abilities and personalities, and lend themselves to a variety of player skills. New to TF? Don’t sweat it! No matter what your style and experience, we’ve got a character for you. Detailed training and offline practice modes will help you hone your skills before jumping into one of TF2’s many game modes, including Capture the Flag, Control Point, Payload, Arena, King of the Hill and more. Make a character your own! There are hundreds of weapons, hats and more to collect, craft, buy and trade. Tweak your favorite class to suit your gameplay style and personal taste. You don’t need to pay to win—virtually all of the items in the Mann Co. Store can also be found in-game.    \n",
      "6                                                                                                                                                                                                                                                                                                                                                                                                                                                                                                                                                                                                                                                                                                                                                                                                                                                                                                                                                                                                                                                                 Dig, Fight, Explore, Build: The very world is at your fingertips as you fight for survival, fortune, and glory. Will you delve deep into cavernous expanses in search of treasure and raw materials with which to craft ever-evolving gear, machinery, and aesthetics? Perhaps you will choose instead to seek out ever-greater foes to test your mettle in combat? Maybe you will decide to construct your own city to house the host of mysterious allies you may encounter along your travels? In the World of Terraria, the choice is yours! Blending elements of classic action games with the freedom of sandbox-style creativity, Terraria is a unique gaming experience where both the journey and the destination are completely in the player’s control. The Terraria adventure is truly as unique as the players themselves! Are you up for the monumental task of exploring, creating, and defending a world of your own? Key features: Sandbox Play Randomly generated worlds Free Content Updates    \n",
      "7                                                                                                                                                                                                                                                                                                                                                                                                                                                                                                                                                        Garry's Mod is a physics sandbox. There aren't any predefined aims or goals. We give you the tools and leave you to play. You spawn objects and weld them together to create your own contraptions - whether that's a car, a rocket, a catapult or something that doesn't have a name yet - that's up to you. You can do it offline, or join the thousands of players who play online each day. If you're not too great at construction - don't worry! You can place a variety of characters in silly positions. But if you want to do more, we have the means. Beyond the Sandbox The Garry's Mod community is a tremendous source of content and has added hundreds of unique modes to the game. In Trouble In Terrorist Town, you can be a detective solving an online murder as criminals attempt to cover up their homicides. Be a ball, a plant, a chair, or anything else in Prop Hunt's elaborate, shape-shifting game of Hide &amp; Seek. Elevator: Source is gaming's first elevator thrill ride, delivering players to airlocks and kitten dance parties. We have one of the most vibrant Steam Community Workshops, with over 300'000 models, maps, and contraptions to download. It has everything from new tools to improve your builds, to guns that fire rainbow-tinged nuclear blasts from space. Take as much or as little as you need: it’s all free. Please note: Some multiplayer servers and game-modes might require you to own other games - such as Counter-Strike: Source and Team Fortress 2.    \n",
      "8  The only aim in Rust is to survive. Everything wants you to die - the island’s wildlife and other inhabitants, the environment, other survivors. Do whatever it takes to last another night. Rust is in its 10th year and has now had over 375 content updates, with a guaranteed content patch every month. From regular balance fixes and improvements to AI and graphics updates to adding content like new maps, musical instruments, trains and drones, as well as regular seasons and events, there’s always something interesting or dangerous (or both) happening on the island. Updates to the game include: Procedurally generated worlds with map editor support Host your own servers and with server-side modding support Vehicles: horses, modular cars, hot air balloons, helicopters, trains, boats and more Complex electrical and automation systems Farming New enemies, wildlife and factions New monuments and areas to explore Gestures and contact system Musical instruments Large train network Huge recent graphics overhaul ..and more EXPLORE You wake naked on a mysterious island armed only with a rock and a torch. You’ll need to brave natural dangers (from heat and cold to thirst and starvation), build a shelter, eat (or be eaten), scavenge materials. Explore the island, its abandoned settlements, mysterious monuments and the factions that occupy them. But, above all, watch out for other survivors... BUILD Design and build bases to defend your territory or control the resources of the island. Research the tech tree, grow farms, command electricity, commandeer vehicles from horses to cars to boats to helicopters. Whatever it takes to get ahead. SURVIVE There are no rules in Rust but the ones you make for yourself. Craft tools, armor and weapons to defend yourself. Cooperate with friends and allies and build a town together. Explore the island and what’s happening in it. Trade with other players. Or prey on them, raiding their bases and taking their hard-won goods. For parental controls,...   \n",
      "9                                                                                                                                                                                                                                                                                                                                                                                                                                                                                                                                                                                                                                                                                                                                                                                                                                                                                                                                                                                                                                                                                                                        Conquer with character in Apex Legends, a free-to-play* Hero shooter where legendary characters with powerful abilities team up to battle for fame &amp; fortune on the fringes of the Frontier. Master an ever-growing roster of diverse Legends, deep-tactical squad play, and bold, new innovations that go beyond the Battle Royale experience — all within a rugged world where anything goes. Welcome to the next evolution of Hero Shooter. KEY FEATURES This game includes optional in-game purchases of virtual currency that can be used to acquire virtual in-game items, including a random selection of virtual in-game items. Note that any unused Apex Coins will expire 180 days after the first date in which they are acquired or purchased. The oldest Apex Coins that are subject to expiration in your balance will always be used first when using them to make in-game purchases. Apex Packs purchase is not available in Belgium.   \n",
      "\n",
      "                                                                                                                                                                                                                                                                                                                 short_description  \\\n",
      "0                                                                                                 For over two decades, Counter-Strike has offered an elite competitive experience, one shaped by millions of players from across the globe. And now the next chapter in the CS story is about to begin. This is Counter-Strike 2.   \n",
      "1                            Play PUBG: BATTLEGROUNDS for free. Land on strategic locations, loot weapons and supplies, and survive to become the last team standing across various, diverse Battlegrounds. Squad up and join the Battlegrounds for the original Battle Royale experience that only PUBG: BATTLEGROUNDS can offer.   \n",
      "2  Every day, millions of players worldwide enter battle as one of over a hundred Dota heroes. And no matter if it's their 10th hour of play or 1,000th, there's always something new to discover. With regular updates that ensure a constant evolution of gameplay, features, and heroes, Dota 2 has taken on a life of its own.   \n",
      "3                                                                                      Grand Theft Auto V for PC offers players the option to explore the award-winning world of Los Santos and Blaine County in resolutions of up to 4k and beyond, as well as the chance to experience the game running at 60 frames per second.   \n",
      "4                                                                                                                                                                                                          Tom Clancy's Rainbow Six® Siege is an elite, tactical team-based shooter where superior planning and execution triumph.   \n",
      "5                                                                                                                                                        Nine distinct classes provide a broad range of tactical abilities and personalities. Constantly updated with new game modes, maps, equipment and, most importantly, hats!   \n",
      "6                                                                                                                                                                                                                Dig, fight, explore, build! Nothing is impossible in this action-packed adventure game. Four Pack also available!   \n",
      "7                                                                                                                                                                                                        Garry's Mod is a physics sandbox. There aren't any predefined aims or goals. We give you the tools and leave you to play.   \n",
      "8                                                                                                                                     The only aim in Rust is to survive. Everything wants you to die - the island’s wildlife and other inhabitants, the environment, other survivors. Do whatever it takes to last another night.   \n",
      "9                                     Apex Legends is the award-winning, free-to-play Hero Shooter from Respawn Entertainment. Master an ever-growing roster of legendary characters with powerful abilities, and experience strategic squad play and innovative gameplay in the next evolution of Hero Shooter and Battle Royale.   \n",
      "\n",
      "                                                             genres  \\\n",
      "0                                        ['Action', 'Free to Play']   \n",
      "1  ['Action', 'Adventure', 'Massively Multiplayer', 'Free to Play']   \n",
      "2                            ['Action', 'Strategy', 'Free to Play']   \n",
      "3                                           ['Action', 'Adventure']   \n",
      "4                                                        ['Action']   \n",
      "5                                        ['Action', 'Free to Play']   \n",
      "6                           ['Action', 'Adventure', 'Indie', 'RPG']   \n",
      "7                                 ['Casual', 'Indie', 'Simulation']   \n",
      "8  ['Action', 'Adventure', 'Indie', 'Massively Multiplayer', 'RPG']   \n",
      "9                           ['Action', 'Adventure', 'Free to Play']   \n",
      "\n",
      "                                                                                                                                                                                                                                                                                                                                                                                                                 tags  \n",
      "0                           {'FPS': 90076, 'Shooter': 64786, 'Multiplayer': 61798, 'Competitive': 52887, 'Action': 47165, 'Team-Based': 46061, 'e-sports': 43144, 'Tactical': 41033, 'First-Person': 39082, 'PvP': 34156, 'Online Co-Op': 33708, 'Co-op': 30037, 'Strategy': 29902, 'Military': 28512, 'War': 27826, 'Difficult': 25814, 'Trading': 25487, 'Realistic': 25261, 'Fast-Paced': 25188, 'Moddable': 6453}  \n",
      "1             {'Survival': 14611, 'Shooter': 12477, 'Battle Royale': 10683, 'Multiplayer': 10648, 'FPS': 8242, 'PvP': 7598, 'Third-Person Shooter': 7202, 'Action': 5921, 'Online Co-Op': 5261, 'Tactical': 4969, 'Co-op': 4240, 'First-Person': 4000, 'Strategy': 3046, 'Early Access': 2799, 'Competitive': 2351, 'Third Person': 2302, 'Team-Based': 2016, 'Difficult': 1691, 'Simulation': 1338, 'Stealth': 1251}  \n",
      "2                  {'Free to Play': 59559, 'MOBA': 19966, 'Multiplayer': 15153, 'Strategy': 14096, 'e-sports': 11631, 'Team-Based': 10822, 'Competitive': 8166, 'Action': 7839, 'Online Co-Op': 7362, 'PvP': 5940, 'Difficult': 5227, 'Co-op': 4228, 'RTS': 4038, 'RPG': 3717, 'Tower Defense': 3710, 'Fantasy': 3687, 'Character Customization': 2869, 'Replay Value': 2712, 'Action RPG': 2411, 'Simulation': 1938}  \n",
      "3  {'Open World': 31998, 'Action': 23177, 'Multiplayer': 21328, 'Crime': 19059, 'Automobile Sim': 18579, 'Third Person': 18412, 'First-Person': 18054, 'Mature': 14752, 'Shooter': 14673, 'Adventure': 13427, 'Singleplayer': 12253, 'Third-Person Shooter': 11801, 'Racing': 11400, 'Co-op': 10077, 'Sandbox': 9843, 'Atmospheric': 9813, 'Funny': 9234, 'Great Soundtrack': 8593, 'Comedy': 8455, 'Moddable': 6794}  \n",
      "4                                              {'FPS': 9689, 'PvP': 9073, 'e-sports': 9026, 'Multiplayer': 8948, 'Tactical': 8948, 'Shooter': 8944, 'Competitive': 8901, 'Online Co-Op': 8889, 'Action': 8875, 'Hero Shooter': 8836, 'Team-Based': 5575, 'Military': 4917, 'Strategy': 4859, 'First-Person': 4841, 'War': 4838, 'Realistic': 4830, 'Co-op': 4823, 'Destruction': 4820, 'Difficult': 2064, '3D': 1862}  \n",
      "5                               {'Free to Play': 62491, 'Hero Shooter': 60915, 'Multiplayer': 22574, 'FPS': 15477, 'Shooter': 12563, 'Action': 11957, 'Class-Based': 9659, 'Team-Based': 9273, 'Funny': 9206, 'First-Person': 7792, 'Online Co-Op': 7224, 'Competitive': 7011, 'Cartoony': 6994, 'Trading': 6735, 'Co-op': 5732, 'Comedy': 5259, 'Robots': 4631, 'Tactical': 3937, 'Cartoon': 3876, 'Crafting': 3639}  \n",
      "6       {'Open World Survival Craft': 15938, 'Sandbox': 15706, 'Survival': 12440, '2D': 12226, 'Multiplayer': 12152, 'Adventure': 11315, 'Pixel Graphics': 10852, 'Crafting': 10362, 'Building': 9861, 'Exploration': 8691, 'Co-op': 7631, 'Open World': 7381, 'Online Co-Op': 5945, 'Indie': 5888, 'Action': 5528, 'RPG': 5153, 'Singleplayer': 5032, 'Replay Value': 4215, 'Platformer': 3931, 'Atmospheric': 3454}  \n",
      "7                                  {'Sandbox': 18400, 'Moddable': 14269, 'Multiplayer': 14258, 'Physics': 14251, 'Building': 14233, 'Casual': 13066, 'Funny': 12772, 'Singleplayer': 12758, 'First-Person': 12752, 'Online Co-Op': 12734, 'FPS': 12724, 'Co-op': 12724, 'Simulation': 12723, 'Shooter': 12713, 'Action': 12708, 'Comedy': 12705, 'Indie': 12668, 'PvP': 8907, 'Realistic': 8885, 'Exploration': 8861}  \n",
      "8                 {'Survival': 17867, 'Crafting': 11333, 'Multiplayer': 11263, 'Open World': 10699, 'Open World Survival Craft': 8363, 'Building': 7973, 'PvP': 7266, 'Sandbox': 6994, 'Adventure': 5639, 'First-Person': 5067, 'Action': 4659, 'Nudity': 4531, 'FPS': 4514, 'Shooter': 3643, 'Co-op': 3615, 'Online Co-Op': 3571, 'Indie': 3003, 'Early Access': 2861, 'Post-apocalyptic': 2800, 'Simulation': 2461}  \n",
      "9                                           {'Free to Play': 1964, 'Battle Royale': 1354, 'Multiplayer': 1338, 'FPS': 1269, 'Shooter': 1238, 'First-Person': 1039, 'PvP': 862, 'Action': 768, 'Hero Shooter': 701, 'Team-Based': 696, 'Tactical': 528, 'Sci-fi': 480, 'Survival': 470, 'Loot': 465, 'Character Customization': 457, 'Funny': 429, 'Co-op': 421, 'Lore-Rich': 354, 'Cyberpunk': 342, 'Cinematic': 279}  \n"
     ]
    }
   ],
   "source": [
    "df = df[[ \"about_the_game\", \"short_description\",\"genres\", \"tags\"]]\n",
    "print(df.head(10))"
   ]
  },
  {
   "cell_type": "markdown",
   "metadata": {},
   "source": [
    "<div style=\"background:#FFFFE0;padding:20px;color:#000000;margin-top:10px;\">\n",
    "Realizamos estas 2 celdas ya que no queremos los NAN en cada fila de cada columna\n",
    "</div>"
   ]
  },
  {
   "cell_type": "code",
   "execution_count": 12,
   "metadata": {},
   "outputs": [],
   "source": [
    "df_cleaned = df.dropna()"
   ]
  },
  {
   "cell_type": "markdown",
   "metadata": {},
   "source": [
    "<div style=\"background:#FFFFE0;padding:20px;color:#000000;margin-top:10px;\">\n",
    "Podemos ver el df sin los NAN en cada fila de cada columna \n",
    "</div>"
   ]
  },
  {
   "cell_type": "code",
   "execution_count": 13,
   "metadata": {},
   "outputs": [
    {
     "data": {
      "text/html": [
       "<div>\n",
       "<style scoped>\n",
       "    .dataframe tbody tr th:only-of-type {\n",
       "        vertical-align: middle;\n",
       "    }\n",
       "\n",
       "    .dataframe tbody tr th {\n",
       "        vertical-align: top;\n",
       "    }\n",
       "\n",
       "    .dataframe thead th {\n",
       "        text-align: right;\n",
       "    }\n",
       "</style>\n",
       "<table border=\"1\" class=\"dataframe\">\n",
       "  <thead>\n",
       "    <tr style=\"text-align: right;\">\n",
       "      <th></th>\n",
       "      <th>about_the_game</th>\n",
       "      <th>short_description</th>\n",
       "      <th>genres</th>\n",
       "      <th>tags</th>\n",
       "    </tr>\n",
       "  </thead>\n",
       "  <tbody>\n",
       "    <tr>\n",
       "      <th>0</th>\n",
       "      <td>For over two decades, Counter-Strike has offered an elite competitive experience, one shaped by millions of players from across the globe. And now the next chapter in the CS story is about to begin. This is Counter-Strike 2. A free upgrade to CS:GO, Counter-Strike 2 marks the largest technical leap in Counter-Strike’s history. Built on the Source 2 engine, Counter-Strike 2 is modernized with realistic physically-based rendering, state of the art networking, and upgraded Community Workshop tools. In addition to the classic objective-focused gameplay that Counter-Strike pioneered in 1999, Counter-Strike 2 features: All-new CS Ratings with the updated Premier mode Global and Regional leaderboards Upgraded and overhauled maps Game-changing dynamic smoke grenades Tick-rate-independent gameplay Redesigned visual effects and audio All items from CS:GO moving forward to CS2</td>\n",
       "      <td>For over two decades, Counter-Strike has offered an elite competitive experience, one shaped by millions of players from across the globe. And now the next chapter in the CS story is about to begin. This is Counter-Strike 2.</td>\n",
       "      <td>['Action', 'Free to Play']</td>\n",
       "      <td>{'FPS': 90076, 'Shooter': 64786, 'Multiplayer': 61798, 'Competitive': 52887, 'Action': 47165, 'Team-Based': 46061, 'e-sports': 43144, 'Tactical': 41033, 'First-Person': 39082, 'PvP': 34156, 'Online Co-Op': 33708, 'Co-op': 30037, 'Strategy': 29902, 'Military': 28512, 'War': 27826, 'Difficult': 25814, 'Trading': 25487, 'Realistic': 25261, 'Fast-Paced': 25188, 'Moddable': 6453}</td>\n",
       "    </tr>\n",
       "    <tr>\n",
       "      <th>1</th>\n",
       "      <td>LAND, LOOT, SURVIVE! Play PUBG: BATTLEGROUNDS for free. Land on strategic locations, loot weapons and supplies, and survive to become the last team standing across various, diverse Battlegrounds. Squad up and join the Battlegrounds for the original Battle Royale experience that only PUBG: BATTLEGROUNDS can offer. This content download will also provide access to the BATTLEGROUNDS Test Server, which requires a separate download to play.  Optional in-game purchases available.</td>\n",
       "      <td>Play PUBG: BATTLEGROUNDS for free. Land on strategic locations, loot weapons and supplies, and survive to become the last team standing across various, diverse Battlegrounds. Squad up and join the Battlegrounds for the original Battle Royale experience that only PUBG: BATTLEGROUNDS can offer.</td>\n",
       "      <td>['Action', 'Adventure', 'Massively Multiplayer', 'Free to Play']</td>\n",
       "      <td>{'Survival': 14611, 'Shooter': 12477, 'Battle Royale': 10683, 'Multiplayer': 10648, 'FPS': 8242, 'PvP': 7598, 'Third-Person Shooter': 7202, 'Action': 5921, 'Online Co-Op': 5261, 'Tactical': 4969, 'Co-op': 4240, 'First-Person': 4000, 'Strategy': 3046, 'Early Access': 2799, 'Competitive': 2351, 'Third Person': 2302, 'Team-Based': 2016, 'Difficult': 1691, 'Simulation': 1338, 'Stealth': 1251}</td>\n",
       "    </tr>\n",
       "    <tr>\n",
       "      <th>2</th>\n",
       "      <td>The most-played game on Steam. Every day, millions of players worldwide enter battle as one of over a hundred Dota heroes. And no matter if it's their 10th hour of play or 1,000th, there's always something new to discover. With regular updates that ensure a constant evolution of gameplay, features, and heroes, Dota 2 has truly taken on a life of its own. One Battlefield. Infinite Possibilities. When it comes to diversity of heroes, abilities, and powerful items, Dota boasts an endless array—no two games are the same. Any hero can fill multiple roles, and there's an abundance of items to help meet the needs of each game. Dota doesn't provide limitations on how to play, it empowers you to express your own style. All heroes are free. Competitive balance is Dota's crown jewel, and to ensure everyone is playing on an even field, the core content of the game—like the vast pool of heroes—is available to all players. Fans can collect cosmetics for heroes and fun add-ons for the world they inhabit, but everything you need to play is already included before you join your first match. Bring your friends and party up. Dota is deep, and constantly evolving, but it's never too late to join. Learn the ropes playing co-op vs. bots. Sharpen your skills in the hero demo mode. Jump into the behavior- and skill-based matchmaking system that ensures you'll be matched with the right players each game.</td>\n",
       "      <td>Every day, millions of players worldwide enter battle as one of over a hundred Dota heroes. And no matter if it's their 10th hour of play or 1,000th, there's always something new to discover. With regular updates that ensure a constant evolution of gameplay, features, and heroes, Dota 2 has taken on a life of its own.</td>\n",
       "      <td>['Action', 'Strategy', 'Free to Play']</td>\n",
       "      <td>{'Free to Play': 59559, 'MOBA': 19966, 'Multiplayer': 15153, 'Strategy': 14096, 'e-sports': 11631, 'Team-Based': 10822, 'Competitive': 8166, 'Action': 7839, 'Online Co-Op': 7362, 'PvP': 5940, 'Difficult': 5227, 'Co-op': 4228, 'RTS': 4038, 'RPG': 3717, 'Tower Defense': 3710, 'Fantasy': 3687, 'Character Customization': 2869, 'Replay Value': 2712, 'Action RPG': 2411, 'Simulation': 1938}</td>\n",
       "    </tr>\n",
       "    <tr>\n",
       "      <th>3</th>\n",
       "      <td>When a young street hustler, a retired bank robber and a terrifying psychopath find themselves entangled with some of the most frightening and deranged elements of the criminal underworld, the U.S. government and the entertainment industry, they must pull off a series of dangerous heists to survive in a ruthless city in which they can trust nobody, least of all each other. Grand Theft Auto V for PC offers players the option to explore the award-winning world of Los Santos and Blaine County in resolutions of up to 4k and beyond, as well as the chance to experience the game running at 60 frames per second. The game offers players a huge range of PC-specific customization options, including over 25 separate configurable settings for texture quality, shaders, tessellation, anti-aliasing and more, as well as support and extensive customization for mouse and keyboard controls. Additional options include a population density slider to control car and pedestrian traffic, as well as dual and triple monitor support, 3D compatibility, and plug-and-play controller support. Grand Theft Auto V for PC also includes Grand Theft Auto Online, with support for 30 players and two spectators. Grand Theft Auto Online for PC will include all existing gameplay upgrades and Rockstar-created content released since the launch of Grand Theft Auto Online, including Heists and Adversary modes. The PC version of Grand Theft Auto V and Grand Theft Auto Online features First Person Mode, giving players the chance to explore the incredibly detailed world of Los Santos and Blaine County in an entirely new way. Grand Theft Auto V for PC also brings the debut of the Rockstar Editor, a powerful suite of creative tools to quickly and easily capture, edit and share game footage from within Grand Theft Auto V and Grand Theft Auto Online. The Rockstar Editor’s Director Mode allows players the ability to stage their own scenes using prominent story characters, pedestrians, and even animals to bring their...</td>\n",
       "      <td>Grand Theft Auto V for PC offers players the option to explore the award-winning world of Los Santos and Blaine County in resolutions of up to 4k and beyond, as well as the chance to experience the game running at 60 frames per second.</td>\n",
       "      <td>['Action', 'Adventure']</td>\n",
       "      <td>{'Open World': 31998, 'Action': 23177, 'Multiplayer': 21328, 'Crime': 19059, 'Automobile Sim': 18579, 'Third Person': 18412, 'First-Person': 18054, 'Mature': 14752, 'Shooter': 14673, 'Adventure': 13427, 'Singleplayer': 12253, 'Third-Person Shooter': 11801, 'Racing': 11400, 'Co-op': 10077, 'Sandbox': 9843, 'Atmospheric': 9813, 'Funny': 9234, 'Great Soundtrack': 8593, 'Comedy': 8455, 'Moddable': 6794}</td>\n",
       "    </tr>\n",
       "    <tr>\n",
       "      <th>4</th>\n",
       "      <td>“One of the best first-person shooters ever made. 10\\10” – GameSpot Tom Clancy's Rainbow Six® Siege is an elite, realistic, tactical team-based shooter where superior planning and execution triumph. It features 5v5 attack vs. defense gameplay and intense close-quarters combat in destructible environments. Engage in a brand-new style of assault using an unrivaled level of destruction and gadgetry. On defense, coordinate with your team to transform your environments into strongholds. Trap, fortify and create defensive systems to prevent being breached by the enemy. On attack, lead your team through narrow corridors, barricaded doorways and reinforced walls. Combine tactical maps, observation drones, rappelling and more to plan, attack and defuse every situation. Choose from dozens of highly trained, Special Forces operators from around the world. Deploy the latest technology to track enemy movement. Shatter walls to open new lines of fire. Breach ceilings and floors to create new access points. Employ every weapon and gadget from your deadly arsenal to locate, manipulate and destroy your enemies and the environment around them. Experience new strategies and tactics as Rainbow Six Siege evolves over time. Change the rules of Siege with every update that includes new operators, weapons, gadgets and maps. Evolve alongside the ever-changing landscape with your friends and become the most experienced and dangerous operators out there. Compete against others from around the world in ranked match play. Grab your best squad and join the competitive community in weekly tournaments or watch the best professional teams battle it out in the Rainbow Six Siege Pro League.</td>\n",
       "      <td>Tom Clancy's Rainbow Six® Siege is an elite, tactical team-based shooter where superior planning and execution triumph.</td>\n",
       "      <td>['Action']</td>\n",
       "      <td>{'FPS': 9689, 'PvP': 9073, 'e-sports': 9026, 'Multiplayer': 8948, 'Tactical': 8948, 'Shooter': 8944, 'Competitive': 8901, 'Online Co-Op': 8889, 'Action': 8875, 'Hero Shooter': 8836, 'Team-Based': 5575, 'Military': 4917, 'Strategy': 4859, 'First-Person': 4841, 'War': 4838, 'Realistic': 4830, 'Co-op': 4823, 'Destruction': 4820, 'Difficult': 2064, '3D': 1862}</td>\n",
       "    </tr>\n",
       "    <tr>\n",
       "      <th>...</th>\n",
       "      <td>...</td>\n",
       "      <td>...</td>\n",
       "      <td>...</td>\n",
       "      <td>...</td>\n",
       "    </tr>\n",
       "    <tr>\n",
       "      <th>83641</th>\n",
       "      <td>Circuit Breaker is a turn-based strategy game which forces the player to call upon the aid of a variety of audiences and their unique abilities to turn the tides of battle in your favor. Take control of the Rookie as you step into each Circuit and fight against many different types of opposing robots. Mastering both positioning yourself correctly on the field and knowing when to invoke the power of each audience will be key to achieving victory in the Circuit Breaker Pro League. As you battle your way through the Circuits you'll gain powerful upgrades that will help you overcome the more powerful foes that you will meet on your journey through the different levels of the League. Unlock new ways to move around the map, augmentations for your existing abilities, and new upgrades for the audience abilities to help you battle the overwhelming strength of the bots!</td>\n",
       "      <td>In the cyber-future of 2009, the most popular sport has become arena fighting. Challengers from all over gather to attempt to conquer gauntlets of robotic opponents for fortune and fame.</td>\n",
       "      <td>['Casual', 'Indie', 'Strategy']</td>\n",
       "      <td>{'Strategy': 72, 'Casual': 48, 'PvE': 47, 'Singleplayer': 44, 'Tactical': 41, 'Choices Matter': 37, 'Cyberpunk': 32, 'Turn-Based Strategy': 29, 'Turn-Based Tactics': 27, '3D': 25, 'Top-Down': 22, 'Indie': 21, 'Futuristic': 20, 'Robots': 18, 'Sci-fi': 17, 'Combat': 14, 'Turn-Based Combat': 12}</td>\n",
       "    </tr>\n",
       "    <tr>\n",
       "      <th>83642</th>\n",
       "      <td>Chess Vs Chat allows streamers to host chess matches where your chatters actively participate and engage with the match via your twitch stream simply by typing the moves they would like to play right in the chat. :) You can play against your chat, or let chat brawl among themselfs. While there are more apps that do just that; Chess vs Chat tries to step up the game by having more features that expand and smooth the experience. The streamer sets the timers; presses play on the game mode they like and the match is going. Chatters get sorted in teams with their names, emotes and votes wil be shown in the game window. Bits and Subs wil be highlighted further. The names scale nice and dynamically. This game is standalone and does not require any additional accounts or authentication besides Twitch. You authenticate to twitch using Oauth for a safe and simple login experience. After logging in for the first time, your credentials are encrypted and automatically remembered. There are also no applications or websites (beside your stream) your chatters need to use; they just type moves they like to see right in twitch chat. At the end of the turn the votes get tallied and the move with the most votes gets played. Of course the timer can be paused to give your slow chatters a bit more time. You can also choose to play without a timer and force turns to end whenever you please. During the games your chatters accumulate points by participating. After the game a highscore displaying the points will show the top participants. A highscore of the game itself and a historical highscore is available! (The user database created for this information is stored as a text file right on your computer, so no external sources. ;) ) You can play a regular game from the start or you can choose to play from a set position by loading FEN code’s from your clipboard right into the game. This way you play from a fixed starting position or even try to load chess puzzles to play with chat! Not on...</td>\n",
       "      <td>Allow your chatters to actively participate and engage with your chess stream simply by typing the moves they would like to see in the chat. :) All without the use of 3th party applications. Includes a highscore, match history, twitch emotes, twitch bot, auto moderating and tons of customization.</td>\n",
       "      <td>['Indie', 'Strategy']</td>\n",
       "      <td>{'Indie': 31, 'Strategy': 21, 'Puzzle': 11, 'Multiplayer': 11, '2D': 11, 'Chess': 11, 'Colorful': 11, 'Asynchronous Multiplayer': 11}</td>\n",
       "    </tr>\n",
       "    <tr>\n",
       "      <th>83643</th>\n",
       "      <td>Orbtangle is a simplistic puzzle game which requires you to swap the positions of orbs in order to untangle the lines with which they are connected. Only once none of the lines are crossing each other the level is completed. The game provides an endless mode in three difficulties and three additional campaigns with over 100 additional levels to unlock. The colors of the game elements are fully customizable and can be set to your liking!</td>\n",
       "      <td>Orbtangle is a simplistic puzzle game which requires you to swap the positions of orbs in order to untangle the lines with which they are connected.</td>\n",
       "      <td>['Indie']</td>\n",
       "      <td>{'Puzzle': 54, 'Colorful': 46, 'Relaxing': 44, 'Logic': 41, 'Minimalist': 38, 'Casual': 33, 'Clicker': 30, 'Strategy': 27, 'Tactical': 25, 'Singleplayer': 24, '2D': 22, 'Indie': 21, 'Atmospheric': 19, 'Cute': 17, 'Futuristic': 15, 'Modern': 13, 'Character Customization': 11}</td>\n",
       "    </tr>\n",
       "    <tr>\n",
       "      <th>83644</th>\n",
       "      <td>Play with Friends Play with or against your friends in Flashlight. Choose to battle through the roguelite story experience solo or cooperatively with your friends. Challenge others in Capture the Flag and Team Deathmatch PvP modes. Randomized Levels and a variety of enemies Fight against waves of different zombies and bosses through procedurally generated levels and randomized events. Never have the same exact experience twice! Equipment Mods Search for and gather equipment mods for your player character and weapons. Many combinations exist and can be used for fun team comps! Crafting Build your own turrets and barriers that will halt the progress of the horde. Enemy Mercenaries Encounter and defeat enemy mercenary groups as clear out different zones, potentially trapped with enemy turrets. Enemy mercenaries are dangerous foes as they are fully equipped with the same capabilities as the players. Rank up and choose from various skills and tech drops Choose between four different mercenary groups to join. Each group has a different set of perks to choose from as you move up the ranks and prove yourself by earning 'Merc Cred' as you go. The more things you kill, the more Cred you earn to rank up. Call in air drops that contain supplies and technical upgrades for your weaponry that will turn the tide of battle!</td>\n",
       "      <td>Salvage scrap, build defenses, and rank-up to survive against the hordes of zombies and enemy mercenaries in an action packed looter shooter roguelite survival or fight head to head with other players in Capture the Flag and Team Death Match.</td>\n",
       "      <td>['Action', 'Adventure', 'Indie']</td>\n",
       "      <td>{'Top-Down Shooter': 138, 'Rogue-lite': 132, 'Action Roguelike': 128, 'Co-op': 125, 'Difficult': 121, 'Action': 116, \"Shoot 'Em Up\": 108, 'Arcade': 107, 'Perma Death': 104, 'PvP': 102, '2D': 101, 'Zombies': 100, 'Survival': 95, 'Old School': 94, 'Looter Shooter': 92, 'Post-apocalyptic': 91, 'Crafting': 88, 'Procedural Generation': 86, 'Online Co-Op': 84, 'Team-Based': 82}</td>\n",
       "    </tr>\n",
       "    <tr>\n",
       "      <th>83645</th>\n",
       "      <td>Wonfourn challenges you to fulfill your destiny by embarking on a grand adventure seeking fame, fortune and glory. The firstborn chosen child from each of the games 6 nations have come of age and must prove their worth in an epic quest of survival. Set sail and explore 36 islands, each with its own challenges and surprises. Protect your kingdom with your life! Master the trades of archery, spear throwing and jousting in glorious VR. Trade goods between islands, discover and exploit trading routes, and watch out for bands of pirates seeking your loot. Control the battle from the deck of your ship and feel the canons roar as you sink your opponent. Cross the ocean seeking rumored riches and spend your fortune on weaponry needed for battle. Defeat is not an option! KEY FEATURES 36 islands to explore 6 nations to play Exciting quests Merchant trading Pirates and sea battles Jousting, spear throwing and archery Blacksmith's Forge</td>\n",
       "      <td>Wonfourn challenges you to fulfill your destiny by embarking on a grand adventure seeking fame, fortune and glory. The firstborn chosen child from each of the games 6 nations have come of age and must prove their worth in an epic quest of survival.</td>\n",
       "      <td>['Violent', 'Action', 'Adventure', 'Indie', 'Strategy']</td>\n",
       "      <td>{'Action': 22, 'Indie': 20, 'Violent': 20, 'Strategy': 19, 'Adventure': 19, 'VR': 10}</td>\n",
       "    </tr>\n",
       "  </tbody>\n",
       "</table>\n",
       "<p>83455 rows × 4 columns</p>\n",
       "</div>"
      ],
      "text/plain": [
       "                                                                                                                                                                                                                                                                                                                                                                                                                                                                                                                                                                                                                                                                                                                                                                                                                                                                                                                                                                                                                                                                                                                                                                                                                                                                                                                                                                                                                                                                                                                                                                                                                                                                                                                                                                                                                                                                                                                                                                                                                                                                        about_the_game  \\\n",
       "0                                                                                                                                                                                                                                                                                                                                                                                                                                                                                                                                                                                                                                                                                                                                                                                                                                                                                                                                                                                                                                                                                                                                                                      For over two decades, Counter-Strike has offered an elite competitive experience, one shaped by millions of players from across the globe. And now the next chapter in the CS story is about to begin. This is Counter-Strike 2. A free upgrade to CS:GO, Counter-Strike 2 marks the largest technical leap in Counter-Strike’s history. Built on the Source 2 engine, Counter-Strike 2 is modernized with realistic physically-based rendering, state of the art networking, and upgraded Community Workshop tools. In addition to the classic objective-focused gameplay that Counter-Strike pioneered in 1999, Counter-Strike 2 features: All-new CS Ratings with the updated Premier mode Global and Regional leaderboards Upgraded and overhauled maps Game-changing dynamic smoke grenades Tick-rate-independent gameplay Redesigned visual effects and audio All items from CS:GO moving forward to CS2    \n",
       "1                                                                                                                                                                                                                                                                                                                                                                                                                                                                                                                                                                                                                                                                                                                                                                                                                                                                                                                                                                                                                                                                                                                                                                                                                                                                                                                                                                                                                                                                                                                                                                                       LAND, LOOT, SURVIVE! Play PUBG: BATTLEGROUNDS for free. Land on strategic locations, loot weapons and supplies, and survive to become the last team standing across various, diverse Battlegrounds. Squad up and join the Battlegrounds for the original Battle Royale experience that only PUBG: BATTLEGROUNDS can offer. This content download will also provide access to the BATTLEGROUNDS Test Server, which requires a separate download to play.  Optional in-game purchases available.   \n",
       "2                                                                                                                                                                                                                                                                                                                                                                                                                                                                                                                                                                                                                           The most-played game on Steam. Every day, millions of players worldwide enter battle as one of over a hundred Dota heroes. And no matter if it's their 10th hour of play or 1,000th, there's always something new to discover. With regular updates that ensure a constant evolution of gameplay, features, and heroes, Dota 2 has truly taken on a life of its own. One Battlefield. Infinite Possibilities. When it comes to diversity of heroes, abilities, and powerful items, Dota boasts an endless array—no two games are the same. Any hero can fill multiple roles, and there's an abundance of items to help meet the needs of each game. Dota doesn't provide limitations on how to play, it empowers you to express your own style. All heroes are free. Competitive balance is Dota's crown jewel, and to ensure everyone is playing on an even field, the core content of the game—like the vast pool of heroes—is available to all players. Fans can collect cosmetics for heroes and fun add-ons for the world they inhabit, but everything you need to play is already included before you join your first match. Bring your friends and party up. Dota is deep, and constantly evolving, but it's never too late to join. Learn the ropes playing co-op vs. bots. Sharpen your skills in the hero demo mode. Jump into the behavior- and skill-based matchmaking system that ensures you'll be matched with the right players each game.   \n",
       "3      When a young street hustler, a retired bank robber and a terrifying psychopath find themselves entangled with some of the most frightening and deranged elements of the criminal underworld, the U.S. government and the entertainment industry, they must pull off a series of dangerous heists to survive in a ruthless city in which they can trust nobody, least of all each other. Grand Theft Auto V for PC offers players the option to explore the award-winning world of Los Santos and Blaine County in resolutions of up to 4k and beyond, as well as the chance to experience the game running at 60 frames per second. The game offers players a huge range of PC-specific customization options, including over 25 separate configurable settings for texture quality, shaders, tessellation, anti-aliasing and more, as well as support and extensive customization for mouse and keyboard controls. Additional options include a population density slider to control car and pedestrian traffic, as well as dual and triple monitor support, 3D compatibility, and plug-and-play controller support. Grand Theft Auto V for PC also includes Grand Theft Auto Online, with support for 30 players and two spectators. Grand Theft Auto Online for PC will include all existing gameplay upgrades and Rockstar-created content released since the launch of Grand Theft Auto Online, including Heists and Adversary modes. The PC version of Grand Theft Auto V and Grand Theft Auto Online features First Person Mode, giving players the chance to explore the incredibly detailed world of Los Santos and Blaine County in an entirely new way. Grand Theft Auto V for PC also brings the debut of the Rockstar Editor, a powerful suite of creative tools to quickly and easily capture, edit and share game footage from within Grand Theft Auto V and Grand Theft Auto Online. The Rockstar Editor’s Director Mode allows players the ability to stage their own scenes using prominent story characters, pedestrians, and even animals to bring their...   \n",
       "4                                                                                                                                                                                                                                                                                                                                 “One of the best first-person shooters ever made. 10\\10” – GameSpot Tom Clancy's Rainbow Six® Siege is an elite, realistic, tactical team-based shooter where superior planning and execution triumph. It features 5v5 attack vs. defense gameplay and intense close-quarters combat in destructible environments. Engage in a brand-new style of assault using an unrivaled level of destruction and gadgetry. On defense, coordinate with your team to transform your environments into strongholds. Trap, fortify and create defensive systems to prevent being breached by the enemy. On attack, lead your team through narrow corridors, barricaded doorways and reinforced walls. Combine tactical maps, observation drones, rappelling and more to plan, attack and defuse every situation. Choose from dozens of highly trained, Special Forces operators from around the world. Deploy the latest technology to track enemy movement. Shatter walls to open new lines of fire. Breach ceilings and floors to create new access points. Employ every weapon and gadget from your deadly arsenal to locate, manipulate and destroy your enemies and the environment around them. Experience new strategies and tactics as Rainbow Six Siege evolves over time. Change the rules of Siege with every update that includes new operators, weapons, gadgets and maps. Evolve alongside the ever-changing landscape with your friends and become the most experienced and dangerous operators out there. Compete against others from around the world in ranked match play. Grab your best squad and join the competitive community in weekly tournaments or watch the best professional teams battle it out in the Rainbow Six Siege Pro League.   \n",
       "...                                                                                                                                                                                                                                                                                                                                                                                                                                                                                                                                                                                                                                                                                                                                                                                                                                                                                                                                                                                                                                                                                                                                                                                                                                                                                                                                                                                                                                                                                                                                                                                                                                                                                                                                                                                                                                                                                                                                                                                                                                                                                ...   \n",
       "83641                                                                                                                                                                                                                                                                                                                                                                                                                                                                                                                                                                                                                                                                                                                                                                                                                                                                                                                                                                                                                                                                                                                                                                         Circuit Breaker is a turn-based strategy game which forces the player to call upon the aid of a variety of audiences and their unique abilities to turn the tides of battle in your favor. Take control of the Rookie as you step into each Circuit and fight against many different types of opposing robots. Mastering both positioning yourself correctly on the field and knowing when to invoke the power of each audience will be key to achieving victory in the Circuit Breaker Pro League. As you battle your way through the Circuits you'll gain powerful upgrades that will help you overcome the more powerful foes that you will meet on your journey through the different levels of the League. Unlock new ways to move around the map, augmentations for your existing abilities, and new upgrades for the audience abilities to help you battle the overwhelming strength of the bots!   \n",
       "83642  Chess Vs Chat allows streamers to host chess matches where your chatters actively participate and engage with the match via your twitch stream simply by typing the moves they would like to play right in the chat. :) You can play against your chat, or let chat brawl among themselfs. While there are more apps that do just that; Chess vs Chat tries to step up the game by having more features that expand and smooth the experience. The streamer sets the timers; presses play on the game mode they like and the match is going. Chatters get sorted in teams with their names, emotes and votes wil be shown in the game window. Bits and Subs wil be highlighted further. The names scale nice and dynamically. This game is standalone and does not require any additional accounts or authentication besides Twitch. You authenticate to twitch using Oauth for a safe and simple login experience. After logging in for the first time, your credentials are encrypted and automatically remembered. There are also no applications or websites (beside your stream) your chatters need to use; they just type moves they like to see right in twitch chat. At the end of the turn the votes get tallied and the move with the most votes gets played. Of course the timer can be paused to give your slow chatters a bit more time. You can also choose to play without a timer and force turns to end whenever you please. During the games your chatters accumulate points by participating. After the game a highscore displaying the points will show the top participants. A highscore of the game itself and a historical highscore is available! (The user database created for this information is stored as a text file right on your computer, so no external sources. ;) ) You can play a regular game from the start or you can choose to play from a set position by loading FEN code’s from your clipboard right into the game. This way you play from a fixed starting position or even try to load chess puzzles to play with chat! Not on...   \n",
       "83643                                                                                                                                                                                                                                                                                                                                                                                                                                                                                                                                                                                                                                                                                                                                                                                                                                                                                                                                                                                                                                                                                                                                                                                                                                                                                                                                                                                                                                                                                                                                                                                                                         Orbtangle is a simplistic puzzle game which requires you to swap the positions of orbs in order to untangle the lines with which they are connected. Only once none of the lines are crossing each other the level is completed. The game provides an endless mode in three difficulties and three additional campaigns with over 100 additional levels to unlock. The colors of the game elements are fully customizable and can be set to your liking!   \n",
       "83644                                                                                                                                                                                                                                                                                                                                                                                                                                                                                                                                                                                                                                                                                                 Play with Friends Play with or against your friends in Flashlight. Choose to battle through the roguelite story experience solo or cooperatively with your friends. Challenge others in Capture the Flag and Team Deathmatch PvP modes. Randomized Levels and a variety of enemies Fight against waves of different zombies and bosses through procedurally generated levels and randomized events. Never have the same exact experience twice! Equipment Mods Search for and gather equipment mods for your player character and weapons. Many combinations exist and can be used for fun team comps! Crafting Build your own turrets and barriers that will halt the progress of the horde. Enemy Mercenaries Encounter and defeat enemy mercenary groups as clear out different zones, potentially trapped with enemy turrets. Enemy mercenaries are dangerous foes as they are fully equipped with the same capabilities as the players. Rank up and choose from various skills and tech drops Choose between four different mercenary groups to join. Each group has a different set of perks to choose from as you move up the ranks and prove yourself by earning 'Merc Cred' as you go. The more things you kill, the more Cred you earn to rank up. Call in air drops that contain supplies and technical upgrades for your weaponry that will turn the tide of battle!   \n",
       "83645                                                                                                                                                                                                                                                                                                                                                                                                                                                                                                                                                                                                                                                                                                                                                                                                                                                                                                                                                                                                                                                                                                      Wonfourn challenges you to fulfill your destiny by embarking on a grand adventure seeking fame, fortune and glory. The firstborn chosen child from each of the games 6 nations have come of age and must prove their worth in an epic quest of survival. Set sail and explore 36 islands, each with its own challenges and surprises. Protect your kingdom with your life! Master the trades of archery, spear throwing and jousting in glorious VR. Trade goods between islands, discover and exploit trading routes, and watch out for bands of pirates seeking your loot. Control the battle from the deck of your ship and feel the canons roar as you sink your opponent. Cross the ocean seeking rumored riches and spend your fortune on weaponry needed for battle. Defeat is not an option! KEY FEATURES 36 islands to explore 6 nations to play Exciting quests Merchant trading Pirates and sea battles Jousting, spear throwing and archery Blacksmith's Forge    \n",
       "\n",
       "                                                                                                                                                                                                                                                                                                                     short_description  \\\n",
       "0                                                                                                     For over two decades, Counter-Strike has offered an elite competitive experience, one shaped by millions of players from across the globe. And now the next chapter in the CS story is about to begin. This is Counter-Strike 2.   \n",
       "1                                Play PUBG: BATTLEGROUNDS for free. Land on strategic locations, loot weapons and supplies, and survive to become the last team standing across various, diverse Battlegrounds. Squad up and join the Battlegrounds for the original Battle Royale experience that only PUBG: BATTLEGROUNDS can offer.   \n",
       "2      Every day, millions of players worldwide enter battle as one of over a hundred Dota heroes. And no matter if it's their 10th hour of play or 1,000th, there's always something new to discover. With regular updates that ensure a constant evolution of gameplay, features, and heroes, Dota 2 has taken on a life of its own.   \n",
       "3                                                                                          Grand Theft Auto V for PC offers players the option to explore the award-winning world of Los Santos and Blaine County in resolutions of up to 4k and beyond, as well as the chance to experience the game running at 60 frames per second.   \n",
       "4                                                                                                                                                                                                              Tom Clancy's Rainbow Six® Siege is an elite, tactical team-based shooter where superior planning and execution triumph.   \n",
       "...                                                                                                                                                                                                                                                                                                                                ...   \n",
       "83641                                                                                                                                       In the cyber-future of 2009, the most popular sport has become arena fighting. Challengers from all over gather to attempt to conquer gauntlets of robotic opponents for fortune and fame.   \n",
       "83642                        Allow your chatters to actively participate and engage with your chess stream simply by typing the moves they would like to see in the chat. :) All without the use of 3th party applications. Includes a highscore, match history, twitch emotes, twitch bot, auto moderating and tons of customization.   \n",
       "83643                                                                                                                                                                             Orbtangle is a simplistic puzzle game which requires you to swap the positions of orbs in order to untangle the lines with which they are connected.   \n",
       "83644                                                                               Salvage scrap, build defenses, and rank-up to survive against the hordes of zombies and enemy mercenaries in an action packed looter shooter roguelite survival or fight head to head with other players in Capture the Flag and Team Death Match.   \n",
       "83645                                                                         Wonfourn challenges you to fulfill your destiny by embarking on a grand adventure seeking fame, fortune and glory. The firstborn chosen child from each of the games 6 nations have come of age and must prove their worth in an epic quest of survival.   \n",
       "\n",
       "                                                                 genres  \\\n",
       "0                                            ['Action', 'Free to Play']   \n",
       "1      ['Action', 'Adventure', 'Massively Multiplayer', 'Free to Play']   \n",
       "2                                ['Action', 'Strategy', 'Free to Play']   \n",
       "3                                               ['Action', 'Adventure']   \n",
       "4                                                            ['Action']   \n",
       "...                                                                 ...   \n",
       "83641                                   ['Casual', 'Indie', 'Strategy']   \n",
       "83642                                             ['Indie', 'Strategy']   \n",
       "83643                                                         ['Indie']   \n",
       "83644                                  ['Action', 'Adventure', 'Indie']   \n",
       "83645           ['Violent', 'Action', 'Adventure', 'Indie', 'Strategy']   \n",
       "\n",
       "                                                                                                                                                                                                                                                                                                                                                                                                                     tags  \n",
       "0                               {'FPS': 90076, 'Shooter': 64786, 'Multiplayer': 61798, 'Competitive': 52887, 'Action': 47165, 'Team-Based': 46061, 'e-sports': 43144, 'Tactical': 41033, 'First-Person': 39082, 'PvP': 34156, 'Online Co-Op': 33708, 'Co-op': 30037, 'Strategy': 29902, 'Military': 28512, 'War': 27826, 'Difficult': 25814, 'Trading': 25487, 'Realistic': 25261, 'Fast-Paced': 25188, 'Moddable': 6453}  \n",
       "1                 {'Survival': 14611, 'Shooter': 12477, 'Battle Royale': 10683, 'Multiplayer': 10648, 'FPS': 8242, 'PvP': 7598, 'Third-Person Shooter': 7202, 'Action': 5921, 'Online Co-Op': 5261, 'Tactical': 4969, 'Co-op': 4240, 'First-Person': 4000, 'Strategy': 3046, 'Early Access': 2799, 'Competitive': 2351, 'Third Person': 2302, 'Team-Based': 2016, 'Difficult': 1691, 'Simulation': 1338, 'Stealth': 1251}  \n",
       "2                      {'Free to Play': 59559, 'MOBA': 19966, 'Multiplayer': 15153, 'Strategy': 14096, 'e-sports': 11631, 'Team-Based': 10822, 'Competitive': 8166, 'Action': 7839, 'Online Co-Op': 7362, 'PvP': 5940, 'Difficult': 5227, 'Co-op': 4228, 'RTS': 4038, 'RPG': 3717, 'Tower Defense': 3710, 'Fantasy': 3687, 'Character Customization': 2869, 'Replay Value': 2712, 'Action RPG': 2411, 'Simulation': 1938}  \n",
       "3      {'Open World': 31998, 'Action': 23177, 'Multiplayer': 21328, 'Crime': 19059, 'Automobile Sim': 18579, 'Third Person': 18412, 'First-Person': 18054, 'Mature': 14752, 'Shooter': 14673, 'Adventure': 13427, 'Singleplayer': 12253, 'Third-Person Shooter': 11801, 'Racing': 11400, 'Co-op': 10077, 'Sandbox': 9843, 'Atmospheric': 9813, 'Funny': 9234, 'Great Soundtrack': 8593, 'Comedy': 8455, 'Moddable': 6794}  \n",
       "4                                                  {'FPS': 9689, 'PvP': 9073, 'e-sports': 9026, 'Multiplayer': 8948, 'Tactical': 8948, 'Shooter': 8944, 'Competitive': 8901, 'Online Co-Op': 8889, 'Action': 8875, 'Hero Shooter': 8836, 'Team-Based': 5575, 'Military': 4917, 'Strategy': 4859, 'First-Person': 4841, 'War': 4838, 'Realistic': 4830, 'Co-op': 4823, 'Destruction': 4820, 'Difficult': 2064, '3D': 1862}  \n",
       "...                                                                                                                                                                                                                                                                                                                                                                                                                   ...  \n",
       "83641                                                                                                               {'Strategy': 72, 'Casual': 48, 'PvE': 47, 'Singleplayer': 44, 'Tactical': 41, 'Choices Matter': 37, 'Cyberpunk': 32, 'Turn-Based Strategy': 29, 'Turn-Based Tactics': 27, '3D': 25, 'Top-Down': 22, 'Indie': 21, 'Futuristic': 20, 'Robots': 18, 'Sci-fi': 17, 'Combat': 14, 'Turn-Based Combat': 12}  \n",
       "83642                                                                                                                                                                                                                                                                               {'Indie': 31, 'Strategy': 21, 'Puzzle': 11, 'Multiplayer': 11, '2D': 11, 'Chess': 11, 'Colorful': 11, 'Asynchronous Multiplayer': 11}  \n",
       "83643                                                                                                                                 {'Puzzle': 54, 'Colorful': 46, 'Relaxing': 44, 'Logic': 41, 'Minimalist': 38, 'Casual': 33, 'Clicker': 30, 'Strategy': 27, 'Tactical': 25, 'Singleplayer': 24, '2D': 22, 'Indie': 21, 'Atmospheric': 19, 'Cute': 17, 'Futuristic': 15, 'Modern': 13, 'Character Customization': 11}  \n",
       "83644                              {'Top-Down Shooter': 138, 'Rogue-lite': 132, 'Action Roguelike': 128, 'Co-op': 125, 'Difficult': 121, 'Action': 116, \"Shoot 'Em Up\": 108, 'Arcade': 107, 'Perma Death': 104, 'PvP': 102, '2D': 101, 'Zombies': 100, 'Survival': 95, 'Old School': 94, 'Looter Shooter': 92, 'Post-apocalyptic': 91, 'Crafting': 88, 'Procedural Generation': 86, 'Online Co-Op': 84, 'Team-Based': 82}  \n",
       "83645                                                                                                                                                                                                                                                                                                                               {'Action': 22, 'Indie': 20, 'Violent': 20, 'Strategy': 19, 'Adventure': 19, 'VR': 10}  \n",
       "\n",
       "[83455 rows x 4 columns]"
      ]
     },
     "execution_count": 13,
     "metadata": {},
     "output_type": "execute_result"
    }
   ],
   "source": [
    "df_cleaned"
   ]
  },
  {
   "cell_type": "markdown",
   "metadata": {},
   "source": [
    "<div style=\"background:#FFFFE0;padding:20px;color:#000000;margin-top:10px;\">\n",
    "Realizamos la limpieza profunda\n",
    "</div>"
   ]
  },
  {
   "cell_type": "markdown",
   "metadata": {},
   "source": [
    "<div style=\"background:#FFFFE0;padding:20px;color:#000000;margin-top:10px;\">\n",
    "Instalamos la libreria de emoji para poder eliminar cada emoji que aparezca en el dataset\n",
    "</div>"
   ]
  },
  {
   "cell_type": "code",
   "execution_count": 14,
   "metadata": {},
   "outputs": [],
   "source": [
    "#%pip install emoji"
   ]
  },
  {
   "cell_type": "code",
   "execution_count": 15,
   "metadata": {},
   "outputs": [],
   "source": [
    "import re\n",
    "\n",
    "def clean_df(df):\n",
    "    if df is None:\n",
    "        return None\n",
    "    df_copy = df.copy()\n",
    "    \n",
    "    emoji_pattern = re.compile(\"[\"\n",
    "                               u\"\\U0001F600-\\U0001F64F\"  # emoticons\n",
    "                               u\"\\U0001F300-\\U0001F5FF\"  # symbols & pictographs\n",
    "                               u\"\\U0001F680-\\U0001F6FF\"  # transport & map symbols\n",
    "                               u\"\\U0001F1E0-\\U0001F1FF\"  # flags (iOS)\n",
    "                               u\"\\U00002702-\\U000027B0\"\n",
    "                               u\"\\U000024C2-\\U0001F251\"\n",
    "                               u\"\\U0001F900-\\U0001F9FF\"  # Supplemental Symbols and Pictographs\n",
    "                               u\"\\U0001FA00-\\U0001FA6F\"  # Chess Symbols\n",
    "                               u\"\\U0001FA70-\\U0001FAFF\"  # Symbols and Pictographs Extended-A\n",
    "                               u\"\\U00002600-\\U000026FF\"  # Miscellaneous Symbols\n",
    "                               u\"\\U00002700-\\U000027BF\"  # Dingbats\n",
    "                               \"]+\", flags=re.UNICODE)\n",
    "    \n",
    "    # Define the replacement patterns\n",
    "    replace_patterns = [\n",
    "        ('•', False),\n",
    "        ('◆', False),\n",
    "        ('™', False),\n",
    "        ('®', False),\n",
    "        ('©', False),\n",
    "        ('█', False),\n",
    "        ('▒', False),\n",
    "        ('__', False),\n",
    "        ('……', False),\n",
    "        ('†', False),\n",
    "        ('※', False),\n",
    "        ('', False),\n",
    "        ('£', False),\n",
    "        ('⊰⊱', False),\n",
    "        ('๑̀́و', False),\n",
    "        (\"'\", False),\n",
    "        ('...', False),\n",
    "        ('-', False),\n",
    "        ('—', False),\n",
    "        ('_', False),\n",
    "        ('___________', False),\n",
    "        (r'[,.:;=()*+&^%$#@!{}~\\[\\]<>?/|\\\\\\-\\'\"«»–“”]', True)\n",
    "    ]\n",
    "    \n",
    "    for columna in df_copy.columns:\n",
    "        # Apply emoji pattern removal\n",
    "        df_copy[columna] = df_copy[columna].astype(str).apply(lambda x: emoji_pattern.sub(r'', x))\n",
    "        \n",
    "        # Apply all replacement patterns\n",
    "        for pattern, is_regex in replace_patterns:\n",
    "            df_copy[columna] = df_copy[columna].str.replace(pattern, '', regex=is_regex)\n",
    "        \n",
    "        # Convert text to lowercase\n",
    "        df_copy[columna] = df_copy[columna].str.lower()\n",
    "    \n",
    "    return df_copy\n"
   ]
  },
  {
   "cell_type": "code",
   "execution_count": 16,
   "metadata": {},
   "outputs": [],
   "source": [
    "df_cleaned = clean_df(df_cleaned)"
   ]
  },
  {
   "cell_type": "code",
   "execution_count": 17,
   "metadata": {},
   "outputs": [
    {
     "name": "stdout",
     "output_type": "stream",
     "text": [
      "La columna no contiene el carácter '®'.\n"
     ]
    }
   ],
   "source": [
    "# Esto nos ayuda a saber si el signo o caracter esta todavia en la columna del dataset\n",
    "contiene_caracter = df_cleaned['about_the_game'].astype(str).str.contains('•')\n",
    "\n",
    "# Verifica si algún elemento contiene el carácter \"®\"\n",
    "if contiene_caracter.any():\n",
    "    print(\"La columna contiene al menos un '®'.\")\n",
    "else:\n",
    "    print(\"La columna no contiene el carácter '®'.\")"
   ]
  },
  {
   "cell_type": "code",
   "execution_count": 18,
   "metadata": {},
   "outputs": [
    {
     "data": {
      "text/plain": [
       "0                                        action free to play\n",
       "1        action adventure massively multiplayer free to play\n",
       "2                               action strategy free to play\n",
       "3                                           action adventure\n",
       "4                                                     action\n",
       "                                ...                         \n",
       "83641                                  casual indie strategy\n",
       "83642                                         indie strategy\n",
       "83643                                                  indie\n",
       "83644                                 action adventure indie\n",
       "83645                violent action adventure indie strategy\n",
       "Name: genres, Length: 83455, dtype: object"
      ]
     },
     "execution_count": 18,
     "metadata": {},
     "output_type": "execute_result"
    }
   ],
   "source": [
    "df_cleaned['genres']"
   ]
  },
  {
   "cell_type": "markdown",
   "metadata": {},
   "source": [
    "<div style=\"background:#FFFFE0;padding:20px;color:#000000;margin-top:10px;\">\n",
    "Instalamos la libreria de emoji para poder eliminar cada emoji que aparezca en el dataset\n",
    "</div>"
   ]
  },
  {
   "cell_type": "code",
   "execution_count": 19,
   "metadata": {},
   "outputs": [],
   "source": [
    "df_cleaned.to_csv('df_cleaned_games_limpia.csv', index=False)"
   ]
  },
  {
   "cell_type": "code",
   "execution_count": 31,
   "metadata": {},
   "outputs": [
    {
     "data": {
      "text/plain": [
       "0                                        action free to play\n",
       "1        action adventure massively multiplayer free to play\n",
       "2                               action strategy free to play\n",
       "3                                           action adventure\n",
       "4                                                     action\n",
       "                                ...                         \n",
       "83641                                  casual indie strategy\n",
       "83642                                         indie strategy\n",
       "83643                                                  indie\n",
       "83644                                 action adventure indie\n",
       "83645                violent action adventure indie strategy\n",
       "Name: genres, Length: 83354, dtype: object"
      ]
     },
     "execution_count": 31,
     "metadata": {},
     "output_type": "execute_result"
    }
   ],
   "source": [
    "df_cleaned[]"
   ]
  },
  {
   "cell_type": "code",
   "execution_count": 55,
   "metadata": {},
   "outputs": [],
   "source": [
    "df_cleaned = df_cleaned.dropna(subset=['about_the_game', 'genres'])\n"
   ]
  },
  {
   "cell_type": "code",
   "execution_count": 56,
   "metadata": {},
   "outputs": [
    {
     "name": "stdout",
     "output_type": "stream",
     "text": [
      "83354\n",
      "83354\n"
     ]
    }
   ],
   "source": [
    "print(len(df_cleaned['about_the_game']))\n",
    "print(len(df_cleaned['genres']))\n"
   ]
  },
  {
   "cell_type": "code",
   "execution_count": 63,
   "metadata": {},
   "outputs": [],
   "source": [
    "df_cleaned['filtered_genres'] = df_cleaned['genres'].apply(lambda x: len(x))\n"
   ]
  },
  {
   "cell_type": "code",
   "execution_count": 65,
   "metadata": {},
   "outputs": [
    {
     "data": {
      "text/plain": [
       "0                                        action free to play\n",
       "1        action adventure massively multiplayer free to play\n",
       "2                               action strategy free to play\n",
       "3                                           action adventure\n",
       "4                                                     action\n",
       "                                ...                         \n",
       "83641                                  casual indie strategy\n",
       "83642                                         indie strategy\n",
       "83643                                                  indie\n",
       "83644                                 action adventure indie\n",
       "83645                violent action adventure indie strategy\n",
       "Name: genres, Length: 83354, dtype: object"
      ]
     },
     "execution_count": 65,
     "metadata": {},
     "output_type": "execute_result"
    }
   ],
   "source": [
    "df_cleaned['genres']"
   ]
  },
  {
   "cell_type": "code",
   "execution_count": 66,
   "metadata": {},
   "outputs": [],
   "source": [
    "df_cleaned['genres'] = df_cleaned['genres'].apply(lambda x: x.split())\n"
   ]
  },
  {
   "cell_type": "code",
   "execution_count": 67,
   "metadata": {},
   "outputs": [],
   "source": [
    "# Crear una lista de todos los géneros\n",
    "all_genres = [genre for sublist in df_cleaned['genres'] for genre in sublist]\n",
    "\n",
    "# Contar la frecuencia de cada género\n",
    "genre_counts = Counter(all_genres)"
   ]
  },
  {
   "cell_type": "code",
   "execution_count": 68,
   "metadata": {},
   "outputs": [],
   "source": [
    "# Filtrar géneros que tienen menos de 2 ejemplos\n",
    "filtered_genres = [genre for genre, count in genre_counts.items() if count >= 2]\n"
   ]
  },
  {
   "cell_type": "code",
   "execution_count": 69,
   "metadata": {},
   "outputs": [],
   "source": [
    "# Función para filtrar géneros en cada fila\n",
    "def filter_genres(genres):\n",
    "    return [genre for genre in genres if genre in filtered_genres]\n",
    "# Aplicar la función de filtro\n",
    "df_cleaned['filtered_genres'] = df_cleaned['genres'].apply(filter_genres)\n"
   ]
  },
  {
   "cell_type": "code",
   "execution_count": 70,
   "metadata": {},
   "outputs": [
    {
     "name": "stdout",
     "output_type": "stream",
     "text": [
      "0                                       [action, free, to, play]\n",
      "1    [action, adventure, massively, multiplayer, free, to, play]\n",
      "2                             [action, strategy, free, to, play]\n",
      "3                                            [action, adventure]\n",
      "4                                                       [action]\n",
      "Name: filtered_genres, dtype: object\n"
     ]
    }
   ],
   "source": [
    "print(df_cleaned['filtered_genres'].head())\n"
   ]
  },
  {
   "cell_type": "code",
   "execution_count": 71,
   "metadata": {},
   "outputs": [],
   "source": [
    "# Eliminar filas donde 'filtered_genres' esté vacío\n",
    "df_cleaned = df_cleaned[df_cleaned['filtered_genres'].map(len) > 0]\n"
   ]
  },
  {
   "cell_type": "code",
   "execution_count": 72,
   "metadata": {},
   "outputs": [],
   "source": [
    "# Verificar las longitudes\n",
    "assert len(df_cleaned['about_the_game']) == len(df_cleaned['filtered_genres']), \"Las longitudes de las columnas no coinciden.\"\n"
   ]
  },
  {
   "cell_type": "code",
   "execution_count": 73,
   "metadata": {},
   "outputs": [],
   "source": [
    "# Crear una lista de todos los géneros\n",
    "all_genres = [genre for sublist in df_cleaned['filtered_genres'] for genre in sublist]\n",
    "\n",
    "# Contar la frecuencia de cada género\n",
    "genre_counts = Counter(all_genres)\n",
    "\n",
    "# Filtrar géneros que tienen menos de 2 ejemplos\n",
    "filtered_genres = [genre for genre, count in genre_counts.items() if count >= 2]\n",
    "\n",
    "# Función para filtrar géneros en cada fila\n",
    "def filter_genres(genres):\n",
    "    return [genre for genre in genres if genre in filtered_genres]\n",
    "\n",
    "# Aplicar la función de filtro\n",
    "df_cleaned['filtered_genres'] = df_cleaned['genres'].apply(filter_genres)\n",
    "\n",
    "# Eliminar filas donde 'filtered_genres' esté vacío\n",
    "df_cleaned = df_cleaned[df_cleaned['filtered_genres'].map(len) > 0]\n",
    "\n",
    "# Verificar las longitudes\n",
    "assert len(df_cleaned['about_the_game']) == len(df_cleaned['filtered_genres']), \"Las longitudes de las columnas no coinciden.\"\n",
    "\n"
   ]
  },
  {
   "cell_type": "code",
   "execution_count": 74,
   "metadata": {},
   "outputs": [
    {
     "name": "stdout",
     "output_type": "stream",
     "text": [
      "Contador de géneros:\n",
      "filtered_genres\n",
      "[casual, indie]                                                       4687\n",
      "[action, indie]                                                       4578\n",
      "[action, adventure, indie]                                            3897\n",
      "[adventure, indie]                                                    3240\n",
      "[adventure, casual, indie]                                            2699\n",
      "                                                                      ... \n",
      "[action, adventure, casual, free, to, play, strategy]                    1\n",
      "[casual, indie, rpg, simulation, sports, strategy, free, to, play]       1\n",
      "[action, adventure, indie, rpg, simulation, sports, early, access]       1\n",
      "[sexual, content, nudity, action, adventure, indie, rpg]                 1\n",
      "[adventure, casual, racing, free, to, play]                              1\n",
      "Name: count, Length: 2599, dtype: int64\n",
      "Géneros válidos:\n",
      "Index([                                                                                                 ['casual', 'indie'],\n",
      "                                                                                                        ['action', 'indie'],\n",
      "                                                                                           ['action', 'adventure', 'indie'],\n",
      "                                                                                                     ['adventure', 'indie'],\n",
      "                                                                                           ['adventure', 'casual', 'indie'],\n",
      "                                                                                              ['action', 'casual', 'indie'],\n",
      "                                                                                                                 ['casual'],\n",
      "                                                                                                                  ['indie'],\n",
      "                                                                                                                 ['action'],\n",
      "                                                                                                              ['adventure'],\n",
      "       ...\n",
      "                    ['adventure', 'casual', 'indie', 'massively', 'multiplayer', 'rpg', 'simulation', 'free', 'to', 'play'],\n",
      "                                                         ['indie', 'massively', 'multiplayer', 'rpg', 'free', 'to', 'play'],\n",
      "                                                                                                         ['violent', 'rpg'],\n",
      "                                                                   ['action', 'casual', 'simulation', 'free', 'to', 'play'],\n",
      "                                                                        ['casual', 'indie', 'racing', 'free', 'to', 'play'],\n",
      "                                                                                                          ['rpg', 'sports'],\n",
      "                                             ['casual', 'indie', 'massively', 'multiplayer', 'strategy', 'early', 'access'],\n",
      "              ['action', 'adventure', 'casual', 'indie', 'massively', 'multiplayer', 'racing', 'sports', 'early', 'access'],\n",
      "                                                 ['action', 'indie', 'simulation', 'free', 'to', 'play', 'early', 'access'],\n",
      "       ['action', 'adventure', 'casual', 'massively', 'multiplayer', 'rpg', 'simulation', 'strategy', 'free', 'to', 'play']],\n",
      "      dtype='object', name='filtered_genres', length=1418)\n",
      "Longitud original del DataFrame: 83354\n",
      "Longitud después del filtrado: 82173\n"
     ]
    }
   ],
   "source": [
    "# Suponiendo que df_cleaned es tu DataFrame\n",
    "genre_counts = df_cleaned['filtered_genres'].value_counts()\n",
    "print(\"Contador de géneros:\")\n",
    "print(genre_counts)\n",
    "\n",
    "# Obtener las clases con al menos 2 ejemplos\n",
    "valid_genres = genre_counts[genre_counts >= 2].index\n",
    "print(\"Géneros válidos:\")\n",
    "print(valid_genres)\n",
    "\n",
    "# Filtrar el DataFrame para mantener solo los géneros válidos\n",
    "df_filtered = df_cleaned[df_cleaned['genres'].isin(valid_genres)]\n",
    "\n",
    "# Verificar las longitudes después de la limpieza\n",
    "print(\"Longitud original del DataFrame:\", len(df_cleaned))\n",
    "print(\"Longitud después del filtrado:\", len(df_filtered))"
   ]
  },
  {
   "cell_type": "code",
   "execution_count": 76,
   "metadata": {},
   "outputs": [
    {
     "name": "stdout",
     "output_type": "stream",
     "text": [
      "Géneros válidos después del segundo filtrado:\n",
      "Index(['indie', 'casual', 'action', 'adventure', 'simulation', 'strategy',\n",
      "       'rpg', 'early', 'access', 'free', 'play', 'to', 'sports', 'racing',\n",
      "       'multiplayer', 'massively', 'utilities', 'illustration', 'design',\n",
      "       'production', 'violent', 'animation', 'modeling', 'education', 'video',\n",
      "       'gore', 'audio', 'development', 'game', 'software', 'training', 'photo',\n",
      "       'editing', 'web', 'publishing', 'nudity', 'content', 'sexual',\n",
      "       'accounting'],\n",
      "      dtype='object')\n",
      "Longitud después del segundo filtrado: 82173\n"
     ]
    }
   ],
   "source": [
    "# Contar las clases de géneros en el DataFrame filtrado\n",
    "genre_counts_filtered = df_filtered['filtered_genres'].apply(pd.Series).stack().value_counts()\n",
    "\n",
    "# Identificar géneros con al menos 2 ejemplos\n",
    "valid_filtered_genres = genre_counts_filtered[genre_counts_filtered >= 2].index\n",
    "print(\"Géneros válidos después del segundo filtrado:\")\n",
    "print(valid_filtered_genres)\n",
    "\n",
    "# Filtrar el DataFrame para mantener solo los géneros válidos\n",
    "df_final = df_filtered[df_filtered['filtered_genres'].apply(lambda x: all(genre in valid_filtered_genres for genre in x))]\n",
    "\n",
    "# Verificar las longitudes después del filtrado\n",
    "print(\"Longitud después del segundo filtrado:\", len(df_final))\n"
   ]
  },
  {
   "cell_type": "code",
   "execution_count": 77,
   "metadata": {},
   "outputs": [
    {
     "name": "stdout",
     "output_type": "stream",
     "text": [
      "Número de ejemplos en el conjunto de entrenamiento: 57521\n",
      "Número de ejemplos en el conjunto de prueba: 24652\n"
     ]
    }
   ],
   "source": [
    "from sklearn.model_selection import train_test_split\n",
    "\n",
    "# Dividir los datos en conjuntos de entrenamiento y prueba\n",
    "X_train, X_test, y_train, y_test = train_test_split(\n",
    "    df_final['about_the_game'], \n",
    "    df_final['genres'], \n",
    "    test_size=0.3, \n",
    "    stratify=df_final['filtered_genres'],  # Usar stratify si todas las clases tienen suficientes ejemplos\n",
    "    random_state=42\n",
    ")\n",
    "\n",
    "print(f\"Número de ejemplos en el conjunto de entrenamiento: {len(X_train)}\")\n",
    "print(f\"Número de ejemplos en el conjunto de prueba: {len(X_test)}\")\n"
   ]
  },
  {
   "cell_type": "code",
   "execution_count": 79,
   "metadata": {},
   "outputs": [],
   "source": [
    "mlb = MultiLabelBinarizer()\n",
    "y_train_encoded = mlb.fit_transform(y_train)\n",
    "y_test_encoded = mlb.transform(y_test)"
   ]
  },
  {
   "cell_type": "code",
   "execution_count": 80,
   "metadata": {},
   "outputs": [],
   "source": [
    "# Crear el binarizador de múltiples etiquetas\n",
    "mlb = MultiLabelBinarizer()\n",
    "\n",
    "# Ajustar y transformar los datos de entrenamiento\n",
    "y_train_encoded = mlb.fit_transform(y_train)\n",
    "\n",
    "# Transformar los datos de prueba usando el binarizador ajustado\n",
    "y_test_encoded = mlb.transform(y_test)"
   ]
  },
  {
   "cell_type": "code",
   "execution_count": 82,
   "metadata": {},
   "outputs": [
    {
     "name": "stdout",
     "output_type": "stream",
     "text": [
      "Accuracy: 0.200876196657472\n",
      "Classification Report:\n",
      "              precision    recall  f1-score   support\n",
      "\n",
      "      access       0.69      0.11      0.19      2476\n",
      "  accounting       0.00      0.00      0.00         4\n",
      "      action       0.79      0.71      0.75     10272\n",
      "   adventure       0.72      0.65      0.68      9765\n",
      "   animation       0.62      0.09      0.16        85\n",
      "       audio       1.00      0.09      0.17        43\n",
      "      casual       0.72      0.60      0.66     10516\n",
      "     content       0.00      0.00      0.00        13\n",
      "      design       0.87      0.12      0.20       112\n",
      " development       0.00      0.00      0.00        38\n",
      "       early       0.69      0.11      0.19      2476\n",
      "     editing       0.00      0.00      0.00        24\n",
      "   education       0.00      0.00      0.00        80\n",
      "        free       0.61      0.04      0.08      1961\n",
      "        game       0.00      0.00      0.00        38\n",
      "        gore       0.00      0.00      0.00        59\n",
      "illustration       0.87      0.12      0.20       112\n",
      "       indie       0.77      0.95      0.85     17409\n",
      "   massively       0.84      0.11      0.19       531\n",
      "    modeling       0.62      0.09      0.16        85\n",
      " multiplayer       0.84      0.11      0.19       531\n",
      "      nudity       0.00      0.00      0.00        14\n",
      "       photo       0.00      0.00      0.00        24\n",
      "        play       0.61      0.04      0.08      1961\n",
      "  production       0.86      0.20      0.32        92\n",
      "  publishing       0.00      0.00      0.00        18\n",
      "      racing       0.90      0.46      0.61       876\n",
      "         rpg       0.81      0.46      0.58      4413\n",
      "      sexual       0.00      0.00      0.00        13\n",
      "  simulation       0.77      0.39      0.52      4934\n",
      "    software       0.00      0.00      0.00        34\n",
      "      sports       0.84      0.33      0.47      1078\n",
      "    strategy       0.81      0.45      0.58      4781\n",
      "          to       0.61      0.04      0.08      1961\n",
      "    training       0.00      0.00      0.00        34\n",
      "   utilities       0.83      0.23      0.36       198\n",
      "       video       0.78      0.22      0.34        64\n",
      "     violent       0.00      0.00      0.00        91\n",
      "         web       0.00      0.00      0.00        18\n",
      "\n",
      "   micro avg       0.76      0.57      0.66     77234\n",
      "   macro avg       0.47      0.17      0.22     77234\n",
      "weighted avg       0.75      0.57      0.61     77234\n",
      " samples avg       0.76      0.66      0.66     77234\n",
      "\n"
     ]
    },
    {
     "name": "stderr",
     "output_type": "stream",
     "text": [
      "c:\\Users\\zaloke\\Documents\\python\\Lenguaje_natural\\env\\Lib\\site-packages\\sklearn\\metrics\\_classification.py:1517: UndefinedMetricWarning: Precision is ill-defined and being set to 0.0 in labels with no predicted samples. Use `zero_division` parameter to control this behavior.\n",
      "  _warn_prf(average, modifier, f\"{metric.capitalize()} is\", len(result))\n",
      "c:\\Users\\zaloke\\Documents\\python\\Lenguaje_natural\\env\\Lib\\site-packages\\sklearn\\metrics\\_classification.py:1517: UndefinedMetricWarning: Precision is ill-defined and being set to 0.0 in samples with no predicted labels. Use `zero_division` parameter to control this behavior.\n",
      "  _warn_prf(average, modifier, f\"{metric.capitalize()} is\", len(result))\n"
     ]
    }
   ],
   "source": [
    "from sklearn.feature_extraction.text import TfidfVectorizer\n",
    "from sklearn.linear_model import LogisticRegression\n",
    "from sklearn.pipeline import Pipeline\n",
    "from sklearn.multioutput import MultiOutputClassifier\n",
    "# Crear el pipeline\n",
    "pipeline = Pipeline([\n",
    "    ('vectorizer', TfidfVectorizer()),\n",
    "    ('classifier', MultiOutputClassifier(LogisticRegression(max_iter=1000)))\n",
    "])\n",
    "\n",
    "# Entrenar el modelo\n",
    "pipeline.fit(X_train, y_train_encoded)\n",
    "\n",
    "# Predecir y evaluar\n",
    "y_pred = pipeline.predict(X_test)\n",
    "\n",
    "# Convertir predicciones binarizadas de nuevo a formato original\n",
    "y_pred_labels = mlb.inverse_transform(y_pred)\n",
    "y_test_labels = mlb.inverse_transform(y_test_encoded)\n",
    "\n",
    "from sklearn.metrics import accuracy_score, classification_report\n",
    "\n",
    "# Para evaluar, necesitarás adaptar el cálculo de la precisión y el reporte\n",
    "# Aquí hay un ejemplo simple para precisión promedio\n",
    "accuracy = accuracy_score(y_test_encoded, y_pred)\n",
    "report = classification_report(y_test_encoded, y_pred, target_names=mlb.classes_)\n",
    "\n",
    "print(f'Accuracy: {accuracy}')\n",
    "print('Classification Report:')\n",
    "print(report)"
   ]
  },
  {
   "cell_type": "code",
   "execution_count": 85,
   "metadata": {},
   "outputs": [
    {
     "name": "stderr",
     "output_type": "stream",
     "text": [
      "c:\\Users\\zaloke\\Documents\\python\\Lenguaje_natural\\env\\Lib\\site-packages\\sklearn\\metrics\\_classification.py:1517: UndefinedMetricWarning: Precision is ill-defined and being set to 0.0 in labels with no predicted samples. Use `zero_division` parameter to control this behavior.\n",
      "  _warn_prf(average, modifier, f\"{metric.capitalize()} is\", len(result))\n",
      "c:\\Users\\zaloke\\Documents\\python\\Lenguaje_natural\\env\\Lib\\site-packages\\sklearn\\metrics\\_classification.py:1517: UndefinedMetricWarning: Precision is ill-defined and being set to 0.0 in samples with no predicted labels. Use `zero_division` parameter to control this behavior.\n",
      "  _warn_prf(average, modifier, f\"{metric.capitalize()} is\", len(result))\n"
     ]
    },
    {
     "data": {
      "image/png": "[encoded data removed]",
      "text/plain": [
       "<Figure size 1200x800 with 1 Axes>"
      ]
     },
     "metadata": {},
     "output_type": "display_data"
    }
   ],
   "source": [
    "import matplotlib.pyplot as plt\n",
    "import numpy as np\n",
    "from sklearn.metrics import classification_report\n",
    "\n",
    "def plot_good_performance_classes(y_true, y_pred, mlb, threshold=0.6):\n",
    "    # Generar el reporte de clasificación\n",
    "    report = classification_report(y_true, y_pred, target_names=mlb.classes_, output_dict=True)\n",
    "    \n",
    "    # Filtrar las clases con buen rendimiento\n",
    "    good_classes = {cls: metrics for cls, metrics in report.items() if isinstance(metrics, dict) and metrics['f1-score'] >= threshold}\n",
    "    \n",
    "    # Extraer los nombres de las clases y las métricas\n",
    "    classes = list(good_classes.keys())\n",
    "    precision = [good_classes[cls]['precision'] for cls in classes]\n",
    "    recall = [good_classes[cls]['recall'] for cls in classes]\n",
    "    f1_score = [good_classes[cls]['f1-score'] for cls in classes]\n",
    "    \n",
    "    # Configurar la gráfica\n",
    "    x = np.arange(len(classes))\n",
    "    width = 0.2\n",
    "    \n",
    "    fig, ax = plt.subplots(figsize=(12, 8))\n",
    "    ax.bar(x - width, precision, width, label='Precision')\n",
    "    ax.bar(x, recall, width, label='Recall')\n",
    "    ax.bar(x + width, f1_score, width, label='F1-score')\n",
    "    \n",
    "    # Añadir etiquetas y título\n",
    "    ax.set_xlabel('Classes')\n",
    "    ax.set_ylabel('Scores')\n",
    "    ax.set_title('Performance of Good Classes')\n",
    "    ax.set_xticks(x)\n",
    "    ax.set_xticklabels(classes, rotation=45, ha='right')\n",
    "    ax.legend()\n",
    "    \n",
    "    # Mostrar la gráfica\n",
    "    plt.tight_layout()\n",
    "    plt.show()\n",
    "\n",
    "# Ejemplo de uso\n",
    "plot_good_performance_classes(y_test_encoded, y_pred, mlb)"
   ]
  }
 ],
 "metadata": {
  "kernelspec": {
   "display_name": "env",
   "language": "python",
   "name": "python3"
  },
  "language_info": {
   "codemirror_mode": {
    "name": "ipython",
    "version": 3
   },
   "file_extension": ".py",
   "mimetype": "text/x-python",
   "name": "python",
   "nbconvert_exporter": "python",
   "pygments_lexer": "ipython3",
   "version": "3.11.9"
  }
 },
 "nbformat": 4,
 "nbformat_minor": 2
}
